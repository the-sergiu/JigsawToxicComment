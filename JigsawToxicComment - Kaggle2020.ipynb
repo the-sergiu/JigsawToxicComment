{
 "cells": [
  {
   "cell_type": "markdown",
   "metadata": {
    "colab_type": "text",
    "id": "tjCQwwdR50bW"
   },
   "source": [
    "# Set-up Google Drive and Fast.ai"
   ]
  },
  {
   "cell_type": "code",
   "execution_count": 1,
   "metadata": {
    "colab": {
     "base_uri": "https://localhost:8080/",
     "height": 34
    },
    "colab_type": "code",
    "executionInfo": {
     "elapsed": 1723,
     "status": "ok",
     "timestamp": 1591453236040,
     "user": {
      "displayName": "Sergiu C",
      "photoUrl": "https://lh3.googleusercontent.com/a-/AOh14GhfqiW02ba2m04oUe7wNwz56AyLNmv59N1G4krbHIc=s64",
      "userId": "11087898073562528768"
     },
     "user_tz": -180
    },
    "id": "1Ki5iaeJt0WW",
    "outputId": "7397e61d-c784-4851-f7a1-0384e3f614a2"
   },
   "outputs": [
    {
     "name": "stdout",
     "output_type": "stream",
     "text": [
      "Mounted at /content/gdrive\n"
     ]
    }
   ],
   "source": [
    "from google.colab import drive\n",
    "drive.mount('/content/gdrive', force_remount=True)"
   ]
  },
  {
   "cell_type": "code",
   "execution_count": 0,
   "metadata": {
    "colab": {},
    "colab_type": "code",
    "id": "YaOPwFWtufof"
   },
   "outputs": [],
   "source": [
    "%reload_ext autoreload\n",
    "%autoreload 2\n",
    "%matplotlib inline"
   ]
  },
  {
   "cell_type": "code",
   "execution_count": 0,
   "metadata": {
    "colab": {},
    "colab_type": "code",
    "id": "pZTnXsdQuqaD"
   },
   "outputs": [],
   "source": [
    "from fastai.text import *\n",
    "from fastai.callbacks import *\n",
    "from fastai.utils import *\n",
    "from fastai.callbacks.mem import PeakMemMetric\n",
    "\n",
    "import warnings\n",
    "warnings.filterwarnings(\"ignore\")"
   ]
  },
  {
   "cell_type": "code",
   "execution_count": 4,
   "metadata": {
    "colab": {
     "base_uri": "https://localhost:8080/",
     "height": 986
    },
    "colab_type": "code",
    "executionInfo": {
     "elapsed": 8209,
     "status": "ok",
     "timestamp": 1591442286135,
     "user": {
      "displayName": "Sergiu C",
      "photoUrl": "https://lh3.googleusercontent.com/a-/AOh14GhfqiW02ba2m04oUe7wNwz56AyLNmv59N1G4krbHIc=s64",
      "userId": "11087898073562528768"
     },
     "user_tz": -180
    },
    "id": "7l3WxdZju3BT",
    "outputId": "53600f0c-39e4-4da7-d328-87b3feaced6f"
   },
   "outputs": [
    {
     "name": "stdout",
     "output_type": "stream",
     "text": [
      "\n",
      "\n",
      "```text\n",
      "=== Software === \n",
      "python        : 3.6.9\n",
      "fastai        : 1.0.61\n",
      "fastprogress  : 0.2.3\n",
      "torch         : 1.5.0+cu101\n",
      "nvidia driver : 418.67\n",
      "torch cuda    : 10.1 / is available\n",
      "torch cudnn   : 7603 / is enabled\n",
      "\n",
      "=== Hardware === \n",
      "nvidia gpus   : 1\n",
      "torch devices : 1\n",
      "  - gpu0      : 15079MB | Tesla T4\n",
      "\n",
      "=== Environment === \n",
      "platform      : Linux-4.19.104+-x86_64-with-Ubuntu-18.04-bionic\n",
      "distro        : #1 SMP Wed Feb 19 05:26:34 PST 2020\n",
      "conda env     : Unknown\n",
      "python        : /usr/bin/python3\n",
      "sys.path      : \n",
      "/env/python\n",
      "/usr/lib/python36.zip\n",
      "/usr/lib/python3.6\n",
      "/usr/lib/python3.6/lib-dynload\n",
      "/usr/local/lib/python3.6/dist-packages\n",
      "/usr/lib/python3/dist-packages\n",
      "/usr/local/lib/python3.6/dist-packages/IPython/extensions\n",
      "/root/.ipython\n",
      "\n",
      "Sat Jun  6 11:18:04 2020       \n",
      "+-----------------------------------------------------------------------------+\n",
      "| NVIDIA-SMI 440.82       Driver Version: 418.67       CUDA Version: 10.1     |\n",
      "|-------------------------------+----------------------+----------------------+\n",
      "| GPU  Name        Persistence-M| Bus-Id        Disp.A | Volatile Uncorr. ECC |\n",
      "| Fan  Temp  Perf  Pwr:Usage/Cap|         Memory-Usage | GPU-Util  Compute M. |\n",
      "|===============================+======================+======================|\n",
      "|   0  Tesla T4            Off  | 00000000:00:04.0 Off |                    0 |\n",
      "| N/A   56C    P8    10W /  70W |     10MiB / 15079MiB |      0%      Default |\n",
      "+-------------------------------+----------------------+----------------------+\n",
      "                                                                               \n",
      "+-----------------------------------------------------------------------------+\n",
      "| Processes:                                                       GPU Memory |\n",
      "|  GPU       PID   Type   Process name                             Usage      |\n",
      "|=============================================================================|\n",
      "|  No running processes found                                                 |\n",
      "+-----------------------------------------------------------------------------+\n",
      "\n",
      "```\n",
      "\n",
      "Please make sure to include opening/closing ``` when you paste into forums/github to make the reports appear formatted as code sections.\n",
      "\n",
      "Optional package(s) to enhance the diagnostics can be installed with:\n",
      "pip install distro\n",
      "Once installed, re-run this utility to get the additional information\n"
     ]
    }
   ],
   "source": [
    "show_install(show_nvidia_smi = True)"
   ]
  },
  {
   "cell_type": "markdown",
   "metadata": {
    "colab_type": "text",
    "id": "SDTOyiiQ5b52"
   },
   "source": [
    "# Data Manipulation"
   ]
  },
  {
   "cell_type": "markdown",
   "metadata": {
    "colab_type": "text",
    "id": "8uoq3_Eq6I6N"
   },
   "source": [
    "### Set paths"
   ]
  },
  {
   "cell_type": "code",
   "execution_count": 4,
   "metadata": {
    "colab": {
     "base_uri": "https://localhost:8080/",
     "height": 187
    },
    "colab_type": "code",
    "executionInfo": {
     "elapsed": 611,
     "status": "ok",
     "timestamp": 1591453245597,
     "user": {
      "displayName": "Sergiu C",
      "photoUrl": "https://lh3.googleusercontent.com/a-/AOh14GhfqiW02ba2m04oUe7wNwz56AyLNmv59N1G4krbHIc=s64",
      "userId": "11087898073562528768"
     },
     "user_tz": -180
    },
    "id": "2PQ9Iyjvu5jL",
    "outputId": "517bad63-411f-47f8-bc14-d402aa007053"
   },
   "outputs": [
    {
     "data": {
      "text/plain": [
       "[PosixPath('/content/gdrive/My Drive/JigsawToxicComments-Kaggle2020/input/jigsaw-toxic-comment-train-processed-seqlen128.csv'),\n",
       " PosixPath('/content/gdrive/My Drive/JigsawToxicComments-Kaggle2020/input/jigsaw-toxic-comment-train.csv'),\n",
       " PosixPath('/content/gdrive/My Drive/JigsawToxicComments-Kaggle2020/input/jigsaw-unintended-bias-train-processed-seqlen128.csv'),\n",
       " PosixPath('/content/gdrive/My Drive/JigsawToxicComments-Kaggle2020/input/jigsaw-unintended-bias-train.csv'),\n",
       " PosixPath('/content/gdrive/My Drive/JigsawToxicComments-Kaggle2020/input/sample_submission.csv'),\n",
       " PosixPath('/content/gdrive/My Drive/JigsawToxicComments-Kaggle2020/input/test-processed-seqlen128.csv'),\n",
       " PosixPath('/content/gdrive/My Drive/JigsawToxicComments-Kaggle2020/input/validation.csv'),\n",
       " PosixPath('/content/gdrive/My Drive/JigsawToxicComments-Kaggle2020/input/validation-processed-seqlen128.csv'),\n",
       " PosixPath('/content/gdrive/My Drive/JigsawToxicComments-Kaggle2020/input/test.csv'),\n",
       " PosixPath('/content/gdrive/My Drive/JigsawToxicComments-Kaggle2020/input/lm_text.csv')]"
      ]
     },
     "execution_count": 4,
     "metadata": {
      "tags": []
     },
     "output_type": "execute_result"
    }
   ],
   "source": [
    "path_in = Path(\"/content/gdrive/My Drive/JigsawToxicComments-Kaggle2020/input\")\n",
    "path_out = Path(\"/content/gdrive/My Drive/JigsawToxicComments-Kaggle2020/output\")\n",
    "path_mod = Path(\"/content/gdrive/My Drive/JigsawToxicComments-Kaggle2020/model\")\n",
    "path_in.ls()"
   ]
  },
  {
   "cell_type": "markdown",
   "metadata": {
    "colab_type": "text",
    "id": "wRnQu5uV6NhM"
   },
   "source": [
    "### Training set"
   ]
  },
  {
   "cell_type": "code",
   "execution_count": 5,
   "metadata": {
    "colab": {
     "base_uri": "https://localhost:8080/",
     "height": 221
    },
    "colab_type": "code",
    "executionInfo": {
     "elapsed": 1855,
     "status": "ok",
     "timestamp": 1591453248959,
     "user": {
      "displayName": "Sergiu C",
      "photoUrl": "https://lh3.googleusercontent.com/a-/AOh14GhfqiW02ba2m04oUe7wNwz56AyLNmv59N1G4krbHIc=s64",
      "userId": "11087898073562528768"
     },
     "user_tz": -180
    },
    "id": "NSaJ61fa2oyr",
    "outputId": "65abf34a-0671-4ad3-eccb-cfc7bcbbd77d"
   },
   "outputs": [
    {
     "name": "stdout",
     "output_type": "stream",
     "text": [
      "223549\n"
     ]
    },
    {
     "data": {
      "text/html": [
       "<div>\n",
       "<style scoped>\n",
       "    .dataframe tbody tr th:only-of-type {\n",
       "        vertical-align: middle;\n",
       "    }\n",
       "\n",
       "    .dataframe tbody tr th {\n",
       "        vertical-align: top;\n",
       "    }\n",
       "\n",
       "    .dataframe thead th {\n",
       "        text-align: right;\n",
       "    }\n",
       "</style>\n",
       "<table border=\"1\" class=\"dataframe\">\n",
       "  <thead>\n",
       "    <tr style=\"text-align: right;\">\n",
       "      <th></th>\n",
       "      <th>id</th>\n",
       "      <th>comment_text</th>\n",
       "      <th>toxic</th>\n",
       "      <th>severe_toxic</th>\n",
       "      <th>obscene</th>\n",
       "      <th>threat</th>\n",
       "      <th>insult</th>\n",
       "      <th>identity_hate</th>\n",
       "    </tr>\n",
       "  </thead>\n",
       "  <tbody>\n",
       "    <tr>\n",
       "      <th>0</th>\n",
       "      <td>0000997932d777bf</td>\n",
       "      <td>Explanation\\nWhy the edits made under my usern...</td>\n",
       "      <td>0</td>\n",
       "      <td>0</td>\n",
       "      <td>0</td>\n",
       "      <td>0</td>\n",
       "      <td>0</td>\n",
       "      <td>0</td>\n",
       "    </tr>\n",
       "    <tr>\n",
       "      <th>1</th>\n",
       "      <td>000103f0d9cfb60f</td>\n",
       "      <td>D'aww! He matches this background colour I'm s...</td>\n",
       "      <td>0</td>\n",
       "      <td>0</td>\n",
       "      <td>0</td>\n",
       "      <td>0</td>\n",
       "      <td>0</td>\n",
       "      <td>0</td>\n",
       "    </tr>\n",
       "    <tr>\n",
       "      <th>2</th>\n",
       "      <td>000113f07ec002fd</td>\n",
       "      <td>Hey man, I'm really not trying to edit war. It...</td>\n",
       "      <td>0</td>\n",
       "      <td>0</td>\n",
       "      <td>0</td>\n",
       "      <td>0</td>\n",
       "      <td>0</td>\n",
       "      <td>0</td>\n",
       "    </tr>\n",
       "    <tr>\n",
       "      <th>3</th>\n",
       "      <td>0001b41b1c6bb37e</td>\n",
       "      <td>\"\\nMore\\nI can't make any real suggestions on ...</td>\n",
       "      <td>0</td>\n",
       "      <td>0</td>\n",
       "      <td>0</td>\n",
       "      <td>0</td>\n",
       "      <td>0</td>\n",
       "      <td>0</td>\n",
       "    </tr>\n",
       "    <tr>\n",
       "      <th>4</th>\n",
       "      <td>0001d958c54c6e35</td>\n",
       "      <td>You, sir, are my hero. Any chance you remember...</td>\n",
       "      <td>0</td>\n",
       "      <td>0</td>\n",
       "      <td>0</td>\n",
       "      <td>0</td>\n",
       "      <td>0</td>\n",
       "      <td>0</td>\n",
       "    </tr>\n",
       "  </tbody>\n",
       "</table>\n",
       "</div>"
      ],
      "text/plain": [
       "                 id  ... identity_hate\n",
       "0  0000997932d777bf  ...             0\n",
       "1  000103f0d9cfb60f  ...             0\n",
       "2  000113f07ec002fd  ...             0\n",
       "3  0001b41b1c6bb37e  ...             0\n",
       "4  0001d958c54c6e35  ...             0\n",
       "\n",
       "[5 rows x 8 columns]"
      ]
     },
     "execution_count": 5,
     "metadata": {
      "tags": []
     },
     "output_type": "execute_result"
    }
   ],
   "source": [
    "train_df = pd.read_csv(path_in/\"jigsaw-toxic-comment-train.csv\")\n",
    "print(len(train_df))\n",
    "train_df.head()"
   ]
  },
  {
   "cell_type": "markdown",
   "metadata": {
    "colab_type": "text",
    "id": "NH5gDemH43g2"
   },
   "source": [
    "### Sample Training set (10%)"
   ]
  },
  {
   "cell_type": "code",
   "execution_count": 6,
   "metadata": {
    "colab": {
     "base_uri": "https://localhost:8080/",
     "height": 221
    },
    "colab_type": "code",
    "executionInfo": {
     "elapsed": 632,
     "status": "ok",
     "timestamp": 1591453249212,
     "user": {
      "displayName": "Sergiu C",
      "photoUrl": "https://lh3.googleusercontent.com/a-/AOh14GhfqiW02ba2m04oUe7wNwz56AyLNmv59N1G4krbHIc=s64",
      "userId": "11087898073562528768"
     },
     "user_tz": -180
    },
    "id": "b3GW8qXe3jna",
    "outputId": "3f4bddfc-fa49-431b-f2e8-8aa3d195ad51"
   },
   "outputs": [
    {
     "name": "stdout",
     "output_type": "stream",
     "text": [
      "44500\n"
     ]
    },
    {
     "data": {
      "text/html": [
       "<div>\n",
       "<style scoped>\n",
       "    .dataframe tbody tr th:only-of-type {\n",
       "        vertical-align: middle;\n",
       "    }\n",
       "\n",
       "    .dataframe tbody tr th {\n",
       "        vertical-align: top;\n",
       "    }\n",
       "\n",
       "    .dataframe thead th {\n",
       "        text-align: right;\n",
       "    }\n",
       "</style>\n",
       "<table border=\"1\" class=\"dataframe\">\n",
       "  <thead>\n",
       "    <tr style=\"text-align: right;\">\n",
       "      <th></th>\n",
       "      <th>id</th>\n",
       "      <th>comment_text</th>\n",
       "      <th>toxic</th>\n",
       "      <th>severe_toxic</th>\n",
       "      <th>obscene</th>\n",
       "      <th>threat</th>\n",
       "      <th>insult</th>\n",
       "      <th>identity_hate</th>\n",
       "    </tr>\n",
       "  </thead>\n",
       "  <tbody>\n",
       "    <tr>\n",
       "      <th>0</th>\n",
       "      <td>0000997932d777bf</td>\n",
       "      <td>Explanation\\nWhy the edits made under my usern...</td>\n",
       "      <td>0</td>\n",
       "      <td>0</td>\n",
       "      <td>0</td>\n",
       "      <td>0</td>\n",
       "      <td>0</td>\n",
       "      <td>0</td>\n",
       "    </tr>\n",
       "    <tr>\n",
       "      <th>1</th>\n",
       "      <td>000103f0d9cfb60f</td>\n",
       "      <td>D'aww! He matches this background colour I'm s...</td>\n",
       "      <td>0</td>\n",
       "      <td>0</td>\n",
       "      <td>0</td>\n",
       "      <td>0</td>\n",
       "      <td>0</td>\n",
       "      <td>0</td>\n",
       "    </tr>\n",
       "    <tr>\n",
       "      <th>2</th>\n",
       "      <td>000113f07ec002fd</td>\n",
       "      <td>Hey man, I'm really not trying to edit war. It...</td>\n",
       "      <td>0</td>\n",
       "      <td>0</td>\n",
       "      <td>0</td>\n",
       "      <td>0</td>\n",
       "      <td>0</td>\n",
       "      <td>0</td>\n",
       "    </tr>\n",
       "    <tr>\n",
       "      <th>3</th>\n",
       "      <td>0001b41b1c6bb37e</td>\n",
       "      <td>\"\\nMore\\nI can't make any real suggestions on ...</td>\n",
       "      <td>0</td>\n",
       "      <td>0</td>\n",
       "      <td>0</td>\n",
       "      <td>0</td>\n",
       "      <td>0</td>\n",
       "      <td>0</td>\n",
       "    </tr>\n",
       "    <tr>\n",
       "      <th>4</th>\n",
       "      <td>0001d958c54c6e35</td>\n",
       "      <td>You, sir, are my hero. Any chance you remember...</td>\n",
       "      <td>0</td>\n",
       "      <td>0</td>\n",
       "      <td>0</td>\n",
       "      <td>0</td>\n",
       "      <td>0</td>\n",
       "      <td>0</td>\n",
       "    </tr>\n",
       "  </tbody>\n",
       "</table>\n",
       "</div>"
      ],
      "text/plain": [
       "                 id  ... identity_hate\n",
       "0  0000997932d777bf  ...             0\n",
       "1  000103f0d9cfb60f  ...             0\n",
       "2  000113f07ec002fd  ...             0\n",
       "3  0001b41b1c6bb37e  ...             0\n",
       "4  0001d958c54c6e35  ...             0\n",
       "\n",
       "[5 rows x 8 columns]"
      ]
     },
     "execution_count": 6,
     "metadata": {
      "tags": []
     },
     "output_type": "execute_result"
    }
   ],
   "source": [
    "# Extract a sample from the whole training set.\n",
    "sample_train_df = train_df[0:44500]\n",
    "print(len(sample_train_df))\n",
    "sample_train_df.head()"
   ]
  },
  {
   "cell_type": "code",
   "execution_count": 7,
   "metadata": {
    "colab": {
     "base_uri": "https://localhost:8080/",
     "height": 68
    },
    "colab_type": "code",
    "executionInfo": {
     "elapsed": 586,
     "status": "ok",
     "timestamp": 1591453250816,
     "user": {
      "displayName": "Sergiu C",
      "photoUrl": "https://lh3.googleusercontent.com/a-/AOh14GhfqiW02ba2m04oUe7wNwz56AyLNmv59N1G4krbHIc=s64",
      "userId": "11087898073562528768"
     },
     "user_tz": -180
    },
    "id": "8tREyNWu31T5",
    "outputId": "e4a6e98d-616d-4a55-a5b8-0deb343f883c"
   },
   "outputs": [
    {
     "data": {
      "text/plain": [
       "0    40129\n",
       "1     4371\n",
       "Name: toxic, dtype: int64"
      ]
     },
     "execution_count": 7,
     "metadata": {
      "tags": []
     },
     "output_type": "execute_result"
    }
   ],
   "source": [
    "sample_train_df.toxic.value_counts()"
   ]
  },
  {
   "cell_type": "markdown",
   "metadata": {
    "colab_type": "text",
    "id": "XQxDBKCz6eWz"
   },
   "source": [
    "### Validation Set"
   ]
  },
  {
   "cell_type": "code",
   "execution_count": 8,
   "metadata": {
    "colab": {
     "base_uri": "https://localhost:8080/",
     "height": 221
    },
    "colab_type": "code",
    "executionInfo": {
     "elapsed": 633,
     "status": "ok",
     "timestamp": 1591453253573,
     "user": {
      "displayName": "Sergiu C",
      "photoUrl": "https://lh3.googleusercontent.com/a-/AOh14GhfqiW02ba2m04oUe7wNwz56AyLNmv59N1G4krbHIc=s64",
      "userId": "11087898073562528768"
     },
     "user_tz": -180
    },
    "id": "vgalulbY5Pn-",
    "outputId": "0a45296e-7896-46f0-99b0-711f96f463fe"
   },
   "outputs": [
    {
     "name": "stdout",
     "output_type": "stream",
     "text": [
      "8000\n"
     ]
    },
    {
     "data": {
      "text/html": [
       "<div>\n",
       "<style scoped>\n",
       "    .dataframe tbody tr th:only-of-type {\n",
       "        vertical-align: middle;\n",
       "    }\n",
       "\n",
       "    .dataframe tbody tr th {\n",
       "        vertical-align: top;\n",
       "    }\n",
       "\n",
       "    .dataframe thead th {\n",
       "        text-align: right;\n",
       "    }\n",
       "</style>\n",
       "<table border=\"1\" class=\"dataframe\">\n",
       "  <thead>\n",
       "    <tr style=\"text-align: right;\">\n",
       "      <th></th>\n",
       "      <th>id</th>\n",
       "      <th>comment_text</th>\n",
       "      <th>lang</th>\n",
       "      <th>toxic</th>\n",
       "    </tr>\n",
       "  </thead>\n",
       "  <tbody>\n",
       "    <tr>\n",
       "      <th>0</th>\n",
       "      <td>0</td>\n",
       "      <td>Este usuario ni siquiera llega al rango de    ...</td>\n",
       "      <td>es</td>\n",
       "      <td>0</td>\n",
       "    </tr>\n",
       "    <tr>\n",
       "      <th>1</th>\n",
       "      <td>1</td>\n",
       "      <td>Il testo di questa voce pare esser scopiazzato...</td>\n",
       "      <td>it</td>\n",
       "      <td>0</td>\n",
       "    </tr>\n",
       "    <tr>\n",
       "      <th>2</th>\n",
       "      <td>2</td>\n",
       "      <td>Vale. Sólo expongo mi pasado. Todo tiempo pasa...</td>\n",
       "      <td>es</td>\n",
       "      <td>1</td>\n",
       "    </tr>\n",
       "    <tr>\n",
       "      <th>3</th>\n",
       "      <td>3</td>\n",
       "      <td>Bu maddenin alt başlığı olarak  uluslararası i...</td>\n",
       "      <td>tr</td>\n",
       "      <td>0</td>\n",
       "    </tr>\n",
       "    <tr>\n",
       "      <th>4</th>\n",
       "      <td>4</td>\n",
       "      <td>Belçika nın şehirlerinin yanında ilçe ve belde...</td>\n",
       "      <td>tr</td>\n",
       "      <td>0</td>\n",
       "    </tr>\n",
       "  </tbody>\n",
       "</table>\n",
       "</div>"
      ],
      "text/plain": [
       "   id                                       comment_text lang  toxic\n",
       "0   0  Este usuario ni siquiera llega al rango de    ...   es      0\n",
       "1   1  Il testo di questa voce pare esser scopiazzato...   it      0\n",
       "2   2  Vale. Sólo expongo mi pasado. Todo tiempo pasa...   es      1\n",
       "3   3  Bu maddenin alt başlığı olarak  uluslararası i...   tr      0\n",
       "4   4  Belçika nın şehirlerinin yanında ilçe ve belde...   tr      0"
      ]
     },
     "execution_count": 8,
     "metadata": {
      "tags": []
     },
     "output_type": "execute_result"
    }
   ],
   "source": [
    "valid_df = pd.read_csv(path_in/\"validation.csv\")\n",
    "print(len(valid_df))\n",
    "valid_df.head()"
   ]
  },
  {
   "cell_type": "code",
   "execution_count": 9,
   "metadata": {
    "colab": {
     "base_uri": "https://localhost:8080/",
     "height": 136
    },
    "colab_type": "code",
    "executionInfo": {
     "elapsed": 570,
     "status": "ok",
     "timestamp": 1591453254958,
     "user": {
      "displayName": "Sergiu C",
      "photoUrl": "https://lh3.googleusercontent.com/a-/AOh14GhfqiW02ba2m04oUe7wNwz56AyLNmv59N1G4krbHIc=s64",
      "userId": "11087898073562528768"
     },
     "user_tz": -180
    },
    "id": "JBLIMcDl5TE1",
    "outputId": "3e3d27e9-d996-4eeb-f7ad-ada74ed5b371"
   },
   "outputs": [
    {
     "name": "stdout",
     "output_type": "stream",
     "text": [
      "tr    3000\n",
      "it    2500\n",
      "es    2500\n",
      "Name: lang, dtype: int64\n",
      "0    6770\n",
      "1    1230\n",
      "Name: toxic, dtype: int64\n"
     ]
    }
   ],
   "source": [
    "print(valid_df.lang.value_counts())\n",
    "print(valid_df.toxic.value_counts())"
   ]
  },
  {
   "cell_type": "markdown",
   "metadata": {
    "colab_type": "text",
    "id": "ChWOPyF46qZs"
   },
   "source": [
    "### Test set"
   ]
  },
  {
   "cell_type": "code",
   "execution_count": 10,
   "metadata": {
    "colab": {
     "base_uri": "https://localhost:8080/",
     "height": 221
    },
    "colab_type": "code",
    "executionInfo": {
     "elapsed": 759,
     "status": "ok",
     "timestamp": 1591453257049,
     "user": {
      "displayName": "Sergiu C",
      "photoUrl": "https://lh3.googleusercontent.com/a-/AOh14GhfqiW02ba2m04oUe7wNwz56AyLNmv59N1G4krbHIc=s64",
      "userId": "11087898073562528768"
     },
     "user_tz": -180
    },
    "id": "gcyQqyE_5XvG",
    "outputId": "102ded56-6342-48da-85cf-ee669e51587b"
   },
   "outputs": [
    {
     "name": "stdout",
     "output_type": "stream",
     "text": [
      "63812\n"
     ]
    },
    {
     "data": {
      "text/html": [
       "<div>\n",
       "<style scoped>\n",
       "    .dataframe tbody tr th:only-of-type {\n",
       "        vertical-align: middle;\n",
       "    }\n",
       "\n",
       "    .dataframe tbody tr th {\n",
       "        vertical-align: top;\n",
       "    }\n",
       "\n",
       "    .dataframe thead th {\n",
       "        text-align: right;\n",
       "    }\n",
       "</style>\n",
       "<table border=\"1\" class=\"dataframe\">\n",
       "  <thead>\n",
       "    <tr style=\"text-align: right;\">\n",
       "      <th></th>\n",
       "      <th>id</th>\n",
       "      <th>content</th>\n",
       "      <th>lang</th>\n",
       "    </tr>\n",
       "  </thead>\n",
       "  <tbody>\n",
       "    <tr>\n",
       "      <th>0</th>\n",
       "      <td>0</td>\n",
       "      <td>Doctor Who adlı viki başlığına 12. doctor olar...</td>\n",
       "      <td>tr</td>\n",
       "    </tr>\n",
       "    <tr>\n",
       "      <th>1</th>\n",
       "      <td>1</td>\n",
       "      <td>Вполне возможно, но я пока не вижу необходимо...</td>\n",
       "      <td>ru</td>\n",
       "    </tr>\n",
       "    <tr>\n",
       "      <th>2</th>\n",
       "      <td>2</td>\n",
       "      <td>Quindi tu sei uno di quelli   conservativi  , ...</td>\n",
       "      <td>it</td>\n",
       "    </tr>\n",
       "    <tr>\n",
       "      <th>3</th>\n",
       "      <td>3</td>\n",
       "      <td>Malesef gerçekleştirilmedi ancak şöyle bir şey...</td>\n",
       "      <td>tr</td>\n",
       "    </tr>\n",
       "    <tr>\n",
       "      <th>4</th>\n",
       "      <td>4</td>\n",
       "      <td>:Resim:Seldabagcan.jpg resminde kaynak sorunu ...</td>\n",
       "      <td>tr</td>\n",
       "    </tr>\n",
       "  </tbody>\n",
       "</table>\n",
       "</div>"
      ],
      "text/plain": [
       "   id                                            content lang\n",
       "0   0  Doctor Who adlı viki başlığına 12. doctor olar...   tr\n",
       "1   1   Вполне возможно, но я пока не вижу необходимо...   ru\n",
       "2   2  Quindi tu sei uno di quelli   conservativi  , ...   it\n",
       "3   3  Malesef gerçekleştirilmedi ancak şöyle bir şey...   tr\n",
       "4   4  :Resim:Seldabagcan.jpg resminde kaynak sorunu ...   tr"
      ]
     },
     "execution_count": 10,
     "metadata": {
      "tags": []
     },
     "output_type": "execute_result"
    }
   ],
   "source": [
    "test_df = pd.read_csv(path_in/\"test.csv\")\n",
    "print(len(test_df))\n",
    "test_df.head()"
   ]
  },
  {
   "cell_type": "code",
   "execution_count": 11,
   "metadata": {
    "colab": {
     "base_uri": "https://localhost:8080/",
     "height": 85
    },
    "colab_type": "code",
    "executionInfo": {
     "elapsed": 571,
     "status": "ok",
     "timestamp": 1591453258393,
     "user": {
      "displayName": "Sergiu C",
      "photoUrl": "https://lh3.googleusercontent.com/a-/AOh14GhfqiW02ba2m04oUe7wNwz56AyLNmv59N1G4krbHIc=s64",
      "userId": "11087898073562528768"
     },
     "user_tz": -180
    },
    "id": "m9yCgLbV6pti",
    "outputId": "4135a7bb-4a5a-44b3-ae40-9f27ade03d15"
   },
   "outputs": [
    {
     "name": "stdout",
     "output_type": "stream",
     "text": [
      "tr    3000\n",
      "it    2500\n",
      "es    2500\n",
      "Name: lang, dtype: int64\n"
     ]
    }
   ],
   "source": [
    "print(valid_df.lang.value_counts())"
   ]
  },
  {
   "cell_type": "code",
   "execution_count": 13,
   "metadata": {
    "colab": {
     "base_uri": "https://localhost:8080/",
     "height": 34
    },
    "colab_type": "code",
    "executionInfo": {
     "elapsed": 8892,
     "status": "ok",
     "timestamp": 1591442294654,
     "user": {
      "displayName": "Sergiu C",
      "photoUrl": "https://lh3.googleusercontent.com/a-/AOh14GhfqiW02ba2m04oUe7wNwz56AyLNmv59N1G4krbHIc=s64",
      "userId": "11087898073562528768"
     },
     "user_tz": -180
    },
    "id": "B6veuuTy6ySW",
    "outputId": "848891db-f54e-48cb-d3b9-2dde76794572"
   },
   "outputs": [
    {
     "name": "stdout",
     "output_type": "stream",
     "text": [
      "223549 8000 63812\n"
     ]
    }
   ],
   "source": [
    "print(len(train_df), len(valid_df), len(test_df)) "
   ]
  },
  {
   "cell_type": "markdown",
   "metadata": {
    "colab_type": "text",
    "id": "85Uea_VF8Gz5"
   },
   "source": [
    "### Constructing Train DataFrame"
   ]
  },
  {
   "cell_type": "code",
   "execution_count": 12,
   "metadata": {
    "colab": {
     "base_uri": "https://localhost:8080/",
     "height": 204
    },
    "colab_type": "code",
    "executionInfo": {
     "elapsed": 20034,
     "status": "ok",
     "timestamp": 1591453281769,
     "user": {
      "displayName": "Sergiu C",
      "photoUrl": "https://lh3.googleusercontent.com/a-/AOh14GhfqiW02ba2m04oUe7wNwz56AyLNmv59N1G4krbHIc=s64",
      "userId": "11087898073562528768"
     },
     "user_tz": -180
    },
    "id": "iHRrHp3-8ANI",
    "outputId": "00fdcd42-1daf-4aa8-a45c-9848aa5f20f0"
   },
   "outputs": [
    {
     "data": {
      "text/html": [
       "<div>\n",
       "<style scoped>\n",
       "    .dataframe tbody tr th:only-of-type {\n",
       "        vertical-align: middle;\n",
       "    }\n",
       "\n",
       "    .dataframe tbody tr th {\n",
       "        vertical-align: top;\n",
       "    }\n",
       "\n",
       "    .dataframe thead th {\n",
       "        text-align: right;\n",
       "    }\n",
       "</style>\n",
       "<table border=\"1\" class=\"dataframe\">\n",
       "  <thead>\n",
       "    <tr style=\"text-align: right;\">\n",
       "      <th></th>\n",
       "      <th>label</th>\n",
       "      <th>text</th>\n",
       "    </tr>\n",
       "  </thead>\n",
       "  <tbody>\n",
       "    <tr>\n",
       "      <th>0</th>\n",
       "      <td>0</td>\n",
       "      <td>Explanation\\nWhy the edits made under my usern...</td>\n",
       "    </tr>\n",
       "    <tr>\n",
       "      <th>1</th>\n",
       "      <td>0</td>\n",
       "      <td>D'aww! He matches this background colour I'm s...</td>\n",
       "    </tr>\n",
       "    <tr>\n",
       "      <th>2</th>\n",
       "      <td>0</td>\n",
       "      <td>Hey man, I'm really not trying to edit war. It...</td>\n",
       "    </tr>\n",
       "    <tr>\n",
       "      <th>3</th>\n",
       "      <td>0</td>\n",
       "      <td>\"\\nMore\\nI can't make any real suggestions on ...</td>\n",
       "    </tr>\n",
       "    <tr>\n",
       "      <th>4</th>\n",
       "      <td>0</td>\n",
       "      <td>You, sir, are my hero. Any chance you remember...</td>\n",
       "    </tr>\n",
       "  </tbody>\n",
       "</table>\n",
       "</div>"
      ],
      "text/plain": [
       "  label                                               text\n",
       "0     0  Explanation\\nWhy the edits made under my usern...\n",
       "1     0  D'aww! He matches this background colour I'm s...\n",
       "2     0  Hey man, I'm really not trying to edit war. It...\n",
       "3     0  \"\\nMore\\nI can't make any real suggestions on ...\n",
       "4     0  You, sir, are my hero. Any chance you remember..."
      ]
     },
     "execution_count": 12,
     "metadata": {
      "tags": []
     },
     "output_type": "execute_result"
    }
   ],
   "source": [
    "train_df = pd.DataFrame([train_df.toxic, train_df.comment_text]).T\n",
    "train_df.columns = ['label', 'text'] \n",
    "train_df.head()"
   ]
  },
  {
   "cell_type": "markdown",
   "metadata": {
    "colab_type": "text",
    "id": "SLLoH8kK8ZHg"
   },
   "source": [
    "### Constructing Validation DataFrame"
   ]
  },
  {
   "cell_type": "code",
   "execution_count": 13,
   "metadata": {
    "colab": {
     "base_uri": "https://localhost:8080/",
     "height": 204
    },
    "colab_type": "code",
    "executionInfo": {
     "elapsed": 15672,
     "status": "ok",
     "timestamp": 1591453282502,
     "user": {
      "displayName": "Sergiu C",
      "photoUrl": "https://lh3.googleusercontent.com/a-/AOh14GhfqiW02ba2m04oUe7wNwz56AyLNmv59N1G4krbHIc=s64",
      "userId": "11087898073562528768"
     },
     "user_tz": -180
    },
    "id": "8pStB7UT8GMv",
    "outputId": "250adda7-2f36-4414-fe69-6517fbbf31f1"
   },
   "outputs": [
    {
     "data": {
      "text/html": [
       "<div>\n",
       "<style scoped>\n",
       "    .dataframe tbody tr th:only-of-type {\n",
       "        vertical-align: middle;\n",
       "    }\n",
       "\n",
       "    .dataframe tbody tr th {\n",
       "        vertical-align: top;\n",
       "    }\n",
       "\n",
       "    .dataframe thead th {\n",
       "        text-align: right;\n",
       "    }\n",
       "</style>\n",
       "<table border=\"1\" class=\"dataframe\">\n",
       "  <thead>\n",
       "    <tr style=\"text-align: right;\">\n",
       "      <th></th>\n",
       "      <th>label</th>\n",
       "      <th>text</th>\n",
       "    </tr>\n",
       "  </thead>\n",
       "  <tbody>\n",
       "    <tr>\n",
       "      <th>0</th>\n",
       "      <td>0</td>\n",
       "      <td>Este usuario ni siquiera llega al rango de    ...</td>\n",
       "    </tr>\n",
       "    <tr>\n",
       "      <th>1</th>\n",
       "      <td>0</td>\n",
       "      <td>Il testo di questa voce pare esser scopiazzato...</td>\n",
       "    </tr>\n",
       "    <tr>\n",
       "      <th>2</th>\n",
       "      <td>1</td>\n",
       "      <td>Vale. Sólo expongo mi pasado. Todo tiempo pasa...</td>\n",
       "    </tr>\n",
       "    <tr>\n",
       "      <th>3</th>\n",
       "      <td>0</td>\n",
       "      <td>Bu maddenin alt başlığı olarak  uluslararası i...</td>\n",
       "    </tr>\n",
       "    <tr>\n",
       "      <th>4</th>\n",
       "      <td>0</td>\n",
       "      <td>Belçika nın şehirlerinin yanında ilçe ve belde...</td>\n",
       "    </tr>\n",
       "  </tbody>\n",
       "</table>\n",
       "</div>"
      ],
      "text/plain": [
       "  label                                               text\n",
       "0     0  Este usuario ni siquiera llega al rango de    ...\n",
       "1     0  Il testo di questa voce pare esser scopiazzato...\n",
       "2     1  Vale. Sólo expongo mi pasado. Todo tiempo pasa...\n",
       "3     0  Bu maddenin alt başlığı olarak  uluslararası i...\n",
       "4     0  Belçika nın şehirlerinin yanında ilçe ve belde..."
      ]
     },
     "execution_count": 13,
     "metadata": {
      "tags": []
     },
     "output_type": "execute_result"
    }
   ],
   "source": [
    "valid_df = pd.DataFrame([valid_df.toxic, valid_df.comment_text]).T\n",
    "valid_df.columns = ['label', 'text'] \n",
    "valid_df.head()"
   ]
  },
  {
   "cell_type": "markdown",
   "metadata": {
    "colab_type": "text",
    "id": "eGgsSl6u8i6Q"
   },
   "source": [
    "### Constructing Test DataFrame"
   ]
  },
  {
   "cell_type": "code",
   "execution_count": 14,
   "metadata": {
    "colab": {
     "base_uri": "https://localhost:8080/",
     "height": 204
    },
    "colab_type": "code",
    "executionInfo": {
     "elapsed": 18455,
     "status": "ok",
     "timestamp": 1591453287980,
     "user": {
      "displayName": "Sergiu C",
      "photoUrl": "https://lh3.googleusercontent.com/a-/AOh14GhfqiW02ba2m04oUe7wNwz56AyLNmv59N1G4krbHIc=s64",
      "userId": "11087898073562528768"
     },
     "user_tz": -180
    },
    "id": "pJRJ86-C8YIQ",
    "outputId": "917b90bf-d2a5-45a5-ecfa-2d846df7a073"
   },
   "outputs": [
    {
     "data": {
      "text/html": [
       "<div>\n",
       "<style scoped>\n",
       "    .dataframe tbody tr th:only-of-type {\n",
       "        vertical-align: middle;\n",
       "    }\n",
       "\n",
       "    .dataframe tbody tr th {\n",
       "        vertical-align: top;\n",
       "    }\n",
       "\n",
       "    .dataframe thead th {\n",
       "        text-align: right;\n",
       "    }\n",
       "</style>\n",
       "<table border=\"1\" class=\"dataframe\">\n",
       "  <thead>\n",
       "    <tr style=\"text-align: right;\">\n",
       "      <th></th>\n",
       "      <th>text</th>\n",
       "    </tr>\n",
       "  </thead>\n",
       "  <tbody>\n",
       "    <tr>\n",
       "      <th>0</th>\n",
       "      <td>Doctor Who adlı viki başlığına 12. doctor olar...</td>\n",
       "    </tr>\n",
       "    <tr>\n",
       "      <th>1</th>\n",
       "      <td>Вполне возможно, но я пока не вижу необходимо...</td>\n",
       "    </tr>\n",
       "    <tr>\n",
       "      <th>2</th>\n",
       "      <td>Quindi tu sei uno di quelli   conservativi  , ...</td>\n",
       "    </tr>\n",
       "    <tr>\n",
       "      <th>3</th>\n",
       "      <td>Malesef gerçekleştirilmedi ancak şöyle bir şey...</td>\n",
       "    </tr>\n",
       "    <tr>\n",
       "      <th>4</th>\n",
       "      <td>:Resim:Seldabagcan.jpg resminde kaynak sorunu ...</td>\n",
       "    </tr>\n",
       "  </tbody>\n",
       "</table>\n",
       "</div>"
      ],
      "text/plain": [
       "                                                text\n",
       "0  Doctor Who adlı viki başlığına 12. doctor olar...\n",
       "1   Вполне возможно, но я пока не вижу необходимо...\n",
       "2  Quindi tu sei uno di quelli   conservativi  , ...\n",
       "3  Malesef gerçekleştirilmedi ancak şöyle bir şey...\n",
       "4  :Resim:Seldabagcan.jpg resminde kaynak sorunu ..."
      ]
     },
     "execution_count": 14,
     "metadata": {
      "tags": []
     },
     "output_type": "execute_result"
    }
   ],
   "source": [
    "test_df = pd.DataFrame([test_df.content]).T\n",
    "test_df.columns = ['text'] \n",
    "test_df.head()"
   ]
  },
  {
   "cell_type": "code",
   "execution_count": 0,
   "metadata": {
    "colab": {},
    "colab_type": "code",
    "id": "HUZHwxRo8hjf"
   },
   "outputs": [],
   "source": [
    "train_df = train_df.dropna()\n",
    "valid_df = valid_df.dropna()"
   ]
  },
  {
   "cell_type": "markdown",
   "metadata": {
    "colab_type": "text",
    "id": "Coa1qlbJ818n"
   },
   "source": [
    "### Constructing Language Model DataFrame"
   ]
  },
  {
   "cell_type": "code",
   "execution_count": 16,
   "metadata": {
    "colab": {
     "base_uri": "https://localhost:8080/",
     "height": 136
    },
    "colab_type": "code",
    "executionInfo": {
     "elapsed": 4159,
     "status": "ok",
     "timestamp": 1591453292164,
     "user": {
      "displayName": "Sergiu C",
      "photoUrl": "https://lh3.googleusercontent.com/a-/AOh14GhfqiW02ba2m04oUe7wNwz56AyLNmv59N1G4krbHIc=s64",
      "userId": "11087898073562528768"
     },
     "user_tz": -180
    },
    "id": "GFHiYH7f8r-u",
    "outputId": "e69b1d74-ad25-4799-d9c7-3cc4028a0019"
   },
   "outputs": [
    {
     "name": "stdout",
     "output_type": "stream",
     "text": [
      "295361\n",
      "                                                text\n",
      "0  Explanation\\nWhy the edits made under my usern...\n",
      "1  D'aww! He matches this background colour I'm s...\n",
      "2  Hey man, I'm really not trying to edit war. It...\n",
      "3  \"\\nMore\\nI can't make any real suggestions on ...\n",
      "4  You, sir, are my hero. Any chance you remember...\n"
     ]
    }
   ],
   "source": [
    "lm_df = pd.DataFrame(pd.concat([train_df.text, valid_df.text, test_df.text]))\n",
    "print(len(lm_df))\n",
    "print(lm_df.head())\n",
    "lm_df.to_csv(path_in/\"lm_text.csv\", index = False)"
   ]
  },
  {
   "cell_type": "code",
   "execution_count": 0,
   "metadata": {
    "colab": {},
    "colab_type": "code",
    "id": "-tcDPsO98y8-"
   },
   "outputs": [],
   "source": [
    "bs = 48"
   ]
  },
  {
   "cell_type": "code",
   "execution_count": 18,
   "metadata": {
    "colab": {
     "base_uri": "https://localhost:8080/",
     "height": 51
    },
    "colab_type": "code",
    "executionInfo": {
     "elapsed": 296614,
     "status": "ok",
     "timestamp": 1591453584652,
     "user": {
      "displayName": "Sergiu C",
      "photoUrl": "https://lh3.googleusercontent.com/a-/AOh14GhfqiW02ba2m04oUe7wNwz56AyLNmv59N1G4krbHIc=s64",
      "userId": "11087898073562528768"
     },
     "user_tz": -180
    },
    "id": "0rlELgYfJEKH",
    "outputId": "2d9a6fd2-24fd-4dca-8355-9e72f828bc18"
   },
   "outputs": [
    {
     "data": {
      "text/html": [],
      "text/plain": [
       "<IPython.core.display.HTML object>"
      ]
     },
     "metadata": {
      "tags": []
     },
     "output_type": "display_data"
    },
    {
     "data": {
      "text/html": [],
      "text/plain": [
       "<IPython.core.display.HTML object>"
      ]
     },
     "metadata": {
      "tags": []
     },
     "output_type": "display_data"
    },
    {
     "name": "stdout",
     "output_type": "stream",
     "text": [
      "CPU times: user 25.5 s, sys: 4.21 s, total: 29.7 s\n",
      "Wall time: 4min 52s\n"
     ]
    }
   ],
   "source": [
    "%%time\n",
    "np.random.seed(42)\n",
    "data_lm = (TextList.from_csv(path_in, \"lm_text.csv\", cols = 0)\n",
    "           .split_by_rand_pct(0.1)\n",
    "           .label_for_lm()\n",
    "           .databunch(bs = bs))\n",
    "\n",
    "data_lm.save(path_out/'data_lm.pkl')"
   ]
  },
  {
   "cell_type": "code",
   "execution_count": 0,
   "metadata": {
    "colab": {},
    "colab_type": "code",
    "id": "tRNDsoxRKWRB"
   },
   "outputs": [],
   "source": [
    "data_lm = load_data(path_out, 'data_lm.pkl', bs = bs)"
   ]
  },
  {
   "cell_type": "code",
   "execution_count": 41,
   "metadata": {
    "colab": {
     "base_uri": "https://localhost:8080/",
     "height": 51
    },
    "colab_type": "code",
    "executionInfo": {
     "elapsed": 657,
     "status": "ok",
     "timestamp": 1591452952471,
     "user": {
      "displayName": "Sergiu C",
      "photoUrl": "https://lh3.googleusercontent.com/a-/AOh14GhfqiW02ba2m04oUe7wNwz56AyLNmv59N1G4krbHIc=s64",
      "userId": "11087898073562528768"
     },
     "user_tz": -180
    },
    "id": "QhXpUKiDKYRt",
    "outputId": "f6a708f0-49e1-44ab-96e4-5a114da5b939"
   },
   "outputs": [
    {
     "data": {
      "text/plain": [
       "[PosixPath('/content/gdrive/My Drive/JigsawToxicComments-Kaggle2020/output/data_lm.pkl'),\n",
       " PosixPath('/content/gdrive/My Drive/JigsawToxicComments-Kaggle2020/output/data_clas_train.pkl')]"
      ]
     },
     "execution_count": 41,
     "metadata": {
      "tags": []
     },
     "output_type": "execute_result"
    }
   ],
   "source": [
    "path_out.ls()"
   ]
  },
  {
   "cell_type": "code",
   "execution_count": 20,
   "metadata": {
    "colab": {
     "base_uri": "https://localhost:8080/",
     "height": 289
    },
    "colab_type": "code",
    "executionInfo": {
     "elapsed": 292462,
     "status": "ok",
     "timestamp": 1591453589740,
     "user": {
      "displayName": "Sergiu C",
      "photoUrl": "https://lh3.googleusercontent.com/a-/AOh14GhfqiW02ba2m04oUe7wNwz56AyLNmv59N1G4krbHIc=s64",
      "userId": "11087898073562528768"
     },
     "user_tz": -180
    },
    "id": "KQYlhwdhKbgm",
    "outputId": "977d8beb-7e45-4a50-c032-b5c2b2c5dc2c"
   },
   "outputs": [
    {
     "data": {
      "text/html": [
       "<table border=\"1\" class=\"dataframe\">\n",
       "  <thead>\n",
       "    <tr style=\"text-align: right;\">\n",
       "      <th>idx</th>\n",
       "      <th>text</th>\n",
       "    </tr>\n",
       "  </thead>\n",
       "  <tbody>\n",
       "    <tr>\n",
       "      <td>0</td>\n",
       "      <td>. xxmaj he seems to care more about the formatting than the actual info . xxbos \" \\n  xxmaj more \\n  i ca n't make any real suggestions on improvement - i wondered if the section statistics should be later on , or a subsection of \" \" types of accidents \" \" xxup -i think the references may need tidying so that they are all in the</td>\n",
       "    </tr>\n",
       "    <tr>\n",
       "      <td>1</td>\n",
       "      <td>free to initiate a discussion at xxup wt : xxup football or wherever else you feel appropriate , once your block has expired . xxmaj in the meantime , if you know of other similar pages that also infringe our current guidelines , do let us know so we can clear the place up a little . xxmaj kind regards , xxmaj the xxmaj rambling xxmaj man ( talk )</td>\n",
       "    </tr>\n",
       "    <tr>\n",
       "      <td>2</td>\n",
       "      <td>, i 'm not really all that into 4chan , but i did enjoy xxmaj ruby xxmaj quest and i thought that it , and the impact it had on the / tg / community was worth noting on its own page . ( or at least , the page probably needed some more work and better references ) \\n \\n  ... xxmaj anyway , thanks again for your</td>\n",
       "    </tr>\n",
       "    <tr>\n",
       "      <td>3</td>\n",
       "      <td>resources \\n  xxmaj white xxmaj house circumcision petition needs signers up to and on xxup oct 23 https : / / xxunk / petitions # ! / petition / ban - non - therapeutic - routine - infant - circumcision / xxunk xxmaj routine infant circumcision is in direct violation of human rights . xxmaj it is also against the xxmaj xxunk xxmaj oath ; which states : \"</td>\n",
       "    </tr>\n",
       "    <tr>\n",
       "      <td>4</td>\n",
       "      <td>keep 1 xxunk xxmaj xxunk keep 1 xxunk xxunk xxunk - xxmaj xxunk xxmaj xxunk keep 0 xxunk xxmaj xxunk keep 0 xxunk xxunk xxmaj xxunk keep 1 xxunk xxunk xxmaj xxunk keep 1 delete 1 xxunk xxmaj xxunk keep 1 xxunk xxmaj xxunk keep 1 delete 1 redirect \\n  ( mostly copied from deletion page on xxmaj farah xxmaj xxunk . ) xxmaj wikipedia requires reasonable steps to</td>\n",
       "    </tr>\n",
       "  </tbody>\n",
       "</table>"
      ],
      "text/plain": [
       "<IPython.core.display.HTML object>"
      ]
     },
     "metadata": {
      "tags": []
     },
     "output_type": "display_data"
    }
   ],
   "source": [
    "data_lm.show_batch()"
   ]
  },
  {
   "cell_type": "code",
   "execution_count": 0,
   "metadata": {
    "colab": {},
    "colab_type": "code",
    "id": "pi-3IRQjKdKm"
   },
   "outputs": [],
   "source": [
    "learn = language_model_learner(data_lm, AWD_LSTM, model_dir = path_mod, drop_mult = 0.3, callback_fns = PeakMemMetric).to_fp16()"
   ]
  },
  {
   "cell_type": "code",
   "execution_count": 0,
   "metadata": {
    "colab": {
     "base_uri": "https://localhost:8080/",
     "height": 442
    },
    "colab_type": "code",
    "executionInfo": {
     "elapsed": 119302,
     "status": "ok",
     "timestamp": 1591372613478,
     "user": {
      "displayName": "Sergiu C",
      "photoUrl": "https://lh3.googleusercontent.com/a-/AOh14GhfqiW02ba2m04oUe7wNwz56AyLNmv59N1G4krbHIc=s64",
      "userId": "11087898073562528768"
     },
     "user_tz": -180
    },
    "id": "e-YVqp3YLnR5",
    "outputId": "74f5a8af-dcce-41ab-98ac-5846b3f33e11"
   },
   "outputs": [
    {
     "data": {
      "text/html": [
       "\n",
       "    <div>\n",
       "        <style>\n",
       "            /* Turns off some styling */\n",
       "            progress {\n",
       "                /* gets rid of default border in Firefox and Opera. */\n",
       "                border: none;\n",
       "                /* Needs to be in here for Safari polyfill so background images work as expected. */\n",
       "                background-size: auto;\n",
       "            }\n",
       "            .progress-bar-interrupted, .progress-bar-interrupted::-webkit-progress-bar {\n",
       "                background: #F44336;\n",
       "            }\n",
       "        </style>\n",
       "      <progress value='0' class='' max='1' style='width:300px; height:20px; vertical-align: middle;'></progress>\n",
       "      0.00% [0/1 00:00<00:00]\n",
       "    </div>\n",
       "    \n",
       "<table border=\"1\" class=\"dataframe\">\n",
       "  <thead>\n",
       "    <tr style=\"text-align: left;\">\n",
       "      <th>epoch</th>\n",
       "      <th>train_loss</th>\n",
       "      <th>valid_loss</th>\n",
       "      <th>accuracy</th>\n",
       "      <th>cpu used</th>\n",
       "      <th>peak</th>\n",
       "      <th>gpu used</th>\n",
       "      <th>peak</th>\n",
       "      <th>time</th>\n",
       "    </tr>\n",
       "  </thead>\n",
       "  <tbody>\n",
       "  </tbody>\n",
       "</table><p>\n",
       "\n",
       "    <div>\n",
       "        <style>\n",
       "            /* Turns off some styling */\n",
       "            progress {\n",
       "                /* gets rid of default border in Firefox and Opera. */\n",
       "                border: none;\n",
       "                /* Needs to be in here for Safari polyfill so background images work as expected. */\n",
       "                background-size: auto;\n",
       "            }\n",
       "            .progress-bar-interrupted, .progress-bar-interrupted::-webkit-progress-bar {\n",
       "                background: #F44336;\n",
       "            }\n",
       "        </style>\n",
       "      <progress value='99' class='' max='7053' style='width:300px; height:20px; vertical-align: middle;'></progress>\n",
       "      1.40% [99/7053 01:31<1:46:40 12.3948]\n",
       "    </div>\n",
       "    "
      ],
      "text/plain": [
       "<IPython.core.display.HTML object>"
      ]
     },
     "metadata": {
      "tags": []
     },
     "output_type": "display_data"
    },
    {
     "name": "stdout",
     "output_type": "stream",
     "text": [
      "LR Finder is complete, type {learner_name}.recorder.plot() to see the graph.\n",
      "Min numerical gradient: 7.59E-07\n",
      "Min loss divided by 10: 1.20E-02\n",
      "CPU times: user 56.1 s, sys: 41.7 s, total: 1min 37s\n",
      "Wall time: 1min 35s\n"
     ]
    },
    {
     "data": {
      "image/png": "[encoded data removed]",
      "text/plain": [
       "<Figure size 432x288 with 1 Axes>"
      ]
     },
     "metadata": {
      "needs_background": "light",
      "tags": []
     },
     "output_type": "display_data"
    }
   ],
   "source": [
    "%%time\n",
    "learn.lr_find()\n",
    "learn.recorder.plot(suggestion = True, skip_end=8)"
   ]
  },
  {
   "cell_type": "code",
   "execution_count": 0,
   "metadata": {
    "colab": {
     "base_uri": "https://localhost:8080/",
     "height": 143
    },
    "colab_type": "code",
    "id": "5DD4y_9KLub8",
    "outputId": "77f4fcb6-0a3b-4c75-80bd-ad439ed20f48"
   },
   "outputs": [
    {
     "data": {
      "text/html": [
       "\n",
       "    <div>\n",
       "        <style>\n",
       "            /* Turns off some styling */\n",
       "            progress {\n",
       "                /* gets rid of default border in Firefox and Opera. */\n",
       "                border: none;\n",
       "                /* Needs to be in here for Safari polyfill so background images work as expected. */\n",
       "                background-size: auto;\n",
       "            }\n",
       "            .progress-bar-interrupted, .progress-bar-interrupted::-webkit-progress-bar {\n",
       "                background: #F44336;\n",
       "            }\n",
       "        </style>\n",
       "      <progress value='1' class='' max='2' style='width:300px; height:20px; vertical-align: middle;'></progress>\n",
       "      50.00% [1/2 1:52:34<1:52:34]\n",
       "    </div>\n",
       "    \n",
       "<table border=\"1\" class=\"dataframe\">\n",
       "  <thead>\n",
       "    <tr style=\"text-align: left;\">\n",
       "      <th>epoch</th>\n",
       "      <th>train_loss</th>\n",
       "      <th>valid_loss</th>\n",
       "      <th>accuracy</th>\n",
       "      <th>cpu used</th>\n",
       "      <th>peak</th>\n",
       "      <th>gpu used</th>\n",
       "      <th>peak</th>\n",
       "      <th>time</th>\n",
       "    </tr>\n",
       "  </thead>\n",
       "  <tbody>\n",
       "    <tr>\n",
       "      <td>0</td>\n",
       "      <td>4.190555</td>\n",
       "      <td>4.064206</td>\n",
       "      <td>0.316626</td>\n",
       "      <td>1</td>\n",
       "      <td>1</td>\n",
       "      <td>1120</td>\n",
       "      <td>2348</td>\n",
       "      <td>1:52:33</td>\n",
       "    </tr>\n",
       "  </tbody>\n",
       "</table><p>\n",
       "\n",
       "    <div>\n",
       "        <style>\n",
       "            /* Turns off some styling */\n",
       "            progress {\n",
       "                /* gets rid of default border in Firefox and Opera. */\n",
       "                border: none;\n",
       "                /* Needs to be in here for Safari polyfill so background images work as expected. */\n",
       "                background-size: auto;\n",
       "            }\n",
       "            .progress-bar-interrupted, .progress-bar-interrupted::-webkit-progress-bar {\n",
       "                background: #F44336;\n",
       "            }\n",
       "        </style>\n",
       "      <progress value='2717' class='' max='7053' style='width:300px; height:20px; vertical-align: middle;'></progress>\n",
       "      38.52% [2717/7053 41:45<1:06:38 4.1180]\n",
       "    </div>\n",
       "    "
      ],
      "text/plain": [
       "<IPython.core.display.HTML object>"
      ]
     },
     "metadata": {
      "tags": []
     },
     "output_type": "display_data"
    },
    {
     "name": "stdout",
     "output_type": "stream",
     "text": [
      "Better model found at epoch 0 with valid_loss value: 4.064206123352051.\n"
     ]
    }
   ],
   "source": [
    "learn.fit_one_cycle(2, 1E-02, moms=(0.8, 0.7), \n",
    "       callbacks=[SaveModelCallback(learn, every='improvement', monitor='valid_loss', name = 'best_fit_head')])"
   ]
  },
  {
   "cell_type": "code",
   "execution_count": 22,
   "metadata": {
    "colab": {
     "base_uri": "https://localhost:8080/",
     "height": 1000
    },
    "colab_type": "code",
    "executionInfo": {
     "elapsed": 286425,
     "status": "ok",
     "timestamp": 1591453592967,
     "user": {
      "displayName": "Sergiu C",
      "photoUrl": "https://lh3.googleusercontent.com/a-/AOh14GhfqiW02ba2m04oUe7wNwz56AyLNmv59N1G4krbHIc=s64",
      "userId": "11087898073562528768"
     },
     "user_tz": -180
    },
    "id": "930zRaR7Ooho",
    "outputId": "fe08a33a-f18f-4bff-b4cf-6189388e843f"
   },
   "outputs": [
    {
     "data": {
      "text/plain": [
       "LanguageLearner(data=TextLMDataBunch;\n",
       "\n",
       "Train: LabelList (265825 items)\n",
       "x: LMTextList\n",
       "xxbos xxmaj xxunk ! xxmaj he matches this background colour i 'm seemingly stuck with . xxmaj thanks . ( talk ) 21:51 , xxmaj january 11 , 2016 ( xxup utc ),xxbos xxmaj hey man , i 'm really not trying to edit war . xxmaj it 's just that this guy is constantly removing relevant information and talking to me through edits instead of my talk page . xxmaj he seems to care more about the formatting than the actual info .,xxbos \" \n",
       "  xxmaj more \n",
       "  i ca n't make any real suggestions on improvement - i wondered if the section statistics should be later on , or a subsection of \" \" types of accidents \" \" xxup -i think the references may need tidying so that they are all in the exact same format ie date format etc . i can do that later on , if no - one else does first - if you have any preferences for formatting style on references or want to do it yourself please let me know . \n",
       " \n",
       "  xxmaj there appears to be a backlog on articles for review so i guess there may be a delay until a reviewer turns up . xxmaj it 's listed in the relevant form eg xxmaj wikipedia : xxmaj xxunk # xxmaj transport \",xxbos xxmaj you , sir , are my hero . xxmaj any chance you remember what page that 's on ?,xxbos \" \n",
       " \n",
       "  xxmaj congratulations from me as well , use the tools well .   · talk \"\n",
       "y: LMLabelList\n",
       ",,,,\n",
       "Path: /content/gdrive/My Drive/JigsawToxicComments-Kaggle2020/input;\n",
       "\n",
       "Valid: LabelList (29536 items)\n",
       "x: LMTextList\n",
       "xxbos ) \n",
       " \n",
       "  i agree . xxmaj one must not confuse comments made in discussion with the article itself . i have never heard anything on record about xxmaj gilbert 's habits one way or another it could be relevant though if it were supported by facts . xxunk , 25 xxmaj october 2007 ( xxup utc,xxbos xxmaj again : is n't there a single xxmaj wikipedia editor in xxmaj oregon or xxmaj washington who could just go to a local public library and look at the xxmaj xxunk archives from the 1930s ? xxmaj and is n't there someone who can do the same at one of the big xxmaj french academic libraries ? i am sure if someone did that on each side of the xxmaj atlantic , this debate could be resolved in a few minutes .,xxbos xxmaj fits in with portrait of previous governors,xxbos = = xxup uğur xxup xxunk xxup xxunk = = http : / / xxunk http : / / xxunk http : / / xxunk http : / / www.facebook.com / xxunk http : / / www.facebook.com / xxunk xxunk ( xxup uğur xxup xxunk ) xxup bu xxup xxunk xxup bana xxup xxunk .. xxup uğur xxup xxunk,xxbos xxmaj amigo : las opiniones personales , incluyendo las xxunk y las tuyas , deben quedar aparte , para xxunk en otro lugar . xxmaj te xxunk a agregar la palabra xxunk , que es una opinión . xxmaj excepto que todos los demás editores estén de acuerdo , esta opinión no debe quedar allí . xxmaj por eso xxunk tu edición . xxmaj también te aclaro que , si alguien hubiera puesto xxunk , lo hubiera revertido también . xxmaj ya lo he hecho con términos similares . xxmaj saludos , xxmaj gracias\n",
       "y: LMLabelList\n",
       ",,,,\n",
       "Path: /content/gdrive/My Drive/JigsawToxicComments-Kaggle2020/input;\n",
       "\n",
       "Test: None, model=SequentialRNN(\n",
       "  (0): AWD_LSTM(\n",
       "    (encoder): Embedding(60000, 400, padding_idx=1)\n",
       "    (encoder_dp): EmbeddingDropout(\n",
       "      (emb): Embedding(60000, 400, padding_idx=1)\n",
       "    )\n",
       "    (rnns): ModuleList(\n",
       "      (0): WeightDropout(\n",
       "        (module): LSTM(400, 1152, batch_first=True)\n",
       "      )\n",
       "      (1): WeightDropout(\n",
       "        (module): LSTM(1152, 1152, batch_first=True)\n",
       "      )\n",
       "      (2): WeightDropout(\n",
       "        (module): LSTM(1152, 400, batch_first=True)\n",
       "      )\n",
       "    )\n",
       "    (input_dp): RNNDropout()\n",
       "    (hidden_dps): ModuleList(\n",
       "      (0): RNNDropout()\n",
       "      (1): RNNDropout()\n",
       "      (2): RNNDropout()\n",
       "    )\n",
       "  )\n",
       "  (1): LinearDecoder(\n",
       "    (decoder): Linear(in_features=400, out_features=60000, bias=True)\n",
       "    (output_dp): RNNDropout()\n",
       "  )\n",
       "), opt_func=functools.partial(<class 'torch.optim.adam.Adam'>, betas=(0.9, 0.99)), loss_func=FlattenedLoss of CrossEntropyLoss(), metrics=[<function accuracy at 0x7f16d8018a60>], true_wd=True, bn_wd=True, wd=0.01, train_bn=True, path=PosixPath('/content/gdrive/My Drive/JigsawToxicComments-Kaggle2020/output'), model_dir=PosixPath('/content/gdrive/My Drive/JigsawToxicComments-Kaggle2020/model'), callback_fns=[functools.partial(<class 'fastai.basic_train.Recorder'>, add_time=True, silent=False), <class 'fastai.callbacks.mem.PeakMemMetric'>], callbacks=[RNNTrainer\n",
       "learn: LanguageLearner(data=TextLMDataBunch;\n",
       "\n",
       "Train: LabelList (265825 items)\n",
       "x: LMTextList\n",
       "xxbos xxmaj xxunk ! xxmaj he matches this background colour i 'm seemingly stuck with . xxmaj thanks . ( talk ) 21:51 , xxmaj january 11 , 2016 ( xxup utc ),xxbos xxmaj hey man , i 'm really not trying to edit war . xxmaj it 's just that this guy is constantly removing relevant information and talking to me through edits instead of my talk page . xxmaj he seems to care more about the formatting than the actual info .,xxbos \" \n",
       "  xxmaj more \n",
       "  i ca n't make any real suggestions on improvement - i wondered if the section statistics should be later on , or a subsection of \" \" types of accidents \" \" xxup -i think the references may need tidying so that they are all in the exact same format ie date format etc . i can do that later on , if no - one else does first - if you have any preferences for formatting style on references or want to do it yourself please let me know . \n",
       " \n",
       "  xxmaj there appears to be a backlog on articles for review so i guess there may be a delay until a reviewer turns up . xxmaj it 's listed in the relevant form eg xxmaj wikipedia : xxmaj xxunk # xxmaj transport \",xxbos xxmaj you , sir , are my hero . xxmaj any chance you remember what page that 's on ?,xxbos \" \n",
       " \n",
       "  xxmaj congratulations from me as well , use the tools well .   · talk \"\n",
       "y: LMLabelList\n",
       ",,,,\n",
       "Path: /content/gdrive/My Drive/JigsawToxicComments-Kaggle2020/input;\n",
       "\n",
       "Valid: LabelList (29536 items)\n",
       "x: LMTextList\n",
       "xxbos ) \n",
       " \n",
       "  i agree . xxmaj one must not confuse comments made in discussion with the article itself . i have never heard anything on record about xxmaj gilbert 's habits one way or another it could be relevant though if it were supported by facts . xxunk , 25 xxmaj october 2007 ( xxup utc,xxbos xxmaj again : is n't there a single xxmaj wikipedia editor in xxmaj oregon or xxmaj washington who could just go to a local public library and look at the xxmaj xxunk archives from the 1930s ? xxmaj and is n't there someone who can do the same at one of the big xxmaj french academic libraries ? i am sure if someone did that on each side of the xxmaj atlantic , this debate could be resolved in a few minutes .,xxbos xxmaj fits in with portrait of previous governors,xxbos = = xxup uğur xxup xxunk xxup xxunk = = http : / / xxunk http : / / xxunk http : / / xxunk http : / / www.facebook.com / xxunk http : / / www.facebook.com / xxunk xxunk ( xxup uğur xxup xxunk ) xxup bu xxup xxunk xxup bana xxup xxunk .. xxup uğur xxup xxunk,xxbos xxmaj amigo : las opiniones personales , incluyendo las xxunk y las tuyas , deben quedar aparte , para xxunk en otro lugar . xxmaj te xxunk a agregar la palabra xxunk , que es una opinión . xxmaj excepto que todos los demás editores estén de acuerdo , esta opinión no debe quedar allí . xxmaj por eso xxunk tu edición . xxmaj también te aclaro que , si alguien hubiera puesto xxunk , lo hubiera revertido también . xxmaj ya lo he hecho con términos similares . xxmaj saludos , xxmaj gracias\n",
       "y: LMLabelList\n",
       ",,,,\n",
       "Path: /content/gdrive/My Drive/JigsawToxicComments-Kaggle2020/input;\n",
       "\n",
       "Test: None, model=SequentialRNN(\n",
       "  (0): AWD_LSTM(\n",
       "    (encoder): Embedding(60000, 400, padding_idx=1)\n",
       "    (encoder_dp): EmbeddingDropout(\n",
       "      (emb): Embedding(60000, 400, padding_idx=1)\n",
       "    )\n",
       "    (rnns): ModuleList(\n",
       "      (0): WeightDropout(\n",
       "        (module): LSTM(400, 1152, batch_first=True)\n",
       "      )\n",
       "      (1): WeightDropout(\n",
       "        (module): LSTM(1152, 1152, batch_first=True)\n",
       "      )\n",
       "      (2): WeightDropout(\n",
       "        (module): LSTM(1152, 400, batch_first=True)\n",
       "      )\n",
       "    )\n",
       "    (input_dp): RNNDropout()\n",
       "    (hidden_dps): ModuleList(\n",
       "      (0): RNNDropout()\n",
       "      (1): RNNDropout()\n",
       "      (2): RNNDropout()\n",
       "    )\n",
       "  )\n",
       "  (1): LinearDecoder(\n",
       "    (decoder): Linear(in_features=400, out_features=60000, bias=True)\n",
       "    (output_dp): RNNDropout()\n",
       "  )\n",
       "), opt_func=functools.partial(<class 'torch.optim.adam.Adam'>, betas=(0.9, 0.99)), loss_func=FlattenedLoss of CrossEntropyLoss(), metrics=[<function accuracy at 0x7f16d8018a60>], true_wd=True, bn_wd=True, wd=0.01, train_bn=True, path=PosixPath('/content/gdrive/My Drive/JigsawToxicComments-Kaggle2020/output'), model_dir=PosixPath('/content/gdrive/My Drive/JigsawToxicComments-Kaggle2020/model'), callback_fns=[functools.partial(<class 'fastai.basic_train.Recorder'>, add_time=True, silent=False), <class 'fastai.callbacks.mem.PeakMemMetric'>], callbacks=[...], layer_groups=[Sequential(\n",
       "  (0): WeightDropout(\n",
       "    (module): LSTM(400, 1152, batch_first=True)\n",
       "  )\n",
       "  (1): RNNDropout()\n",
       "), Sequential(\n",
       "  (0): WeightDropout(\n",
       "    (module): LSTM(1152, 1152, batch_first=True)\n",
       "  )\n",
       "  (1): RNNDropout()\n",
       "), Sequential(\n",
       "  (0): WeightDropout(\n",
       "    (module): LSTM(1152, 400, batch_first=True)\n",
       "  )\n",
       "  (1): RNNDropout()\n",
       "), Sequential(\n",
       "  (0): Embedding(60000, 400, padding_idx=1)\n",
       "  (1): EmbeddingDropout(\n",
       "    (emb): Embedding(60000, 400, padding_idx=1)\n",
       "  )\n",
       "  (2): LinearDecoder(\n",
       "    (decoder): Linear(in_features=400, out_features=60000, bias=True)\n",
       "    (output_dp): RNNDropout()\n",
       "  )\n",
       ")], add_time=True, silent=False)\n",
       "alpha: 2.0\n",
       "beta: 1.0, MixedPrecision\n",
       "learn: LanguageLearner(data=TextLMDataBunch;\n",
       "\n",
       "Train: LabelList (265825 items)\n",
       "x: LMTextList\n",
       "xxbos xxmaj xxunk ! xxmaj he matches this background colour i 'm seemingly stuck with . xxmaj thanks . ( talk ) 21:51 , xxmaj january 11 , 2016 ( xxup utc ),xxbos xxmaj hey man , i 'm really not trying to edit war . xxmaj it 's just that this guy is constantly removing relevant information and talking to me through edits instead of my talk page . xxmaj he seems to care more about the formatting than the actual info .,xxbos \" \n",
       "  xxmaj more \n",
       "  i ca n't make any real suggestions on improvement - i wondered if the section statistics should be later on , or a subsection of \" \" types of accidents \" \" xxup -i think the references may need tidying so that they are all in the exact same format ie date format etc . i can do that later on , if no - one else does first - if you have any preferences for formatting style on references or want to do it yourself please let me know . \n",
       " \n",
       "  xxmaj there appears to be a backlog on articles for review so i guess there may be a delay until a reviewer turns up . xxmaj it 's listed in the relevant form eg xxmaj wikipedia : xxmaj xxunk # xxmaj transport \",xxbos xxmaj you , sir , are my hero . xxmaj any chance you remember what page that 's on ?,xxbos \" \n",
       " \n",
       "  xxmaj congratulations from me as well , use the tools well .   · talk \"\n",
       "y: LMLabelList\n",
       ",,,,\n",
       "Path: /content/gdrive/My Drive/JigsawToxicComments-Kaggle2020/input;\n",
       "\n",
       "Valid: LabelList (29536 items)\n",
       "x: LMTextList\n",
       "xxbos ) \n",
       " \n",
       "  i agree . xxmaj one must not confuse comments made in discussion with the article itself . i have never heard anything on record about xxmaj gilbert 's habits one way or another it could be relevant though if it were supported by facts . xxunk , 25 xxmaj october 2007 ( xxup utc,xxbos xxmaj again : is n't there a single xxmaj wikipedia editor in xxmaj oregon or xxmaj washington who could just go to a local public library and look at the xxmaj xxunk archives from the 1930s ? xxmaj and is n't there someone who can do the same at one of the big xxmaj french academic libraries ? i am sure if someone did that on each side of the xxmaj atlantic , this debate could be resolved in a few minutes .,xxbos xxmaj fits in with portrait of previous governors,xxbos = = xxup uğur xxup xxunk xxup xxunk = = http : / / xxunk http : / / xxunk http : / / xxunk http : / / www.facebook.com / xxunk http : / / www.facebook.com / xxunk xxunk ( xxup uğur xxup xxunk ) xxup bu xxup xxunk xxup bana xxup xxunk .. xxup uğur xxup xxunk,xxbos xxmaj amigo : las opiniones personales , incluyendo las xxunk y las tuyas , deben quedar aparte , para xxunk en otro lugar . xxmaj te xxunk a agregar la palabra xxunk , que es una opinión . xxmaj excepto que todos los demás editores estén de acuerdo , esta opinión no debe quedar allí . xxmaj por eso xxunk tu edición . xxmaj también te aclaro que , si alguien hubiera puesto xxunk , lo hubiera revertido también . xxmaj ya lo he hecho con términos similares . xxmaj saludos , xxmaj gracias\n",
       "y: LMLabelList\n",
       ",,,,\n",
       "Path: /content/gdrive/My Drive/JigsawToxicComments-Kaggle2020/input;\n",
       "\n",
       "Test: None, model=SequentialRNN(\n",
       "  (0): AWD_LSTM(\n",
       "    (encoder): Embedding(60000, 400, padding_idx=1)\n",
       "    (encoder_dp): EmbeddingDropout(\n",
       "      (emb): Embedding(60000, 400, padding_idx=1)\n",
       "    )\n",
       "    (rnns): ModuleList(\n",
       "      (0): WeightDropout(\n",
       "        (module): LSTM(400, 1152, batch_first=True)\n",
       "      )\n",
       "      (1): WeightDropout(\n",
       "        (module): LSTM(1152, 1152, batch_first=True)\n",
       "      )\n",
       "      (2): WeightDropout(\n",
       "        (module): LSTM(1152, 400, batch_first=True)\n",
       "      )\n",
       "    )\n",
       "    (input_dp): RNNDropout()\n",
       "    (hidden_dps): ModuleList(\n",
       "      (0): RNNDropout()\n",
       "      (1): RNNDropout()\n",
       "      (2): RNNDropout()\n",
       "    )\n",
       "  )\n",
       "  (1): LinearDecoder(\n",
       "    (decoder): Linear(in_features=400, out_features=60000, bias=True)\n",
       "    (output_dp): RNNDropout()\n",
       "  )\n",
       "), opt_func=functools.partial(<class 'torch.optim.adam.Adam'>, betas=(0.9, 0.99)), loss_func=FlattenedLoss of CrossEntropyLoss(), metrics=[<function accuracy at 0x7f16d8018a60>], true_wd=True, bn_wd=True, wd=0.01, train_bn=True, path=PosixPath('/content/gdrive/My Drive/JigsawToxicComments-Kaggle2020/output'), model_dir=PosixPath('/content/gdrive/My Drive/JigsawToxicComments-Kaggle2020/model'), callback_fns=[functools.partial(<class 'fastai.basic_train.Recorder'>, add_time=True, silent=False), <class 'fastai.callbacks.mem.PeakMemMetric'>], callbacks=[...], layer_groups=[Sequential(\n",
       "  (0): WeightDropout(\n",
       "    (module): LSTM(400, 1152, batch_first=True)\n",
       "  )\n",
       "  (1): RNNDropout()\n",
       "), Sequential(\n",
       "  (0): WeightDropout(\n",
       "    (module): LSTM(1152, 1152, batch_first=True)\n",
       "  )\n",
       "  (1): RNNDropout()\n",
       "), Sequential(\n",
       "  (0): WeightDropout(\n",
       "    (module): LSTM(1152, 400, batch_first=True)\n",
       "  )\n",
       "  (1): RNNDropout()\n",
       "), Sequential(\n",
       "  (0): Embedding(60000, 400, padding_idx=1)\n",
       "  (1): EmbeddingDropout(\n",
       "    (emb): Embedding(60000, 400, padding_idx=1)\n",
       "  )\n",
       "  (2): LinearDecoder(\n",
       "    (decoder): Linear(in_features=400, out_features=60000, bias=True)\n",
       "    (output_dp): RNNDropout()\n",
       "  )\n",
       ")], add_time=True, silent=False)\n",
       "loss_scale: 65536\n",
       "max_noskip: 1000\n",
       "dynamic: True\n",
       "clip: None\n",
       "flat_master: False\n",
       "max_scale: 16777216\n",
       "loss_fp32: True], layer_groups=[Sequential(\n",
       "  (0): WeightDropout(\n",
       "    (module): LSTM(400, 1152, batch_first=True)\n",
       "  )\n",
       "  (1): RNNDropout()\n",
       "), Sequential(\n",
       "  (0): WeightDropout(\n",
       "    (module): LSTM(1152, 1152, batch_first=True)\n",
       "  )\n",
       "  (1): RNNDropout()\n",
       "), Sequential(\n",
       "  (0): WeightDropout(\n",
       "    (module): LSTM(1152, 400, batch_first=True)\n",
       "  )\n",
       "  (1): RNNDropout()\n",
       "), Sequential(\n",
       "  (0): Embedding(60000, 400, padding_idx=1)\n",
       "  (1): EmbeddingDropout(\n",
       "    (emb): Embedding(60000, 400, padding_idx=1)\n",
       "  )\n",
       "  (2): LinearDecoder(\n",
       "    (decoder): Linear(in_features=400, out_features=60000, bias=True)\n",
       "    (output_dp): RNNDropout()\n",
       "  )\n",
       ")], add_time=True, silent=False)"
      ]
     },
     "execution_count": 22,
     "metadata": {
      "tags": []
     },
     "output_type": "execute_result"
    }
   ],
   "source": [
    "learn.load(path_mod/\"best_fit_head\")"
   ]
  },
  {
   "cell_type": "markdown",
   "metadata": {},
   "source": [
    "# Training Phase (+ Experimenting)"
   ]
  },
  {
   "cell_type": "code",
   "execution_count": 28,
   "metadata": {
    "colab": {
     "base_uri": "https://localhost:8080/",
     "height": 442
    },
    "colab_type": "code",
    "executionInfo": {
     "elapsed": 66530,
     "status": "ok",
     "timestamp": 1591422566203,
     "user": {
      "displayName": "Sergiu C",
      "photoUrl": "https://lh3.googleusercontent.com/a-/AOh14GhfqiW02ba2m04oUe7wNwz56AyLNmv59N1G4krbHIc=s64",
      "userId": "11087898073562528768"
     },
     "user_tz": -180
    },
    "id": "_dzQvLh7OpPP",
    "outputId": "f1ac17ff-2a8b-4695-f181-5479ede9e21d",
    "scrolled": true
   },
   "outputs": [
    {
     "data": {
      "text/html": [
       "\n",
       "    <div>\n",
       "        <style>\n",
       "            /* Turns off some styling */\n",
       "            progress {\n",
       "                /* gets rid of default border in Firefox and Opera. */\n",
       "                border: none;\n",
       "                /* Needs to be in here for Safari polyfill so background images work as expected. */\n",
       "                background-size: auto;\n",
       "            }\n",
       "            .progress-bar-interrupted, .progress-bar-interrupted::-webkit-progress-bar {\n",
       "                background: #F44336;\n",
       "            }\n",
       "        </style>\n",
       "      <progress value='0' class='' max='1' style='width:300px; height:20px; vertical-align: middle;'></progress>\n",
       "      0.00% [0/1 00:00<00:00]\n",
       "    </div>\n",
       "    \n",
       "<table border=\"1\" class=\"dataframe\">\n",
       "  <thead>\n",
       "    <tr style=\"text-align: left;\">\n",
       "      <th>epoch</th>\n",
       "      <th>train_loss</th>\n",
       "      <th>valid_loss</th>\n",
       "      <th>accuracy</th>\n",
       "      <th>cpu used</th>\n",
       "      <th>peak</th>\n",
       "      <th>gpu used</th>\n",
       "      <th>peak</th>\n",
       "      <th>time</th>\n",
       "    </tr>\n",
       "  </thead>\n",
       "  <tbody>\n",
       "  </tbody>\n",
       "</table><p>\n",
       "\n",
       "    <div>\n",
       "        <style>\n",
       "            /* Turns off some styling */\n",
       "            progress {\n",
       "                /* gets rid of default border in Firefox and Opera. */\n",
       "                border: none;\n",
       "                /* Needs to be in here for Safari polyfill so background images work as expected. */\n",
       "                background-size: auto;\n",
       "            }\n",
       "            .progress-bar-interrupted, .progress-bar-interrupted::-webkit-progress-bar {\n",
       "                background: #F44336;\n",
       "            }\n",
       "        </style>\n",
       "      <progress value='99' class='' max='7053' style='width:300px; height:20px; vertical-align: middle;'></progress>\n",
       "      1.40% [99/7053 00:34<40:10 11.6871]\n",
       "    </div>\n",
       "    "
      ],
      "text/plain": [
       "<IPython.core.display.HTML object>"
      ]
     },
     "metadata": {
      "tags": []
     },
     "output_type": "display_data"
    },
    {
     "name": "stdout",
     "output_type": "stream",
     "text": [
      "LR Finder is complete, type {learner_name}.recorder.plot() to see the graph.\n",
      "Min numerical gradient: 3.98E-06\n",
      "Min loss divided by 10: 6.31E-06\n",
      "CPU times: user 23.1 s, sys: 14.1 s, total: 37.2 s\n",
      "Wall time: 39.4 s\n"
     ]
    },
    {
     "data": {
      "image/png": "[encoded data removed]",
      "text/plain": [
       "<Figure size 432x288 with 1 Axes>"
      ]
     },
     "metadata": {
      "needs_background": "light",
      "tags": []
     },
     "output_type": "display_data"
    }
   ],
   "source": [
    "%%time\n",
    "learn.lr_find()\n",
    "learn.recorder.plot(suggestion = True, skip_end=8)"
   ]
  },
  {
   "cell_type": "code",
   "execution_count": 29,
   "metadata": {
    "colab": {
     "base_uri": "https://localhost:8080/",
     "height": 97
    },
    "colab_type": "code",
    "executionInfo": {
     "elapsed": 2807768,
     "status": "ok",
     "timestamp": 1591426023352,
     "user": {
      "displayName": "Sergiu C",
      "photoUrl": "https://lh3.googleusercontent.com/a-/AOh14GhfqiW02ba2m04oUe7wNwz56AyLNmv59N1G4krbHIc=s64",
      "userId": "11087898073562528768"
     },
     "user_tz": -180
    },
    "id": "iu6drguTNmu6",
    "outputId": "06e34bd0-5b0b-4a39-992c-5d61e848e604"
   },
   "outputs": [
    {
     "data": {
      "text/html": [
       "<table border=\"1\" class=\"dataframe\">\n",
       "  <thead>\n",
       "    <tr style=\"text-align: left;\">\n",
       "      <th>epoch</th>\n",
       "      <th>train_loss</th>\n",
       "      <th>valid_loss</th>\n",
       "      <th>accuracy</th>\n",
       "      <th>cpu used</th>\n",
       "      <th>peak</th>\n",
       "      <th>gpu used</th>\n",
       "      <th>peak</th>\n",
       "      <th>time</th>\n",
       "    </tr>\n",
       "  </thead>\n",
       "  <tbody>\n",
       "    <tr>\n",
       "      <td>0</td>\n",
       "      <td>4.028946</td>\n",
       "      <td>4.054893</td>\n",
       "      <td>0.317901</td>\n",
       "      <td>1</td>\n",
       "      <td>1</td>\n",
       "      <td>1088</td>\n",
       "      <td>2378</td>\n",
       "      <td>46:45</td>\n",
       "    </tr>\n",
       "  </tbody>\n",
       "</table>"
      ],
      "text/plain": [
       "<IPython.core.display.HTML object>"
      ]
     },
     "metadata": {
      "tags": []
     },
     "output_type": "display_data"
    },
    {
     "name": "stdout",
     "output_type": "stream",
     "text": [
      "Better model found at epoch 0 with valid_loss value: 4.054892539978027.\n"
     ]
    }
   ],
   "source": [
    "learn.fit_one_cycle(1, 3E-06, moms=(0.8, 0.7), \n",
    "       callbacks=[SaveModelCallback(learn, every='improvement', monitor='valid_loss', name = 'best_fit_head')])"
   ]
  },
  {
   "cell_type": "code",
   "execution_count": 30,
   "metadata": {
    "colab": {
     "base_uri": "https://localhost:8080/",
     "height": 1000
    },
    "colab_type": "code",
    "executionInfo": {
     "elapsed": 914,
     "status": "ok",
     "timestamp": 1591426024968,
     "user": {
      "displayName": "Sergiu C",
      "photoUrl": "https://lh3.googleusercontent.com/a-/AOh14GhfqiW02ba2m04oUe7wNwz56AyLNmv59N1G4krbHIc=s64",
      "userId": "11087898073562528768"
     },
     "user_tz": -180
    },
    "id": "gAvvEbVcNydy",
    "outputId": "3315fe19-8cc7-4554-de79-29d99aced8d5"
   },
   "outputs": [
    {
     "data": {
      "text/plain": [
       "LanguageLearner(data=TextLMDataBunch;\n",
       "\n",
       "Train: LabelList (265825 items)\n",
       "x: LMTextList\n",
       "xxbos xxmaj xxunk ! xxmaj he matches this background colour i 'm seemingly stuck with . xxmaj thanks . ( talk ) 21:51 , xxmaj january 11 , 2016 ( xxup utc ),xxbos xxmaj hey man , i 'm really not trying to edit war . xxmaj it 's just that this guy is constantly removing relevant information and talking to me through edits instead of my talk page . xxmaj he seems to care more about the formatting than the actual info .,xxbos \" \n",
       "  xxmaj more \n",
       "  i ca n't make any real suggestions on improvement - i wondered if the section statistics should be later on , or a subsection of \" \" types of accidents \" \" xxup -i think the references may need tidying so that they are all in the exact same format ie date format etc . i can do that later on , if no - one else does first - if you have any preferences for formatting style on references or want to do it yourself please let me know . \n",
       " \n",
       "  xxmaj there appears to be a backlog on articles for review so i guess there may be a delay until a reviewer turns up . xxmaj it 's listed in the relevant form eg xxmaj wikipedia : xxmaj xxunk # xxmaj transport \",xxbos xxmaj you , sir , are my hero . xxmaj any chance you remember what page that 's on ?,xxbos \" \n",
       " \n",
       "  xxmaj congratulations from me as well , use the tools well .   · talk \"\n",
       "y: LMLabelList\n",
       ",,,,\n",
       "Path: /content/gdrive/My Drive/JigsawToxicComments-Kaggle2020/input;\n",
       "\n",
       "Valid: LabelList (29536 items)\n",
       "x: LMTextList\n",
       "xxbos ) \n",
       " \n",
       "  i agree . xxmaj one must not confuse comments made in discussion with the article itself . i have never heard anything on record about xxmaj gilbert 's habits one way or another it could be relevant though if it were supported by facts . xxunk , 25 xxmaj october 2007 ( xxup utc,xxbos xxmaj again : is n't there a single xxmaj wikipedia editor in xxmaj oregon or xxmaj washington who could just go to a local public library and look at the xxmaj xxunk archives from the 1930s ? xxmaj and is n't there someone who can do the same at one of the big xxmaj french academic libraries ? i am sure if someone did that on each side of the xxmaj atlantic , this debate could be resolved in a few minutes .,xxbos xxmaj fits in with portrait of previous governors,xxbos = = xxup uğur xxup xxunk xxup xxunk = = http : / / xxunk http : / / xxunk http : / / xxunk http : / / www.facebook.com / xxunk http : / / www.facebook.com / xxunk xxunk ( xxup uğur xxup xxunk ) xxup bu xxup xxunk xxup bana xxup xxunk .. xxup uğur xxup xxunk,xxbos xxmaj amigo : las opiniones personales , incluyendo las xxunk y las tuyas , deben quedar aparte , para xxunk en otro lugar . xxmaj te xxunk a agregar la palabra xxunk , que es una opinión . xxmaj excepto que todos los demás editores estén de acuerdo , esta opinión no debe quedar allí . xxmaj por eso xxunk tu edición . xxmaj también te aclaro que , si alguien hubiera puesto xxunk , lo hubiera revertido también . xxmaj ya lo he hecho con términos similares . xxmaj saludos , xxmaj gracias\n",
       "y: LMLabelList\n",
       ",,,,\n",
       "Path: /content/gdrive/My Drive/JigsawToxicComments-Kaggle2020/input;\n",
       "\n",
       "Test: None, model=SequentialRNN(\n",
       "  (0): AWD_LSTM(\n",
       "    (encoder): Embedding(60000, 400, padding_idx=1)\n",
       "    (encoder_dp): EmbeddingDropout(\n",
       "      (emb): Embedding(60000, 400, padding_idx=1)\n",
       "    )\n",
       "    (rnns): ModuleList(\n",
       "      (0): WeightDropout(\n",
       "        (module): LSTM(400, 1152, batch_first=True)\n",
       "      )\n",
       "      (1): WeightDropout(\n",
       "        (module): LSTM(1152, 1152, batch_first=True)\n",
       "      )\n",
       "      (2): WeightDropout(\n",
       "        (module): LSTM(1152, 400, batch_first=True)\n",
       "      )\n",
       "    )\n",
       "    (input_dp): RNNDropout()\n",
       "    (hidden_dps): ModuleList(\n",
       "      (0): RNNDropout()\n",
       "      (1): RNNDropout()\n",
       "      (2): RNNDropout()\n",
       "    )\n",
       "  )\n",
       "  (1): LinearDecoder(\n",
       "    (decoder): Linear(in_features=400, out_features=60000, bias=True)\n",
       "    (output_dp): RNNDropout()\n",
       "  )\n",
       "), opt_func=functools.partial(<class 'torch.optim.adam.Adam'>, betas=(0.9, 0.99)), loss_func=FlattenedLoss of CrossEntropyLoss(), metrics=[<function accuracy at 0x7f1b4d8a0b70>], true_wd=True, bn_wd=True, wd=0.01, train_bn=True, path=PosixPath('/content/gdrive/My Drive/JigsawToxicComments-Kaggle2020/output'), model_dir=PosixPath('/content/gdrive/My Drive/JigsawToxicComments-Kaggle2020/model'), callback_fns=[functools.partial(<class 'fastai.basic_train.Recorder'>, add_time=True, silent=False), <class 'fastai.callbacks.mem.PeakMemMetric'>], callbacks=[RNNTrainer\n",
       "learn: LanguageLearner(data=TextLMDataBunch;\n",
       "\n",
       "Train: LabelList (265825 items)\n",
       "x: LMTextList\n",
       "xxbos xxmaj xxunk ! xxmaj he matches this background colour i 'm seemingly stuck with . xxmaj thanks . ( talk ) 21:51 , xxmaj january 11 , 2016 ( xxup utc ),xxbos xxmaj hey man , i 'm really not trying to edit war . xxmaj it 's just that this guy is constantly removing relevant information and talking to me through edits instead of my talk page . xxmaj he seems to care more about the formatting than the actual info .,xxbos \" \n",
       "  xxmaj more \n",
       "  i ca n't make any real suggestions on improvement - i wondered if the section statistics should be later on , or a subsection of \" \" types of accidents \" \" xxup -i think the references may need tidying so that they are all in the exact same format ie date format etc . i can do that later on , if no - one else does first - if you have any preferences for formatting style on references or want to do it yourself please let me know . \n",
       " \n",
       "  xxmaj there appears to be a backlog on articles for review so i guess there may be a delay until a reviewer turns up . xxmaj it 's listed in the relevant form eg xxmaj wikipedia : xxmaj xxunk # xxmaj transport \",xxbos xxmaj you , sir , are my hero . xxmaj any chance you remember what page that 's on ?,xxbos \" \n",
       " \n",
       "  xxmaj congratulations from me as well , use the tools well .   · talk \"\n",
       "y: LMLabelList\n",
       ",,,,\n",
       "Path: /content/gdrive/My Drive/JigsawToxicComments-Kaggle2020/input;\n",
       "\n",
       "Valid: LabelList (29536 items)\n",
       "x: LMTextList\n",
       "xxbos ) \n",
       " \n",
       "  i agree . xxmaj one must not confuse comments made in discussion with the article itself . i have never heard anything on record about xxmaj gilbert 's habits one way or another it could be relevant though if it were supported by facts . xxunk , 25 xxmaj october 2007 ( xxup utc,xxbos xxmaj again : is n't there a single xxmaj wikipedia editor in xxmaj oregon or xxmaj washington who could just go to a local public library and look at the xxmaj xxunk archives from the 1930s ? xxmaj and is n't there someone who can do the same at one of the big xxmaj french academic libraries ? i am sure if someone did that on each side of the xxmaj atlantic , this debate could be resolved in a few minutes .,xxbos xxmaj fits in with portrait of previous governors,xxbos = = xxup uğur xxup xxunk xxup xxunk = = http : / / xxunk http : / / xxunk http : / / xxunk http : / / www.facebook.com / xxunk http : / / www.facebook.com / xxunk xxunk ( xxup uğur xxup xxunk ) xxup bu xxup xxunk xxup bana xxup xxunk .. xxup uğur xxup xxunk,xxbos xxmaj amigo : las opiniones personales , incluyendo las xxunk y las tuyas , deben quedar aparte , para xxunk en otro lugar . xxmaj te xxunk a agregar la palabra xxunk , que es una opinión . xxmaj excepto que todos los demás editores estén de acuerdo , esta opinión no debe quedar allí . xxmaj por eso xxunk tu edición . xxmaj también te aclaro que , si alguien hubiera puesto xxunk , lo hubiera revertido también . xxmaj ya lo he hecho con términos similares . xxmaj saludos , xxmaj gracias\n",
       "y: LMLabelList\n",
       ",,,,\n",
       "Path: /content/gdrive/My Drive/JigsawToxicComments-Kaggle2020/input;\n",
       "\n",
       "Test: None, model=SequentialRNN(\n",
       "  (0): AWD_LSTM(\n",
       "    (encoder): Embedding(60000, 400, padding_idx=1)\n",
       "    (encoder_dp): EmbeddingDropout(\n",
       "      (emb): Embedding(60000, 400, padding_idx=1)\n",
       "    )\n",
       "    (rnns): ModuleList(\n",
       "      (0): WeightDropout(\n",
       "        (module): LSTM(400, 1152, batch_first=True)\n",
       "      )\n",
       "      (1): WeightDropout(\n",
       "        (module): LSTM(1152, 1152, batch_first=True)\n",
       "      )\n",
       "      (2): WeightDropout(\n",
       "        (module): LSTM(1152, 400, batch_first=True)\n",
       "      )\n",
       "    )\n",
       "    (input_dp): RNNDropout()\n",
       "    (hidden_dps): ModuleList(\n",
       "      (0): RNNDropout()\n",
       "      (1): RNNDropout()\n",
       "      (2): RNNDropout()\n",
       "    )\n",
       "  )\n",
       "  (1): LinearDecoder(\n",
       "    (decoder): Linear(in_features=400, out_features=60000, bias=True)\n",
       "    (output_dp): RNNDropout()\n",
       "  )\n",
       "), opt_func=functools.partial(<class 'torch.optim.adam.Adam'>, betas=(0.9, 0.99)), loss_func=FlattenedLoss of CrossEntropyLoss(), metrics=[<function accuracy at 0x7f1b4d8a0b70>], true_wd=True, bn_wd=True, wd=0.01, train_bn=True, path=PosixPath('/content/gdrive/My Drive/JigsawToxicComments-Kaggle2020/output'), model_dir=PosixPath('/content/gdrive/My Drive/JigsawToxicComments-Kaggle2020/model'), callback_fns=[functools.partial(<class 'fastai.basic_train.Recorder'>, add_time=True, silent=False), <class 'fastai.callbacks.mem.PeakMemMetric'>], callbacks=[...], layer_groups=[Sequential(\n",
       "  (0): WeightDropout(\n",
       "    (module): LSTM(400, 1152, batch_first=True)\n",
       "  )\n",
       "  (1): RNNDropout()\n",
       "), Sequential(\n",
       "  (0): WeightDropout(\n",
       "    (module): LSTM(1152, 1152, batch_first=True)\n",
       "  )\n",
       "  (1): RNNDropout()\n",
       "), Sequential(\n",
       "  (0): WeightDropout(\n",
       "    (module): LSTM(1152, 400, batch_first=True)\n",
       "  )\n",
       "  (1): RNNDropout()\n",
       "), Sequential(\n",
       "  (0): Embedding(60000, 400, padding_idx=1)\n",
       "  (1): EmbeddingDropout(\n",
       "    (emb): Embedding(60000, 400, padding_idx=1)\n",
       "  )\n",
       "  (2): LinearDecoder(\n",
       "    (decoder): Linear(in_features=400, out_features=60000, bias=True)\n",
       "    (output_dp): RNNDropout()\n",
       "  )\n",
       ")], add_time=True, silent=False)\n",
       "alpha: 2.0\n",
       "beta: 1.0, MixedPrecision\n",
       "learn: LanguageLearner(data=TextLMDataBunch;\n",
       "\n",
       "Train: LabelList (265825 items)\n",
       "x: LMTextList\n",
       "xxbos xxmaj xxunk ! xxmaj he matches this background colour i 'm seemingly stuck with . xxmaj thanks . ( talk ) 21:51 , xxmaj january 11 , 2016 ( xxup utc ),xxbos xxmaj hey man , i 'm really not trying to edit war . xxmaj it 's just that this guy is constantly removing relevant information and talking to me through edits instead of my talk page . xxmaj he seems to care more about the formatting than the actual info .,xxbos \" \n",
       "  xxmaj more \n",
       "  i ca n't make any real suggestions on improvement - i wondered if the section statistics should be later on , or a subsection of \" \" types of accidents \" \" xxup -i think the references may need tidying so that they are all in the exact same format ie date format etc . i can do that later on , if no - one else does first - if you have any preferences for formatting style on references or want to do it yourself please let me know . \n",
       " \n",
       "  xxmaj there appears to be a backlog on articles for review so i guess there may be a delay until a reviewer turns up . xxmaj it 's listed in the relevant form eg xxmaj wikipedia : xxmaj xxunk # xxmaj transport \",xxbos xxmaj you , sir , are my hero . xxmaj any chance you remember what page that 's on ?,xxbos \" \n",
       " \n",
       "  xxmaj congratulations from me as well , use the tools well .   · talk \"\n",
       "y: LMLabelList\n",
       ",,,,\n",
       "Path: /content/gdrive/My Drive/JigsawToxicComments-Kaggle2020/input;\n",
       "\n",
       "Valid: LabelList (29536 items)\n",
       "x: LMTextList\n",
       "xxbos ) \n",
       " \n",
       "  i agree . xxmaj one must not confuse comments made in discussion with the article itself . i have never heard anything on record about xxmaj gilbert 's habits one way or another it could be relevant though if it were supported by facts . xxunk , 25 xxmaj october 2007 ( xxup utc,xxbos xxmaj again : is n't there a single xxmaj wikipedia editor in xxmaj oregon or xxmaj washington who could just go to a local public library and look at the xxmaj xxunk archives from the 1930s ? xxmaj and is n't there someone who can do the same at one of the big xxmaj french academic libraries ? i am sure if someone did that on each side of the xxmaj atlantic , this debate could be resolved in a few minutes .,xxbos xxmaj fits in with portrait of previous governors,xxbos = = xxup uğur xxup xxunk xxup xxunk = = http : / / xxunk http : / / xxunk http : / / xxunk http : / / www.facebook.com / xxunk http : / / www.facebook.com / xxunk xxunk ( xxup uğur xxup xxunk ) xxup bu xxup xxunk xxup bana xxup xxunk .. xxup uğur xxup xxunk,xxbos xxmaj amigo : las opiniones personales , incluyendo las xxunk y las tuyas , deben quedar aparte , para xxunk en otro lugar . xxmaj te xxunk a agregar la palabra xxunk , que es una opinión . xxmaj excepto que todos los demás editores estén de acuerdo , esta opinión no debe quedar allí . xxmaj por eso xxunk tu edición . xxmaj también te aclaro que , si alguien hubiera puesto xxunk , lo hubiera revertido también . xxmaj ya lo he hecho con términos similares . xxmaj saludos , xxmaj gracias\n",
       "y: LMLabelList\n",
       ",,,,\n",
       "Path: /content/gdrive/My Drive/JigsawToxicComments-Kaggle2020/input;\n",
       "\n",
       "Test: None, model=SequentialRNN(\n",
       "  (0): AWD_LSTM(\n",
       "    (encoder): Embedding(60000, 400, padding_idx=1)\n",
       "    (encoder_dp): EmbeddingDropout(\n",
       "      (emb): Embedding(60000, 400, padding_idx=1)\n",
       "    )\n",
       "    (rnns): ModuleList(\n",
       "      (0): WeightDropout(\n",
       "        (module): LSTM(400, 1152, batch_first=True)\n",
       "      )\n",
       "      (1): WeightDropout(\n",
       "        (module): LSTM(1152, 1152, batch_first=True)\n",
       "      )\n",
       "      (2): WeightDropout(\n",
       "        (module): LSTM(1152, 400, batch_first=True)\n",
       "      )\n",
       "    )\n",
       "    (input_dp): RNNDropout()\n",
       "    (hidden_dps): ModuleList(\n",
       "      (0): RNNDropout()\n",
       "      (1): RNNDropout()\n",
       "      (2): RNNDropout()\n",
       "    )\n",
       "  )\n",
       "  (1): LinearDecoder(\n",
       "    (decoder): Linear(in_features=400, out_features=60000, bias=True)\n",
       "    (output_dp): RNNDropout()\n",
       "  )\n",
       "), opt_func=functools.partial(<class 'torch.optim.adam.Adam'>, betas=(0.9, 0.99)), loss_func=FlattenedLoss of CrossEntropyLoss(), metrics=[<function accuracy at 0x7f1b4d8a0b70>], true_wd=True, bn_wd=True, wd=0.01, train_bn=True, path=PosixPath('/content/gdrive/My Drive/JigsawToxicComments-Kaggle2020/output'), model_dir=PosixPath('/content/gdrive/My Drive/JigsawToxicComments-Kaggle2020/model'), callback_fns=[functools.partial(<class 'fastai.basic_train.Recorder'>, add_time=True, silent=False), <class 'fastai.callbacks.mem.PeakMemMetric'>], callbacks=[...], layer_groups=[Sequential(\n",
       "  (0): WeightDropout(\n",
       "    (module): LSTM(400, 1152, batch_first=True)\n",
       "  )\n",
       "  (1): RNNDropout()\n",
       "), Sequential(\n",
       "  (0): WeightDropout(\n",
       "    (module): LSTM(1152, 1152, batch_first=True)\n",
       "  )\n",
       "  (1): RNNDropout()\n",
       "), Sequential(\n",
       "  (0): WeightDropout(\n",
       "    (module): LSTM(1152, 400, batch_first=True)\n",
       "  )\n",
       "  (1): RNNDropout()\n",
       "), Sequential(\n",
       "  (0): Embedding(60000, 400, padding_idx=1)\n",
       "  (1): EmbeddingDropout(\n",
       "    (emb): Embedding(60000, 400, padding_idx=1)\n",
       "  )\n",
       "  (2): LinearDecoder(\n",
       "    (decoder): Linear(in_features=400, out_features=60000, bias=True)\n",
       "    (output_dp): RNNDropout()\n",
       "  )\n",
       ")], add_time=True, silent=False)\n",
       "loss_scale: 131072.0\n",
       "max_noskip: 1000\n",
       "dynamic: True\n",
       "clip: None\n",
       "flat_master: False\n",
       "max_scale: 16777216\n",
       "loss_fp32: True], layer_groups=[Sequential(\n",
       "  (0): WeightDropout(\n",
       "    (module): LSTM(400, 1152, batch_first=True)\n",
       "  )\n",
       "  (1): RNNDropout()\n",
       "), Sequential(\n",
       "  (0): WeightDropout(\n",
       "    (module): LSTM(1152, 1152, batch_first=True)\n",
       "  )\n",
       "  (1): RNNDropout()\n",
       "), Sequential(\n",
       "  (0): WeightDropout(\n",
       "    (module): LSTM(1152, 400, batch_first=True)\n",
       "  )\n",
       "  (1): RNNDropout()\n",
       "), Sequential(\n",
       "  (0): Embedding(60000, 400, padding_idx=1)\n",
       "  (1): EmbeddingDropout(\n",
       "    (emb): Embedding(60000, 400, padding_idx=1)\n",
       "  )\n",
       "  (2): LinearDecoder(\n",
       "    (decoder): Linear(in_features=400, out_features=60000, bias=True)\n",
       "    (output_dp): RNNDropout()\n",
       "  )\n",
       ")], add_time=True, silent=False)"
      ]
     },
     "execution_count": 30,
     "metadata": {
      "tags": []
     },
     "output_type": "execute_result"
    }
   ],
   "source": [
    "learn.load(path_mod/\"best_fit_head\")"
   ]
  },
  {
   "cell_type": "markdown",
   "metadata": {},
   "source": [
    "### Unfreezing last layers several times and iteratively training them"
   ]
  },
  {
   "cell_type": "code",
   "execution_count": 0,
   "metadata": {
    "colab": {},
    "colab_type": "code",
    "id": "hTGqVhGtZii6"
   },
   "outputs": [],
   "source": [
    "learn.unfreeze()"
   ]
  },
  {
   "cell_type": "code",
   "execution_count": 32,
   "metadata": {
    "colab": {
     "base_uri": "https://localhost:8080/",
     "height": 408
    },
    "colab_type": "code",
    "executionInfo": {
     "elapsed": 40151,
     "status": "ok",
     "timestamp": 1591426351895,
     "user": {
      "displayName": "Sergiu C",
      "photoUrl": "https://lh3.googleusercontent.com/a-/AOh14GhfqiW02ba2m04oUe7wNwz56AyLNmv59N1G4krbHIc=s64",
      "userId": "11087898073562528768"
     },
     "user_tz": -180
    },
    "id": "-RcLZ2NXZi-C",
    "outputId": "274e6867-5bc6-4ebe-8749-cea660e85a92"
   },
   "outputs": [
    {
     "data": {
      "text/html": [
       "\n",
       "    <div>\n",
       "        <style>\n",
       "            /* Turns off some styling */\n",
       "            progress {\n",
       "                /* gets rid of default border in Firefox and Opera. */\n",
       "                border: none;\n",
       "                /* Needs to be in here for Safari polyfill so background images work as expected. */\n",
       "                background-size: auto;\n",
       "            }\n",
       "            .progress-bar-interrupted, .progress-bar-interrupted::-webkit-progress-bar {\n",
       "                background: #F44336;\n",
       "            }\n",
       "        </style>\n",
       "      <progress value='0' class='' max='1' style='width:300px; height:20px; vertical-align: middle;'></progress>\n",
       "      0.00% [0/1 00:00<00:00]\n",
       "    </div>\n",
       "    \n",
       "<table border=\"1\" class=\"dataframe\">\n",
       "  <thead>\n",
       "    <tr style=\"text-align: left;\">\n",
       "      <th>epoch</th>\n",
       "      <th>train_loss</th>\n",
       "      <th>valid_loss</th>\n",
       "      <th>accuracy</th>\n",
       "      <th>cpu used</th>\n",
       "      <th>peak</th>\n",
       "      <th>gpu used</th>\n",
       "      <th>peak</th>\n",
       "      <th>time</th>\n",
       "    </tr>\n",
       "  </thead>\n",
       "  <tbody>\n",
       "  </tbody>\n",
       "</table><p>\n",
       "\n",
       "    <div>\n",
       "        <style>\n",
       "            /* Turns off some styling */\n",
       "            progress {\n",
       "                /* gets rid of default border in Firefox and Opera. */\n",
       "                border: none;\n",
       "                /* Needs to be in here for Safari polyfill so background images work as expected. */\n",
       "                background-size: auto;\n",
       "            }\n",
       "            .progress-bar-interrupted, .progress-bar-interrupted::-webkit-progress-bar {\n",
       "                background: #F44336;\n",
       "            }\n",
       "        </style>\n",
       "      <progress value='89' class='' max='7053' style='width:300px; height:20px; vertical-align: middle;'></progress>\n",
       "      1.26% [89/7053 00:36<48:02 14.2064]\n",
       "    </div>\n",
       "    "
      ],
      "text/plain": [
       "<IPython.core.display.HTML object>"
      ]
     },
     "metadata": {
      "tags": []
     },
     "output_type": "display_data"
    },
    {
     "name": "stdout",
     "output_type": "stream",
     "text": [
      "LR Finder is complete, type {learner_name}.recorder.plot() to see the graph.\n",
      "Min numerical gradient: 3.02E-05\n",
      "Min loss divided by 10: 9.12E-06\n"
     ]
    },
    {
     "data": {
      "image/png": "[encoded data removed]",
      "text/plain": [
       "<Figure size 432x288 with 1 Axes>"
      ]
     },
     "metadata": {
      "needs_background": "light",
      "tags": []
     },
     "output_type": "display_data"
    }
   ],
   "source": [
    "learn.lr_find()\n",
    "learn.recorder.plot(suggestion = True, skip_end=15)"
   ]
  },
  {
   "cell_type": "code",
   "execution_count": 0,
   "metadata": {
    "colab": {
     "base_uri": "https://localhost:8080/",
     "height": 239
    },
    "colab_type": "code",
    "id": "57wVfi13ZmXf",
    "outputId": "1e963ac1-8b33-4f1b-f618-fd84c0deccfa"
   },
   "outputs": [
    {
     "data": {
      "text/html": [
       "\n",
       "    <div>\n",
       "        <style>\n",
       "            /* Turns off some styling */\n",
       "            progress {\n",
       "                /* gets rid of default border in Firefox and Opera. */\n",
       "                border: none;\n",
       "                /* Needs to be in here for Safari polyfill so background images work as expected. */\n",
       "                background-size: auto;\n",
       "            }\n",
       "            .progress-bar-interrupted, .progress-bar-interrupted::-webkit-progress-bar {\n",
       "                background: #F44336;\n",
       "            }\n",
       "        </style>\n",
       "      <progress value='3' class='' max='5' style='width:300px; height:20px; vertical-align: middle;'></progress>\n",
       "      60.00% [3/5 2:39:39<1:46:26]\n",
       "    </div>\n",
       "    \n",
       "<table border=\"1\" class=\"dataframe\">\n",
       "  <thead>\n",
       "    <tr style=\"text-align: left;\">\n",
       "      <th>epoch</th>\n",
       "      <th>train_loss</th>\n",
       "      <th>valid_loss</th>\n",
       "      <th>accuracy</th>\n",
       "      <th>cpu used</th>\n",
       "      <th>peak</th>\n",
       "      <th>gpu used</th>\n",
       "      <th>peak</th>\n",
       "      <th>time</th>\n",
       "    </tr>\n",
       "  </thead>\n",
       "  <tbody>\n",
       "    <tr>\n",
       "      <td>0</td>\n",
       "      <td>3.937614</td>\n",
       "      <td>3.876404</td>\n",
       "      <td>0.334712</td>\n",
       "      <td>1</td>\n",
       "      <td>1</td>\n",
       "      <td>770</td>\n",
       "      <td>2696</td>\n",
       "      <td>53:10</td>\n",
       "    </tr>\n",
       "    <tr>\n",
       "      <td>1</td>\n",
       "      <td>3.820633</td>\n",
       "      <td>3.766773</td>\n",
       "      <td>0.346283</td>\n",
       "      <td>1</td>\n",
       "      <td>1</td>\n",
       "      <td>0</td>\n",
       "      <td>2696</td>\n",
       "      <td>53:11</td>\n",
       "    </tr>\n",
       "    <tr>\n",
       "      <td>2</td>\n",
       "      <td>3.751855</td>\n",
       "      <td>3.722440</td>\n",
       "      <td>0.351442</td>\n",
       "      <td>1</td>\n",
       "      <td>1</td>\n",
       "      <td>0</td>\n",
       "      <td>2696</td>\n",
       "      <td>53:12</td>\n",
       "    </tr>\n",
       "  </tbody>\n",
       "</table><p>\n",
       "\n",
       "    <div>\n",
       "        <style>\n",
       "            /* Turns off some styling */\n",
       "            progress {\n",
       "                /* gets rid of default border in Firefox and Opera. */\n",
       "                border: none;\n",
       "                /* Needs to be in here for Safari polyfill so background images work as expected. */\n",
       "                background-size: auto;\n",
       "            }\n",
       "            .progress-bar-interrupted, .progress-bar-interrupted::-webkit-progress-bar {\n",
       "                background: #F44336;\n",
       "            }\n",
       "        </style>\n",
       "      <progress value='1797' class='' max='7053' style='width:300px; height:20px; vertical-align: middle;'></progress>\n",
       "      25.48% [1797/7053 13:01<38:06 3.6979]\n",
       "    </div>\n",
       "    "
      ],
      "text/plain": [
       "<IPython.core.display.HTML object>"
      ]
     },
     "metadata": {
      "tags": []
     },
     "output_type": "display_data"
    },
    {
     "name": "stdout",
     "output_type": "stream",
     "text": [
      "Better model found at epoch 0 with valid_loss value: 3.87640380859375.\n",
      "Better model found at epoch 1 with valid_loss value: 3.766772747039795.\n",
      "Better model found at epoch 2 with valid_loss value: 3.722440242767334.\n"
     ]
    }
   ],
   "source": [
    "learn.fit_one_cycle(5, 2.75E-05, moms=(0.8, 0.7), \n",
    "       callbacks=[SaveModelCallback(learn, every='improvement', monitor='valid_loss', name = 'best_lm_fine_tuned')])"
   ]
  },
  {
   "cell_type": "code",
   "execution_count": 23,
   "metadata": {
    "colab": {
     "base_uri": "https://localhost:8080/",
     "height": 1000
    },
    "colab_type": "code",
    "executionInfo": {
     "elapsed": 275440,
     "status": "ok",
     "timestamp": 1591453593856,
     "user": {
      "displayName": "Sergiu C",
      "photoUrl": "https://lh3.googleusercontent.com/a-/AOh14GhfqiW02ba2m04oUe7wNwz56AyLNmv59N1G4krbHIc=s64",
      "userId": "11087898073562528768"
     },
     "user_tz": -180
    },
    "id": "il_Cha1WZ_h_",
    "outputId": "8c69100c-c7af-4019-f289-ed7068be508e"
   },
   "outputs": [
    {
     "data": {
      "text/plain": [
       "LanguageLearner(data=TextLMDataBunch;\n",
       "\n",
       "Train: LabelList (265825 items)\n",
       "x: LMTextList\n",
       "xxbos xxmaj xxunk ! xxmaj he matches this background colour i 'm seemingly stuck with . xxmaj thanks . ( talk ) 21:51 , xxmaj january 11 , 2016 ( xxup utc ),xxbos xxmaj hey man , i 'm really not trying to edit war . xxmaj it 's just that this guy is constantly removing relevant information and talking to me through edits instead of my talk page . xxmaj he seems to care more about the formatting than the actual info .,xxbos \" \n",
       "  xxmaj more \n",
       "  i ca n't make any real suggestions on improvement - i wondered if the section statistics should be later on , or a subsection of \" \" types of accidents \" \" xxup -i think the references may need tidying so that they are all in the exact same format ie date format etc . i can do that later on , if no - one else does first - if you have any preferences for formatting style on references or want to do it yourself please let me know . \n",
       " \n",
       "  xxmaj there appears to be a backlog on articles for review so i guess there may be a delay until a reviewer turns up . xxmaj it 's listed in the relevant form eg xxmaj wikipedia : xxmaj xxunk # xxmaj transport \",xxbos xxmaj you , sir , are my hero . xxmaj any chance you remember what page that 's on ?,xxbos \" \n",
       " \n",
       "  xxmaj congratulations from me as well , use the tools well .   · talk \"\n",
       "y: LMLabelList\n",
       ",,,,\n",
       "Path: /content/gdrive/My Drive/JigsawToxicComments-Kaggle2020/input;\n",
       "\n",
       "Valid: LabelList (29536 items)\n",
       "x: LMTextList\n",
       "xxbos ) \n",
       " \n",
       "  i agree . xxmaj one must not confuse comments made in discussion with the article itself . i have never heard anything on record about xxmaj gilbert 's habits one way or another it could be relevant though if it were supported by facts . xxunk , 25 xxmaj october 2007 ( xxup utc,xxbos xxmaj again : is n't there a single xxmaj wikipedia editor in xxmaj oregon or xxmaj washington who could just go to a local public library and look at the xxmaj xxunk archives from the 1930s ? xxmaj and is n't there someone who can do the same at one of the big xxmaj french academic libraries ? i am sure if someone did that on each side of the xxmaj atlantic , this debate could be resolved in a few minutes .,xxbos xxmaj fits in with portrait of previous governors,xxbos = = xxup uğur xxup xxunk xxup xxunk = = http : / / xxunk http : / / xxunk http : / / xxunk http : / / www.facebook.com / xxunk http : / / www.facebook.com / xxunk xxunk ( xxup uğur xxup xxunk ) xxup bu xxup xxunk xxup bana xxup xxunk .. xxup uğur xxup xxunk,xxbos xxmaj amigo : las opiniones personales , incluyendo las xxunk y las tuyas , deben quedar aparte , para xxunk en otro lugar . xxmaj te xxunk a agregar la palabra xxunk , que es una opinión . xxmaj excepto que todos los demás editores estén de acuerdo , esta opinión no debe quedar allí . xxmaj por eso xxunk tu edición . xxmaj también te aclaro que , si alguien hubiera puesto xxunk , lo hubiera revertido también . xxmaj ya lo he hecho con términos similares . xxmaj saludos , xxmaj gracias\n",
       "y: LMLabelList\n",
       ",,,,\n",
       "Path: /content/gdrive/My Drive/JigsawToxicComments-Kaggle2020/input;\n",
       "\n",
       "Test: None, model=SequentialRNN(\n",
       "  (0): AWD_LSTM(\n",
       "    (encoder): Embedding(60000, 400, padding_idx=1)\n",
       "    (encoder_dp): EmbeddingDropout(\n",
       "      (emb): Embedding(60000, 400, padding_idx=1)\n",
       "    )\n",
       "    (rnns): ModuleList(\n",
       "      (0): WeightDropout(\n",
       "        (module): LSTM(400, 1152, batch_first=True)\n",
       "      )\n",
       "      (1): WeightDropout(\n",
       "        (module): LSTM(1152, 1152, batch_first=True)\n",
       "      )\n",
       "      (2): WeightDropout(\n",
       "        (module): LSTM(1152, 400, batch_first=True)\n",
       "      )\n",
       "    )\n",
       "    (input_dp): RNNDropout()\n",
       "    (hidden_dps): ModuleList(\n",
       "      (0): RNNDropout()\n",
       "      (1): RNNDropout()\n",
       "      (2): RNNDropout()\n",
       "    )\n",
       "  )\n",
       "  (1): LinearDecoder(\n",
       "    (decoder): Linear(in_features=400, out_features=60000, bias=True)\n",
       "    (output_dp): RNNDropout()\n",
       "  )\n",
       "), opt_func=functools.partial(<class 'torch.optim.adam.Adam'>, betas=(0.9, 0.99)), loss_func=FlattenedLoss of CrossEntropyLoss(), metrics=[<function accuracy at 0x7f16d8018a60>], true_wd=True, bn_wd=True, wd=0.01, train_bn=True, path=PosixPath('/content/gdrive/My Drive/JigsawToxicComments-Kaggle2020/output'), model_dir=PosixPath('/content/gdrive/My Drive/JigsawToxicComments-Kaggle2020/model'), callback_fns=[functools.partial(<class 'fastai.basic_train.Recorder'>, add_time=True, silent=False), <class 'fastai.callbacks.mem.PeakMemMetric'>], callbacks=[RNNTrainer\n",
       "learn: LanguageLearner(data=TextLMDataBunch;\n",
       "\n",
       "Train: LabelList (265825 items)\n",
       "x: LMTextList\n",
       "xxbos xxmaj xxunk ! xxmaj he matches this background colour i 'm seemingly stuck with . xxmaj thanks . ( talk ) 21:51 , xxmaj january 11 , 2016 ( xxup utc ),xxbos xxmaj hey man , i 'm really not trying to edit war . xxmaj it 's just that this guy is constantly removing relevant information and talking to me through edits instead of my talk page . xxmaj he seems to care more about the formatting than the actual info .,xxbos \" \n",
       "  xxmaj more \n",
       "  i ca n't make any real suggestions on improvement - i wondered if the section statistics should be later on , or a subsection of \" \" types of accidents \" \" xxup -i think the references may need tidying so that they are all in the exact same format ie date format etc . i can do that later on , if no - one else does first - if you have any preferences for formatting style on references or want to do it yourself please let me know . \n",
       " \n",
       "  xxmaj there appears to be a backlog on articles for review so i guess there may be a delay until a reviewer turns up . xxmaj it 's listed in the relevant form eg xxmaj wikipedia : xxmaj xxunk # xxmaj transport \",xxbos xxmaj you , sir , are my hero . xxmaj any chance you remember what page that 's on ?,xxbos \" \n",
       " \n",
       "  xxmaj congratulations from me as well , use the tools well .   · talk \"\n",
       "y: LMLabelList\n",
       ",,,,\n",
       "Path: /content/gdrive/My Drive/JigsawToxicComments-Kaggle2020/input;\n",
       "\n",
       "Valid: LabelList (29536 items)\n",
       "x: LMTextList\n",
       "xxbos ) \n",
       " \n",
       "  i agree . xxmaj one must not confuse comments made in discussion with the article itself . i have never heard anything on record about xxmaj gilbert 's habits one way or another it could be relevant though if it were supported by facts . xxunk , 25 xxmaj october 2007 ( xxup utc,xxbos xxmaj again : is n't there a single xxmaj wikipedia editor in xxmaj oregon or xxmaj washington who could just go to a local public library and look at the xxmaj xxunk archives from the 1930s ? xxmaj and is n't there someone who can do the same at one of the big xxmaj french academic libraries ? i am sure if someone did that on each side of the xxmaj atlantic , this debate could be resolved in a few minutes .,xxbos xxmaj fits in with portrait of previous governors,xxbos = = xxup uğur xxup xxunk xxup xxunk = = http : / / xxunk http : / / xxunk http : / / xxunk http : / / www.facebook.com / xxunk http : / / www.facebook.com / xxunk xxunk ( xxup uğur xxup xxunk ) xxup bu xxup xxunk xxup bana xxup xxunk .. xxup uğur xxup xxunk,xxbos xxmaj amigo : las opiniones personales , incluyendo las xxunk y las tuyas , deben quedar aparte , para xxunk en otro lugar . xxmaj te xxunk a agregar la palabra xxunk , que es una opinión . xxmaj excepto que todos los demás editores estén de acuerdo , esta opinión no debe quedar allí . xxmaj por eso xxunk tu edición . xxmaj también te aclaro que , si alguien hubiera puesto xxunk , lo hubiera revertido también . xxmaj ya lo he hecho con términos similares . xxmaj saludos , xxmaj gracias\n",
       "y: LMLabelList\n",
       ",,,,\n",
       "Path: /content/gdrive/My Drive/JigsawToxicComments-Kaggle2020/input;\n",
       "\n",
       "Test: None, model=SequentialRNN(\n",
       "  (0): AWD_LSTM(\n",
       "    (encoder): Embedding(60000, 400, padding_idx=1)\n",
       "    (encoder_dp): EmbeddingDropout(\n",
       "      (emb): Embedding(60000, 400, padding_idx=1)\n",
       "    )\n",
       "    (rnns): ModuleList(\n",
       "      (0): WeightDropout(\n",
       "        (module): LSTM(400, 1152, batch_first=True)\n",
       "      )\n",
       "      (1): WeightDropout(\n",
       "        (module): LSTM(1152, 1152, batch_first=True)\n",
       "      )\n",
       "      (2): WeightDropout(\n",
       "        (module): LSTM(1152, 400, batch_first=True)\n",
       "      )\n",
       "    )\n",
       "    (input_dp): RNNDropout()\n",
       "    (hidden_dps): ModuleList(\n",
       "      (0): RNNDropout()\n",
       "      (1): RNNDropout()\n",
       "      (2): RNNDropout()\n",
       "    )\n",
       "  )\n",
       "  (1): LinearDecoder(\n",
       "    (decoder): Linear(in_features=400, out_features=60000, bias=True)\n",
       "    (output_dp): RNNDropout()\n",
       "  )\n",
       "), opt_func=functools.partial(<class 'torch.optim.adam.Adam'>, betas=(0.9, 0.99)), loss_func=FlattenedLoss of CrossEntropyLoss(), metrics=[<function accuracy at 0x7f16d8018a60>], true_wd=True, bn_wd=True, wd=0.01, train_bn=True, path=PosixPath('/content/gdrive/My Drive/JigsawToxicComments-Kaggle2020/output'), model_dir=PosixPath('/content/gdrive/My Drive/JigsawToxicComments-Kaggle2020/model'), callback_fns=[functools.partial(<class 'fastai.basic_train.Recorder'>, add_time=True, silent=False), <class 'fastai.callbacks.mem.PeakMemMetric'>], callbacks=[...], layer_groups=[Sequential(\n",
       "  (0): WeightDropout(\n",
       "    (module): LSTM(400, 1152, batch_first=True)\n",
       "  )\n",
       "  (1): RNNDropout()\n",
       "), Sequential(\n",
       "  (0): WeightDropout(\n",
       "    (module): LSTM(1152, 1152, batch_first=True)\n",
       "  )\n",
       "  (1): RNNDropout()\n",
       "), Sequential(\n",
       "  (0): WeightDropout(\n",
       "    (module): LSTM(1152, 400, batch_first=True)\n",
       "  )\n",
       "  (1): RNNDropout()\n",
       "), Sequential(\n",
       "  (0): Embedding(60000, 400, padding_idx=1)\n",
       "  (1): EmbeddingDropout(\n",
       "    (emb): Embedding(60000, 400, padding_idx=1)\n",
       "  )\n",
       "  (2): LinearDecoder(\n",
       "    (decoder): Linear(in_features=400, out_features=60000, bias=True)\n",
       "    (output_dp): RNNDropout()\n",
       "  )\n",
       ")], add_time=True, silent=False)\n",
       "alpha: 2.0\n",
       "beta: 1.0, MixedPrecision\n",
       "learn: LanguageLearner(data=TextLMDataBunch;\n",
       "\n",
       "Train: LabelList (265825 items)\n",
       "x: LMTextList\n",
       "xxbos xxmaj xxunk ! xxmaj he matches this background colour i 'm seemingly stuck with . xxmaj thanks . ( talk ) 21:51 , xxmaj january 11 , 2016 ( xxup utc ),xxbos xxmaj hey man , i 'm really not trying to edit war . xxmaj it 's just that this guy is constantly removing relevant information and talking to me through edits instead of my talk page . xxmaj he seems to care more about the formatting than the actual info .,xxbos \" \n",
       "  xxmaj more \n",
       "  i ca n't make any real suggestions on improvement - i wondered if the section statistics should be later on , or a subsection of \" \" types of accidents \" \" xxup -i think the references may need tidying so that they are all in the exact same format ie date format etc . i can do that later on , if no - one else does first - if you have any preferences for formatting style on references or want to do it yourself please let me know . \n",
       " \n",
       "  xxmaj there appears to be a backlog on articles for review so i guess there may be a delay until a reviewer turns up . xxmaj it 's listed in the relevant form eg xxmaj wikipedia : xxmaj xxunk # xxmaj transport \",xxbos xxmaj you , sir , are my hero . xxmaj any chance you remember what page that 's on ?,xxbos \" \n",
       " \n",
       "  xxmaj congratulations from me as well , use the tools well .   · talk \"\n",
       "y: LMLabelList\n",
       ",,,,\n",
       "Path: /content/gdrive/My Drive/JigsawToxicComments-Kaggle2020/input;\n",
       "\n",
       "Valid: LabelList (29536 items)\n",
       "x: LMTextList\n",
       "xxbos ) \n",
       " \n",
       "  i agree . xxmaj one must not confuse comments made in discussion with the article itself . i have never heard anything on record about xxmaj gilbert 's habits one way or another it could be relevant though if it were supported by facts . xxunk , 25 xxmaj october 2007 ( xxup utc,xxbos xxmaj again : is n't there a single xxmaj wikipedia editor in xxmaj oregon or xxmaj washington who could just go to a local public library and look at the xxmaj xxunk archives from the 1930s ? xxmaj and is n't there someone who can do the same at one of the big xxmaj french academic libraries ? i am sure if someone did that on each side of the xxmaj atlantic , this debate could be resolved in a few minutes .,xxbos xxmaj fits in with portrait of previous governors,xxbos = = xxup uğur xxup xxunk xxup xxunk = = http : / / xxunk http : / / xxunk http : / / xxunk http : / / www.facebook.com / xxunk http : / / www.facebook.com / xxunk xxunk ( xxup uğur xxup xxunk ) xxup bu xxup xxunk xxup bana xxup xxunk .. xxup uğur xxup xxunk,xxbos xxmaj amigo : las opiniones personales , incluyendo las xxunk y las tuyas , deben quedar aparte , para xxunk en otro lugar . xxmaj te xxunk a agregar la palabra xxunk , que es una opinión . xxmaj excepto que todos los demás editores estén de acuerdo , esta opinión no debe quedar allí . xxmaj por eso xxunk tu edición . xxmaj también te aclaro que , si alguien hubiera puesto xxunk , lo hubiera revertido también . xxmaj ya lo he hecho con términos similares . xxmaj saludos , xxmaj gracias\n",
       "y: LMLabelList\n",
       ",,,,\n",
       "Path: /content/gdrive/My Drive/JigsawToxicComments-Kaggle2020/input;\n",
       "\n",
       "Test: None, model=SequentialRNN(\n",
       "  (0): AWD_LSTM(\n",
       "    (encoder): Embedding(60000, 400, padding_idx=1)\n",
       "    (encoder_dp): EmbeddingDropout(\n",
       "      (emb): Embedding(60000, 400, padding_idx=1)\n",
       "    )\n",
       "    (rnns): ModuleList(\n",
       "      (0): WeightDropout(\n",
       "        (module): LSTM(400, 1152, batch_first=True)\n",
       "      )\n",
       "      (1): WeightDropout(\n",
       "        (module): LSTM(1152, 1152, batch_first=True)\n",
       "      )\n",
       "      (2): WeightDropout(\n",
       "        (module): LSTM(1152, 400, batch_first=True)\n",
       "      )\n",
       "    )\n",
       "    (input_dp): RNNDropout()\n",
       "    (hidden_dps): ModuleList(\n",
       "      (0): RNNDropout()\n",
       "      (1): RNNDropout()\n",
       "      (2): RNNDropout()\n",
       "    )\n",
       "  )\n",
       "  (1): LinearDecoder(\n",
       "    (decoder): Linear(in_features=400, out_features=60000, bias=True)\n",
       "    (output_dp): RNNDropout()\n",
       "  )\n",
       "), opt_func=functools.partial(<class 'torch.optim.adam.Adam'>, betas=(0.9, 0.99)), loss_func=FlattenedLoss of CrossEntropyLoss(), metrics=[<function accuracy at 0x7f16d8018a60>], true_wd=True, bn_wd=True, wd=0.01, train_bn=True, path=PosixPath('/content/gdrive/My Drive/JigsawToxicComments-Kaggle2020/output'), model_dir=PosixPath('/content/gdrive/My Drive/JigsawToxicComments-Kaggle2020/model'), callback_fns=[functools.partial(<class 'fastai.basic_train.Recorder'>, add_time=True, silent=False), <class 'fastai.callbacks.mem.PeakMemMetric'>], callbacks=[...], layer_groups=[Sequential(\n",
       "  (0): WeightDropout(\n",
       "    (module): LSTM(400, 1152, batch_first=True)\n",
       "  )\n",
       "  (1): RNNDropout()\n",
       "), Sequential(\n",
       "  (0): WeightDropout(\n",
       "    (module): LSTM(1152, 1152, batch_first=True)\n",
       "  )\n",
       "  (1): RNNDropout()\n",
       "), Sequential(\n",
       "  (0): WeightDropout(\n",
       "    (module): LSTM(1152, 400, batch_first=True)\n",
       "  )\n",
       "  (1): RNNDropout()\n",
       "), Sequential(\n",
       "  (0): Embedding(60000, 400, padding_idx=1)\n",
       "  (1): EmbeddingDropout(\n",
       "    (emb): Embedding(60000, 400, padding_idx=1)\n",
       "  )\n",
       "  (2): LinearDecoder(\n",
       "    (decoder): Linear(in_features=400, out_features=60000, bias=True)\n",
       "    (output_dp): RNNDropout()\n",
       "  )\n",
       ")], add_time=True, silent=False)\n",
       "loss_scale: 65536\n",
       "max_noskip: 1000\n",
       "dynamic: True\n",
       "clip: None\n",
       "flat_master: False\n",
       "max_scale: 16777216\n",
       "loss_fp32: True], layer_groups=[Sequential(\n",
       "  (0): WeightDropout(\n",
       "    (module): LSTM(400, 1152, batch_first=True)\n",
       "  )\n",
       "  (1): RNNDropout()\n",
       "), Sequential(\n",
       "  (0): WeightDropout(\n",
       "    (module): LSTM(1152, 1152, batch_first=True)\n",
       "  )\n",
       "  (1): RNNDropout()\n",
       "), Sequential(\n",
       "  (0): WeightDropout(\n",
       "    (module): LSTM(1152, 400, batch_first=True)\n",
       "  )\n",
       "  (1): RNNDropout()\n",
       "), Sequential(\n",
       "  (0): Embedding(60000, 400, padding_idx=1)\n",
       "  (1): EmbeddingDropout(\n",
       "    (emb): Embedding(60000, 400, padding_idx=1)\n",
       "  )\n",
       "  (2): LinearDecoder(\n",
       "    (decoder): Linear(in_features=400, out_features=60000, bias=True)\n",
       "    (output_dp): RNNDropout()\n",
       "  )\n",
       ")], add_time=True, silent=False)"
      ]
     },
     "execution_count": 23,
     "metadata": {
      "tags": []
     },
     "output_type": "execute_result"
    }
   ],
   "source": [
    "learn.load(path_mod/'best_lm_fine_tuned')"
   ]
  },
  {
   "cell_type": "code",
   "execution_count": 25,
   "metadata": {
    "colab": {
     "base_uri": "https://localhost:8080/",
     "height": 442
    },
    "colab_type": "code",
    "executionInfo": {
     "elapsed": 19610,
     "status": "ok",
     "timestamp": 1591442781165,
     "user": {
      "displayName": "Sergiu C",
      "photoUrl": "https://lh3.googleusercontent.com/a-/AOh14GhfqiW02ba2m04oUe7wNwz56AyLNmv59N1G4krbHIc=s64",
      "userId": "11087898073562528768"
     },
     "user_tz": -180
    },
    "id": "FQH3OCWDW6t7",
    "outputId": "a6a968d3-7058-456c-fc9f-745ed03dae47"
   },
   "outputs": [
    {
     "data": {
      "text/html": [
       "\n",
       "    <div>\n",
       "        <style>\n",
       "            /* Turns off some styling */\n",
       "            progress {\n",
       "                /* gets rid of default border in Firefox and Opera. */\n",
       "                border: none;\n",
       "                /* Needs to be in here for Safari polyfill so background images work as expected. */\n",
       "                background-size: auto;\n",
       "            }\n",
       "            .progress-bar-interrupted, .progress-bar-interrupted::-webkit-progress-bar {\n",
       "                background: #F44336;\n",
       "            }\n",
       "        </style>\n",
       "      <progress value='0' class='' max='1' style='width:300px; height:20px; vertical-align: middle;'></progress>\n",
       "      0.00% [0/1 00:00<00:00]\n",
       "    </div>\n",
       "    \n",
       "<table border=\"1\" class=\"dataframe\">\n",
       "  <thead>\n",
       "    <tr style=\"text-align: left;\">\n",
       "      <th>epoch</th>\n",
       "      <th>train_loss</th>\n",
       "      <th>valid_loss</th>\n",
       "      <th>accuracy</th>\n",
       "      <th>cpu used</th>\n",
       "      <th>peak</th>\n",
       "      <th>gpu used</th>\n",
       "      <th>peak</th>\n",
       "      <th>time</th>\n",
       "    </tr>\n",
       "  </thead>\n",
       "  <tbody>\n",
       "  </tbody>\n",
       "</table><p>\n",
       "\n",
       "    <div>\n",
       "        <style>\n",
       "            /* Turns off some styling */\n",
       "            progress {\n",
       "                /* gets rid of default border in Firefox and Opera. */\n",
       "                border: none;\n",
       "                /* Needs to be in here for Safari polyfill so background images work as expected. */\n",
       "                background-size: auto;\n",
       "            }\n",
       "            .progress-bar-interrupted, .progress-bar-interrupted::-webkit-progress-bar {\n",
       "                background: #F44336;\n",
       "            }\n",
       "        </style>\n",
       "      <progress value='99' class='' max='7053' style='width:300px; height:20px; vertical-align: middle;'></progress>\n",
       "      1.40% [99/7053 00:12<14:49 10.7385]\n",
       "    </div>\n",
       "    "
      ],
      "text/plain": [
       "<IPython.core.display.HTML object>"
      ]
     },
     "metadata": {
      "tags": []
     },
     "output_type": "display_data"
    },
    {
     "name": "stdout",
     "output_type": "stream",
     "text": [
      "LR Finder is complete, type {learner_name}.recorder.plot() to see the graph.\n",
      "Min numerical gradient: 4.79E-06\n",
      "Min loss divided by 10: 9.12E-06\n",
      "CPU times: user 9.65 s, sys: 4.79 s, total: 14.4 s\n",
      "Wall time: 17.6 s\n"
     ]
    },
    {
     "data": {
      "image/png": "[encoded data removed]",
      "text/plain": [
       "<Figure size 432x288 with 1 Axes>"
      ]
     },
     "metadata": {
      "needs_background": "light",
      "tags": []
     },
     "output_type": "display_data"
    }
   ],
   "source": [
    "%%time\n",
    "learn.lr_find()\n",
    "learn.recorder.plot(suggestion = True, skip_end=8)"
   ]
  },
  {
   "cell_type": "code",
   "execution_count": 26,
   "metadata": {
    "colab": {
     "base_uri": "https://localhost:8080/",
     "height": 145
    },
    "colab_type": "code",
    "executionInfo": {
     "elapsed": 1955862,
     "status": "ok",
     "timestamp": 1591444799259,
     "user": {
      "displayName": "Sergiu C",
      "photoUrl": "https://lh3.googleusercontent.com/a-/AOh14GhfqiW02ba2m04oUe7wNwz56AyLNmv59N1G4krbHIc=s64",
      "userId": "11087898073562528768"
     },
     "user_tz": -180
    },
    "id": "E2P1vHktaKFu",
    "outputId": "86208646-45db-40ca-e223-1ebd5528fd11"
   },
   "outputs": [
    {
     "data": {
      "text/html": [
       "<table border=\"1\" class=\"dataframe\">\n",
       "  <thead>\n",
       "    <tr style=\"text-align: left;\">\n",
       "      <th>epoch</th>\n",
       "      <th>train_loss</th>\n",
       "      <th>valid_loss</th>\n",
       "      <th>accuracy</th>\n",
       "      <th>cpu used</th>\n",
       "      <th>peak</th>\n",
       "      <th>gpu used</th>\n",
       "      <th>peak</th>\n",
       "      <th>time</th>\n",
       "    </tr>\n",
       "  </thead>\n",
       "  <tbody>\n",
       "    <tr>\n",
       "      <td>0</td>\n",
       "      <td>3.607721</td>\n",
       "      <td>3.721614</td>\n",
       "      <td>0.351511</td>\n",
       "      <td>1</td>\n",
       "      <td>1</td>\n",
       "      <td>1104</td>\n",
       "      <td>2362</td>\n",
       "      <td>16:13</td>\n",
       "    </tr>\n",
       "    <tr>\n",
       "      <td>1</td>\n",
       "      <td>3.683884</td>\n",
       "      <td>3.721244</td>\n",
       "      <td>0.351561</td>\n",
       "      <td>1</td>\n",
       "      <td>1</td>\n",
       "      <td>0</td>\n",
       "      <td>2696</td>\n",
       "      <td>16:17</td>\n",
       "    </tr>\n",
       "  </tbody>\n",
       "</table>"
      ],
      "text/plain": [
       "<IPython.core.display.HTML object>"
      ]
     },
     "metadata": {
      "tags": []
     },
     "output_type": "display_data"
    },
    {
     "name": "stdout",
     "output_type": "stream",
     "text": [
      "Better model found at epoch 0 with valid_loss value: 3.721613883972168.\n",
      "Better model found at epoch 1 with valid_loss value: 3.7212436199188232.\n"
     ]
    }
   ],
   "source": [
    "learn.fit_one_cycle(2, 4E-06, moms=(0.8, 0.7), \n",
    "       callbacks=[SaveModelCallback(learn, every='improvement', monitor='valid_loss', name = 'best_lm_fine_tuned')])"
   ]
  },
  {
   "cell_type": "code",
   "execution_count": 0,
   "metadata": {
    "colab": {},
    "colab_type": "code",
    "id": "Fp3mRjQIaMbX"
   },
   "outputs": [],
   "source": [
    "learn.save_encoder(path_mod/\"best_fine_tuned_enc\")"
   ]
  },
  {
   "cell_type": "code",
   "execution_count": 24,
   "metadata": {
    "colab": {
     "base_uri": "https://localhost:8080/",
     "height": 51
    },
    "colab_type": "code",
    "executionInfo": {
     "elapsed": 201591,
     "status": "ok",
     "timestamp": 1591453874522,
     "user": {
      "displayName": "Sergiu C",
      "photoUrl": "https://lh3.googleusercontent.com/a-/AOh14GhfqiW02ba2m04oUe7wNwz56AyLNmv59N1G4krbHIc=s64",
      "userId": "11087898073562528768"
     },
     "user_tz": -180
    },
    "id": "BV2OddFeiFT4",
    "outputId": "9f597fe4-6bd5-4a5a-ab93-6f376ead47ec"
   },
   "outputs": [
    {
     "data": {
      "text/html": [],
      "text/plain": [
       "<IPython.core.display.HTML object>"
      ]
     },
     "metadata": {
      "tags": []
     },
     "output_type": "display_data"
    },
    {
     "data": {
      "text/html": [],
      "text/plain": [
       "<IPython.core.display.HTML object>"
      ]
     },
     "metadata": {
      "tags": []
     },
     "output_type": "display_data"
    },
    {
     "name": "stdout",
     "output_type": "stream",
     "text": [
      "CPU times: user 21.6 s, sys: 3.94 s, total: 25.5 s\n",
      "Wall time: 3min 20s\n"
     ]
    }
   ],
   "source": [
    "%%time\n",
    "bs = 128\n",
    "data_clas_train =  (TextList.from_df(train_df, vocab = data_lm.vocab, cols = 1)\n",
    "                    .split_none()\n",
    "                    .label_from_df(cols = 0)\n",
    "                    .databunch(bs = bs))"
   ]
  },
  {
   "cell_type": "code",
   "execution_count": 25,
   "metadata": {
    "colab": {
     "base_uri": "https://localhost:8080/",
     "height": 326
    },
    "colab_type": "code",
    "executionInfo": {
     "elapsed": 11034,
     "status": "ok",
     "timestamp": 1591453885597,
     "user": {
      "displayName": "Sergiu C",
      "photoUrl": "https://lh3.googleusercontent.com/a-/AOh14GhfqiW02ba2m04oUe7wNwz56AyLNmv59N1G4krbHIc=s64",
      "userId": "11087898073562528768"
     },
     "user_tz": -180
    },
    "id": "et-r6lOViKED",
    "outputId": "0f216fc5-c682-49ea-9b7d-bf1954414ba6"
   },
   "outputs": [
    {
     "data": {
      "text/html": [],
      "text/plain": [
       "<IPython.core.display.HTML object>"
      ]
     },
     "metadata": {
      "tags": []
     },
     "output_type": "display_data"
    },
    {
     "data": {
      "text/html": [],
      "text/plain": [
       "<IPython.core.display.HTML object>"
      ]
     },
     "metadata": {
      "tags": []
     },
     "output_type": "display_data"
    },
    {
     "data": {
      "text/plain": [
       "TextClasDataBunch;\n",
       "\n",
       "Train: LabelList (8000 items)\n",
       "x: TextList\n",
       "xxbos xxmaj este usuario ni siquiera llega al rango de xxunk . xxmaj por lo tanto debería ser xxunk en la xxunk para xxunk su alma y nuestro xxunk xxunk mediante su xxunk . xxmaj xxunk linkin 22px xxmaj honor , valor , xxunk . 17:48 13 mar 2008 ( xxup utc ),xxbos xxmaj il testo di questa voce pare esser xxunk direttamente da qui . xxmaj immagino possano esserci problemi di copyright , nel fare cio .,xxbos xxmaj vale . xxmaj sólo xxunk mi pasado . xxmaj todo tiempo pasado fue mejor , ni mucho menos , yo no quisiera xxunk 31 años a nivel particular . xxmaj las xxunk a pasar putas . xxmaj fernando,xxbos xxmaj bu maddenin alt başlığı olarak uluslararası xxunk ile konuyu xxunk ile ilgili xxunk var . xxmaj önerim siyaset bilimi ana xxunk sonra siyasal yaşam ve toplum , siyasal güç , siyasal xxunk , siyasal gruplar , çağdaş xxunk , din , siyasal xxunk , xxunk , propaganda ve siyasal xxunk temelinde xxunk siyasal xxunk . xxmaj bu alt başlıkların daha anlamlı olacağı kanaatindeyim .,xxbos xxmaj belçika nın xxunk yanında ilçe ve xxunk yaparken sanırım xxmaj xxunk örnek xxunk . xxmaj ben de uzak xxunk - 3 yıl ) bu tip şeyler düşünüyorum . xxmaj tabii futbol maddelerinin xxunk xxunk sonra .. daha önce mesajlarınızı görmüştüm , hatta anon bölümünü bizzat xxunk sözünü anlamadım ? ? xxunk xxunk gibi bir şey eklemeyi düşündüm ama xxunk . orayı da silmeyi unuttum . xxunk xxmaj xxunk +\n",
       "y: CategoryList\n",
       "0,0,1,0,0\n",
       "Path: .;\n",
       "\n",
       "Valid: LabelList (0 items)\n",
       "x: TextList\n",
       "\n",
       "y: CategoryList\n",
       "\n",
       "Path: .;\n",
       "\n",
       "Test: None"
      ]
     },
     "execution_count": 25,
     "metadata": {
      "tags": []
     },
     "output_type": "execute_result"
    }
   ],
   "source": [
    "valid_data = TextList.from_df(valid_df, vocab = data_lm.vocab, cols = 1).split_none().label_from_df(cols = 0).databunch(bs = bs)\n",
    "valid_data"
   ]
  },
  {
   "cell_type": "code",
   "execution_count": 0,
   "metadata": {
    "colab": {},
    "colab_type": "code",
    "id": "rkGOPch2iS_k"
   },
   "outputs": [],
   "source": [
    "data_clas_train.valid_dl = valid_data.train_dl"
   ]
  },
  {
   "cell_type": "code",
   "execution_count": 0,
   "metadata": {
    "colab": {},
    "colab_type": "code",
    "id": "ZpqGwUoZi3_y"
   },
   "outputs": [],
   "source": [
    "data_clas_train.save(path_out/'data_clas_train.pkl')"
   ]
  },
  {
   "cell_type": "code",
   "execution_count": 27,
   "metadata": {
    "colab": {
     "base_uri": "https://localhost:8080/",
     "height": 1000
    },
    "colab_type": "code",
    "executionInfo": {
     "elapsed": 5070,
     "status": "ok",
     "timestamp": 1591453896484,
     "user": {
      "displayName": "Sergiu C",
      "photoUrl": "https://lh3.googleusercontent.com/a-/AOh14GhfqiW02ba2m04oUe7wNwz56AyLNmv59N1G4krbHIc=s64",
      "userId": "11087898073562528768"
     },
     "user_tz": -180
    },
    "id": "qiVyKw9li6O6",
    "outputId": "a1ce310e-9076-449e-ba51-290716e4372b"
   },
   "outputs": [
    {
     "data": {
      "text/plain": [
       "RNNLearner(data=TextClasDataBunch;\n",
       "\n",
       "Train: LabelList (223549 items)\n",
       "x: TextList\n",
       "xxbos xxmaj explanation \n",
       "  xxmaj why the edits made under my username xxmaj hardcore xxmaj metallica xxmaj fan were reverted ? xxmaj they were n't vandalisms , just closure on some gas after i voted at xxmaj new xxmaj york xxmaj dolls xxup fac . xxmaj and please do n't remove the template from the talk page since i 'm retired xxunk,xxbos xxmaj xxunk ! xxmaj he matches this background colour i 'm seemingly stuck with . xxmaj thanks . ( talk ) 21:51 , xxmaj january 11 , 2016 ( xxup utc ),xxbos xxmaj hey man , i 'm really not trying to edit war . xxmaj it 's just that this guy is constantly removing relevant information and talking to me through edits instead of my talk page . xxmaj he seems to care more about the formatting than the actual info .,xxbos \" \n",
       "  xxmaj more \n",
       "  i ca n't make any real suggestions on improvement - i wondered if the section statistics should be later on , or a subsection of \" \" types of accidents \" \" xxup -i think the references may need tidying so that they are all in the exact same format ie date format etc . i can do that later on , if no - one else does first - if you have any preferences for formatting style on references or want to do it yourself please let me know . \n",
       " \n",
       "  xxmaj there appears to be a backlog on articles for review so i guess there may be a delay until a reviewer turns up . xxmaj it 's listed in the relevant form eg xxmaj wikipedia : xxmaj xxunk # xxmaj transport \",xxbos xxmaj you , sir , are my hero . xxmaj any chance you remember what page that 's on ?\n",
       "y: CategoryList\n",
       "0,0,0,0,0\n",
       "Path: .;\n",
       "\n",
       "Valid: LabelList (8000 items)\n",
       "x: TextList\n",
       "xxbos xxmaj este usuario ni siquiera llega al rango de xxunk . xxmaj por lo tanto debería ser xxunk en la xxunk para xxunk su alma y nuestro xxunk xxunk mediante su xxunk . xxmaj xxunk linkin 22px xxmaj honor , valor , xxunk . 17:48 13 mar 2008 ( xxup utc ),xxbos xxmaj il testo di questa voce pare esser xxunk direttamente da qui . xxmaj immagino possano esserci problemi di copyright , nel fare cio .,xxbos xxmaj vale . xxmaj sólo xxunk mi pasado . xxmaj todo tiempo pasado fue mejor , ni mucho menos , yo no quisiera xxunk 31 años a nivel particular . xxmaj las xxunk a pasar putas . xxmaj fernando,xxbos xxmaj bu maddenin alt başlığı olarak uluslararası xxunk ile konuyu xxunk ile ilgili xxunk var . xxmaj önerim siyaset bilimi ana xxunk sonra siyasal yaşam ve toplum , siyasal güç , siyasal xxunk , siyasal gruplar , çağdaş xxunk , din , siyasal xxunk , xxunk , propaganda ve siyasal xxunk temelinde xxunk siyasal xxunk . xxmaj bu alt başlıkların daha anlamlı olacağı kanaatindeyim .,xxbos xxmaj belçika nın xxunk yanında ilçe ve xxunk yaparken sanırım xxmaj xxunk örnek xxunk . xxmaj ben de uzak xxunk - 3 yıl ) bu tip şeyler düşünüyorum . xxmaj tabii futbol maddelerinin xxunk xxunk sonra .. daha önce mesajlarınızı görmüştüm , hatta anon bölümünü bizzat xxunk sözünü anlamadım ? ? xxunk xxunk gibi bir şey eklemeyi düşündüm ama xxunk . orayı da silmeyi unuttum . xxunk xxmaj xxunk +\n",
       "y: CategoryList\n",
       "0,0,1,0,0\n",
       "Path: .;\n",
       "\n",
       "Test: None, model=SequentialRNN(\n",
       "  (0): MultiBatchEncoder(\n",
       "    (module): AWD_LSTM(\n",
       "      (encoder): Embedding(60000, 400, padding_idx=1)\n",
       "      (encoder_dp): EmbeddingDropout(\n",
       "        (emb): Embedding(60000, 400, padding_idx=1)\n",
       "      )\n",
       "      (rnns): ModuleList(\n",
       "        (0): WeightDropout(\n",
       "          (module): LSTM(400, 1152, batch_first=True)\n",
       "        )\n",
       "        (1): WeightDropout(\n",
       "          (module): LSTM(1152, 1152, batch_first=True)\n",
       "        )\n",
       "        (2): WeightDropout(\n",
       "          (module): LSTM(1152, 400, batch_first=True)\n",
       "        )\n",
       "      )\n",
       "      (input_dp): RNNDropout()\n",
       "      (hidden_dps): ModuleList(\n",
       "        (0): RNNDropout()\n",
       "        (1): RNNDropout()\n",
       "        (2): RNNDropout()\n",
       "      )\n",
       "    )\n",
       "  )\n",
       "  (1): PoolingLinearClassifier(\n",
       "    (layers): Sequential(\n",
       "      (0): BatchNorm1d(1200, eps=1e-05, momentum=0.1, affine=True, track_running_stats=True)\n",
       "      (1): Dropout(p=0.2, inplace=False)\n",
       "      (2): Linear(in_features=1200, out_features=50, bias=True)\n",
       "      (3): ReLU(inplace=True)\n",
       "      (4): BatchNorm1d(50, eps=1e-05, momentum=0.1, affine=True, track_running_stats=True)\n",
       "      (5): Dropout(p=0.1, inplace=False)\n",
       "      (6): Linear(in_features=50, out_features=2, bias=True)\n",
       "    )\n",
       "  )\n",
       "), opt_func=functools.partial(<class 'torch.optim.adam.Adam'>, betas=(0.9, 0.99)), loss_func=FlattenedLoss of CrossEntropyLoss(), metrics=[<function accuracy at 0x7f16d8018a60>, AUROC()], true_wd=True, bn_wd=True, wd=0.01, train_bn=True, path=PosixPath('.'), model_dir=PosixPath('/content/gdrive/My Drive/JigsawToxicComments-Kaggle2020/model'), callback_fns=[functools.partial(<class 'fastai.basic_train.Recorder'>, add_time=True, silent=False), <class 'fastai.callbacks.mem.PeakMemMetric'>], callbacks=[RNNTrainer\n",
       "learn: RNNLearner(data=TextClasDataBunch;\n",
       "\n",
       "Train: LabelList (223549 items)\n",
       "x: TextList\n",
       "xxbos xxmaj explanation \n",
       "  xxmaj why the edits made under my username xxmaj hardcore xxmaj metallica xxmaj fan were reverted ? xxmaj they were n't vandalisms , just closure on some gas after i voted at xxmaj new xxmaj york xxmaj dolls xxup fac . xxmaj and please do n't remove the template from the talk page since i 'm retired xxunk,xxbos xxmaj xxunk ! xxmaj he matches this background colour i 'm seemingly stuck with . xxmaj thanks . ( talk ) 21:51 , xxmaj january 11 , 2016 ( xxup utc ),xxbos xxmaj hey man , i 'm really not trying to edit war . xxmaj it 's just that this guy is constantly removing relevant information and talking to me through edits instead of my talk page . xxmaj he seems to care more about the formatting than the actual info .,xxbos \" \n",
       "  xxmaj more \n",
       "  i ca n't make any real suggestions on improvement - i wondered if the section statistics should be later on , or a subsection of \" \" types of accidents \" \" xxup -i think the references may need tidying so that they are all in the exact same format ie date format etc . i can do that later on , if no - one else does first - if you have any preferences for formatting style on references or want to do it yourself please let me know . \n",
       " \n",
       "  xxmaj there appears to be a backlog on articles for review so i guess there may be a delay until a reviewer turns up . xxmaj it 's listed in the relevant form eg xxmaj wikipedia : xxmaj xxunk # xxmaj transport \",xxbos xxmaj you , sir , are my hero . xxmaj any chance you remember what page that 's on ?\n",
       "y: CategoryList\n",
       "0,0,0,0,0\n",
       "Path: .;\n",
       "\n",
       "Valid: LabelList (8000 items)\n",
       "x: TextList\n",
       "xxbos xxmaj este usuario ni siquiera llega al rango de xxunk . xxmaj por lo tanto debería ser xxunk en la xxunk para xxunk su alma y nuestro xxunk xxunk mediante su xxunk . xxmaj xxunk linkin 22px xxmaj honor , valor , xxunk . 17:48 13 mar 2008 ( xxup utc ),xxbos xxmaj il testo di questa voce pare esser xxunk direttamente da qui . xxmaj immagino possano esserci problemi di copyright , nel fare cio .,xxbos xxmaj vale . xxmaj sólo xxunk mi pasado . xxmaj todo tiempo pasado fue mejor , ni mucho menos , yo no quisiera xxunk 31 años a nivel particular . xxmaj las xxunk a pasar putas . xxmaj fernando,xxbos xxmaj bu maddenin alt başlığı olarak uluslararası xxunk ile konuyu xxunk ile ilgili xxunk var . xxmaj önerim siyaset bilimi ana xxunk sonra siyasal yaşam ve toplum , siyasal güç , siyasal xxunk , siyasal gruplar , çağdaş xxunk , din , siyasal xxunk , xxunk , propaganda ve siyasal xxunk temelinde xxunk siyasal xxunk . xxmaj bu alt başlıkların daha anlamlı olacağı kanaatindeyim .,xxbos xxmaj belçika nın xxunk yanında ilçe ve xxunk yaparken sanırım xxmaj xxunk örnek xxunk . xxmaj ben de uzak xxunk - 3 yıl ) bu tip şeyler düşünüyorum . xxmaj tabii futbol maddelerinin xxunk xxunk sonra .. daha önce mesajlarınızı görmüştüm , hatta anon bölümünü bizzat xxunk sözünü anlamadım ? ? xxunk xxunk gibi bir şey eklemeyi düşündüm ama xxunk . orayı da silmeyi unuttum . xxunk xxmaj xxunk +\n",
       "y: CategoryList\n",
       "0,0,1,0,0\n",
       "Path: .;\n",
       "\n",
       "Test: None, model=SequentialRNN(\n",
       "  (0): MultiBatchEncoder(\n",
       "    (module): AWD_LSTM(\n",
       "      (encoder): Embedding(60000, 400, padding_idx=1)\n",
       "      (encoder_dp): EmbeddingDropout(\n",
       "        (emb): Embedding(60000, 400, padding_idx=1)\n",
       "      )\n",
       "      (rnns): ModuleList(\n",
       "        (0): WeightDropout(\n",
       "          (module): LSTM(400, 1152, batch_first=True)\n",
       "        )\n",
       "        (1): WeightDropout(\n",
       "          (module): LSTM(1152, 1152, batch_first=True)\n",
       "        )\n",
       "        (2): WeightDropout(\n",
       "          (module): LSTM(1152, 400, batch_first=True)\n",
       "        )\n",
       "      )\n",
       "      (input_dp): RNNDropout()\n",
       "      (hidden_dps): ModuleList(\n",
       "        (0): RNNDropout()\n",
       "        (1): RNNDropout()\n",
       "        (2): RNNDropout()\n",
       "      )\n",
       "    )\n",
       "  )\n",
       "  (1): PoolingLinearClassifier(\n",
       "    (layers): Sequential(\n",
       "      (0): BatchNorm1d(1200, eps=1e-05, momentum=0.1, affine=True, track_running_stats=True)\n",
       "      (1): Dropout(p=0.2, inplace=False)\n",
       "      (2): Linear(in_features=1200, out_features=50, bias=True)\n",
       "      (3): ReLU(inplace=True)\n",
       "      (4): BatchNorm1d(50, eps=1e-05, momentum=0.1, affine=True, track_running_stats=True)\n",
       "      (5): Dropout(p=0.1, inplace=False)\n",
       "      (6): Linear(in_features=50, out_features=2, bias=True)\n",
       "    )\n",
       "  )\n",
       "), opt_func=functools.partial(<class 'torch.optim.adam.Adam'>, betas=(0.9, 0.99)), loss_func=FlattenedLoss of CrossEntropyLoss(), metrics=[<function accuracy at 0x7f16d8018a60>, AUROC()], true_wd=True, bn_wd=True, wd=0.01, train_bn=True, path=PosixPath('.'), model_dir=PosixPath('/content/gdrive/My Drive/JigsawToxicComments-Kaggle2020/model'), callback_fns=[functools.partial(<class 'fastai.basic_train.Recorder'>, add_time=True, silent=False), <class 'fastai.callbacks.mem.PeakMemMetric'>], callbacks=[...], layer_groups=[Sequential(\n",
       "  (0): Embedding(60000, 400, padding_idx=1)\n",
       "  (1): EmbeddingDropout(\n",
       "    (emb): Embedding(60000, 400, padding_idx=1)\n",
       "  )\n",
       "), Sequential(\n",
       "  (0): WeightDropout(\n",
       "    (module): LSTM(400, 1152, batch_first=True)\n",
       "  )\n",
       "  (1): RNNDropout()\n",
       "), Sequential(\n",
       "  (0): WeightDropout(\n",
       "    (module): LSTM(1152, 1152, batch_first=True)\n",
       "  )\n",
       "  (1): RNNDropout()\n",
       "), Sequential(\n",
       "  (0): WeightDropout(\n",
       "    (module): LSTM(1152, 400, batch_first=True)\n",
       "  )\n",
       "  (1): RNNDropout()\n",
       "), Sequential(\n",
       "  (0): PoolingLinearClassifier(\n",
       "    (layers): Sequential(\n",
       "      (0): BatchNorm1d(1200, eps=1e-05, momentum=0.1, affine=True, track_running_stats=True)\n",
       "      (1): Dropout(p=0.2, inplace=False)\n",
       "      (2): Linear(in_features=1200, out_features=50, bias=True)\n",
       "      (3): ReLU(inplace=True)\n",
       "      (4): BatchNorm1d(50, eps=1e-05, momentum=0.1, affine=True, track_running_stats=True)\n",
       "      (5): Dropout(p=0.1, inplace=False)\n",
       "      (6): Linear(in_features=50, out_features=2, bias=True)\n",
       "    )\n",
       "  )\n",
       ")], add_time=True, silent=False)\n",
       "alpha: 2.0\n",
       "beta: 1.0, MixedPrecision\n",
       "learn: RNNLearner(data=TextClasDataBunch;\n",
       "\n",
       "Train: LabelList (223549 items)\n",
       "x: TextList\n",
       "xxbos xxmaj explanation \n",
       "  xxmaj why the edits made under my username xxmaj hardcore xxmaj metallica xxmaj fan were reverted ? xxmaj they were n't vandalisms , just closure on some gas after i voted at xxmaj new xxmaj york xxmaj dolls xxup fac . xxmaj and please do n't remove the template from the talk page since i 'm retired xxunk,xxbos xxmaj xxunk ! xxmaj he matches this background colour i 'm seemingly stuck with . xxmaj thanks . ( talk ) 21:51 , xxmaj january 11 , 2016 ( xxup utc ),xxbos xxmaj hey man , i 'm really not trying to edit war . xxmaj it 's just that this guy is constantly removing relevant information and talking to me through edits instead of my talk page . xxmaj he seems to care more about the formatting than the actual info .,xxbos \" \n",
       "  xxmaj more \n",
       "  i ca n't make any real suggestions on improvement - i wondered if the section statistics should be later on , or a subsection of \" \" types of accidents \" \" xxup -i think the references may need tidying so that they are all in the exact same format ie date format etc . i can do that later on , if no - one else does first - if you have any preferences for formatting style on references or want to do it yourself please let me know . \n",
       " \n",
       "  xxmaj there appears to be a backlog on articles for review so i guess there may be a delay until a reviewer turns up . xxmaj it 's listed in the relevant form eg xxmaj wikipedia : xxmaj xxunk # xxmaj transport \",xxbos xxmaj you , sir , are my hero . xxmaj any chance you remember what page that 's on ?\n",
       "y: CategoryList\n",
       "0,0,0,0,0\n",
       "Path: .;\n",
       "\n",
       "Valid: LabelList (8000 items)\n",
       "x: TextList\n",
       "xxbos xxmaj este usuario ni siquiera llega al rango de xxunk . xxmaj por lo tanto debería ser xxunk en la xxunk para xxunk su alma y nuestro xxunk xxunk mediante su xxunk . xxmaj xxunk linkin 22px xxmaj honor , valor , xxunk . 17:48 13 mar 2008 ( xxup utc ),xxbos xxmaj il testo di questa voce pare esser xxunk direttamente da qui . xxmaj immagino possano esserci problemi di copyright , nel fare cio .,xxbos xxmaj vale . xxmaj sólo xxunk mi pasado . xxmaj todo tiempo pasado fue mejor , ni mucho menos , yo no quisiera xxunk 31 años a nivel particular . xxmaj las xxunk a pasar putas . xxmaj fernando,xxbos xxmaj bu maddenin alt başlığı olarak uluslararası xxunk ile konuyu xxunk ile ilgili xxunk var . xxmaj önerim siyaset bilimi ana xxunk sonra siyasal yaşam ve toplum , siyasal güç , siyasal xxunk , siyasal gruplar , çağdaş xxunk , din , siyasal xxunk , xxunk , propaganda ve siyasal xxunk temelinde xxunk siyasal xxunk . xxmaj bu alt başlıkların daha anlamlı olacağı kanaatindeyim .,xxbos xxmaj belçika nın xxunk yanında ilçe ve xxunk yaparken sanırım xxmaj xxunk örnek xxunk . xxmaj ben de uzak xxunk - 3 yıl ) bu tip şeyler düşünüyorum . xxmaj tabii futbol maddelerinin xxunk xxunk sonra .. daha önce mesajlarınızı görmüştüm , hatta anon bölümünü bizzat xxunk sözünü anlamadım ? ? xxunk xxunk gibi bir şey eklemeyi düşündüm ama xxunk . orayı da silmeyi unuttum . xxunk xxmaj xxunk +\n",
       "y: CategoryList\n",
       "0,0,1,0,0\n",
       "Path: .;\n",
       "\n",
       "Test: None, model=SequentialRNN(\n",
       "  (0): MultiBatchEncoder(\n",
       "    (module): AWD_LSTM(\n",
       "      (encoder): Embedding(60000, 400, padding_idx=1)\n",
       "      (encoder_dp): EmbeddingDropout(\n",
       "        (emb): Embedding(60000, 400, padding_idx=1)\n",
       "      )\n",
       "      (rnns): ModuleList(\n",
       "        (0): WeightDropout(\n",
       "          (module): LSTM(400, 1152, batch_first=True)\n",
       "        )\n",
       "        (1): WeightDropout(\n",
       "          (module): LSTM(1152, 1152, batch_first=True)\n",
       "        )\n",
       "        (2): WeightDropout(\n",
       "          (module): LSTM(1152, 400, batch_first=True)\n",
       "        )\n",
       "      )\n",
       "      (input_dp): RNNDropout()\n",
       "      (hidden_dps): ModuleList(\n",
       "        (0): RNNDropout()\n",
       "        (1): RNNDropout()\n",
       "        (2): RNNDropout()\n",
       "      )\n",
       "    )\n",
       "  )\n",
       "  (1): PoolingLinearClassifier(\n",
       "    (layers): Sequential(\n",
       "      (0): BatchNorm1d(1200, eps=1e-05, momentum=0.1, affine=True, track_running_stats=True)\n",
       "      (1): Dropout(p=0.2, inplace=False)\n",
       "      (2): Linear(in_features=1200, out_features=50, bias=True)\n",
       "      (3): ReLU(inplace=True)\n",
       "      (4): BatchNorm1d(50, eps=1e-05, momentum=0.1, affine=True, track_running_stats=True)\n",
       "      (5): Dropout(p=0.1, inplace=False)\n",
       "      (6): Linear(in_features=50, out_features=2, bias=True)\n",
       "    )\n",
       "  )\n",
       "), opt_func=functools.partial(<class 'torch.optim.adam.Adam'>, betas=(0.9, 0.99)), loss_func=FlattenedLoss of CrossEntropyLoss(), metrics=[<function accuracy at 0x7f16d8018a60>, AUROC()], true_wd=True, bn_wd=True, wd=0.01, train_bn=True, path=PosixPath('.'), model_dir=PosixPath('/content/gdrive/My Drive/JigsawToxicComments-Kaggle2020/model'), callback_fns=[functools.partial(<class 'fastai.basic_train.Recorder'>, add_time=True, silent=False), <class 'fastai.callbacks.mem.PeakMemMetric'>], callbacks=[...], layer_groups=[Sequential(\n",
       "  (0): Embedding(60000, 400, padding_idx=1)\n",
       "  (1): EmbeddingDropout(\n",
       "    (emb): Embedding(60000, 400, padding_idx=1)\n",
       "  )\n",
       "), Sequential(\n",
       "  (0): WeightDropout(\n",
       "    (module): LSTM(400, 1152, batch_first=True)\n",
       "  )\n",
       "  (1): RNNDropout()\n",
       "), Sequential(\n",
       "  (0): WeightDropout(\n",
       "    (module): LSTM(1152, 1152, batch_first=True)\n",
       "  )\n",
       "  (1): RNNDropout()\n",
       "), Sequential(\n",
       "  (0): WeightDropout(\n",
       "    (module): LSTM(1152, 400, batch_first=True)\n",
       "  )\n",
       "  (1): RNNDropout()\n",
       "), Sequential(\n",
       "  (0): PoolingLinearClassifier(\n",
       "    (layers): Sequential(\n",
       "      (0): BatchNorm1d(1200, eps=1e-05, momentum=0.1, affine=True, track_running_stats=True)\n",
       "      (1): Dropout(p=0.2, inplace=False)\n",
       "      (2): Linear(in_features=1200, out_features=50, bias=True)\n",
       "      (3): ReLU(inplace=True)\n",
       "      (4): BatchNorm1d(50, eps=1e-05, momentum=0.1, affine=True, track_running_stats=True)\n",
       "      (5): Dropout(p=0.1, inplace=False)\n",
       "      (6): Linear(in_features=50, out_features=2, bias=True)\n",
       "    )\n",
       "  )\n",
       ")], add_time=True, silent=False)\n",
       "loss_scale: 65536\n",
       "max_noskip: 1000\n",
       "dynamic: True\n",
       "clip: None\n",
       "flat_master: False\n",
       "max_scale: 16777216\n",
       "loss_fp32: True], layer_groups=[Sequential(\n",
       "  (0): Embedding(60000, 400, padding_idx=1)\n",
       "  (1): EmbeddingDropout(\n",
       "    (emb): Embedding(60000, 400, padding_idx=1)\n",
       "  )\n",
       "), Sequential(\n",
       "  (0): WeightDropout(\n",
       "    (module): LSTM(400, 1152, batch_first=True)\n",
       "  )\n",
       "  (1): RNNDropout()\n",
       "), Sequential(\n",
       "  (0): WeightDropout(\n",
       "    (module): LSTM(1152, 1152, batch_first=True)\n",
       "  )\n",
       "  (1): RNNDropout()\n",
       "), Sequential(\n",
       "  (0): WeightDropout(\n",
       "    (module): LSTM(1152, 400, batch_first=True)\n",
       "  )\n",
       "  (1): RNNDropout()\n",
       "), Sequential(\n",
       "  (0): PoolingLinearClassifier(\n",
       "    (layers): Sequential(\n",
       "      (0): BatchNorm1d(1200, eps=1e-05, momentum=0.1, affine=True, track_running_stats=True)\n",
       "      (1): Dropout(p=0.2, inplace=False)\n",
       "      (2): Linear(in_features=1200, out_features=50, bias=True)\n",
       "      (3): ReLU(inplace=True)\n",
       "      (4): BatchNorm1d(50, eps=1e-05, momentum=0.1, affine=True, track_running_stats=True)\n",
       "      (5): Dropout(p=0.1, inplace=False)\n",
       "      (6): Linear(in_features=50, out_features=2, bias=True)\n",
       "    )\n",
       "  )\n",
       ")], add_time=True, silent=False)"
      ]
     },
     "execution_count": 27,
     "metadata": {
      "tags": []
     },
     "output_type": "execute_result"
    }
   ],
   "source": [
    "auc_roc_score = AUROC()\n",
    "learn = text_classifier_learner(data_clas_train, AWD_LSTM, model_dir = path_mod, drop_mult = 0.5, metrics = [accuracy, auc_roc_score], callback_fns=PeakMemMetric).to_fp16()\n",
    "learn.load_encoder(path_mod/\"best_fine_tuned_enc\")"
   ]
  },
  {
   "cell_type": "code",
   "execution_count": 33,
   "metadata": {
    "colab": {
     "base_uri": "https://localhost:8080/",
     "height": 408
    },
    "colab_type": "code",
    "executionInfo": {
     "elapsed": 36801,
     "status": "ok",
     "timestamp": 1591445671549,
     "user": {
      "displayName": "Sergiu C",
      "photoUrl": "https://lh3.googleusercontent.com/a-/AOh14GhfqiW02ba2m04oUe7wNwz56AyLNmv59N1G4krbHIc=s64",
      "userId": "11087898073562528768"
     },
     "user_tz": -180
    },
    "id": "gLXdf6ZsjPbp",
    "outputId": "15fcc5b6-02e7-42d7-8d40-6b8d8dad24ee"
   },
   "outputs": [
    {
     "data": {
      "text/html": [
       "\n",
       "    <div>\n",
       "        <style>\n",
       "            /* Turns off some styling */\n",
       "            progress {\n",
       "                /* gets rid of default border in Firefox and Opera. */\n",
       "                border: none;\n",
       "                /* Needs to be in here for Safari polyfill so background images work as expected. */\n",
       "                background-size: auto;\n",
       "            }\n",
       "            .progress-bar-interrupted, .progress-bar-interrupted::-webkit-progress-bar {\n",
       "                background: #F44336;\n",
       "            }\n",
       "        </style>\n",
       "      <progress value='0' class='' max='1' style='width:300px; height:20px; vertical-align: middle;'></progress>\n",
       "      0.00% [0/1 00:00<00:00]\n",
       "    </div>\n",
       "    \n",
       "<table border=\"1\" class=\"dataframe\">\n",
       "  <thead>\n",
       "    <tr style=\"text-align: left;\">\n",
       "      <th>epoch</th>\n",
       "      <th>train_loss</th>\n",
       "      <th>valid_loss</th>\n",
       "      <th>accuracy</th>\n",
       "      <th>auroc</th>\n",
       "      <th>cpu used</th>\n",
       "      <th>peak</th>\n",
       "      <th>gpu used</th>\n",
       "      <th>peak</th>\n",
       "      <th>time</th>\n",
       "    </tr>\n",
       "  </thead>\n",
       "  <tbody>\n",
       "  </tbody>\n",
       "</table><p>\n",
       "\n",
       "    <div>\n",
       "        <style>\n",
       "            /* Turns off some styling */\n",
       "            progress {\n",
       "                /* gets rid of default border in Firefox and Opera. */\n",
       "                border: none;\n",
       "                /* Needs to be in here for Safari polyfill so background images work as expected. */\n",
       "                background-size: auto;\n",
       "            }\n",
       "            .progress-bar-interrupted, .progress-bar-interrupted::-webkit-progress-bar {\n",
       "                background: #F44336;\n",
       "            }\n",
       "        </style>\n",
       "      <progress value='95' class='' max='1746' style='width:300px; height:20px; vertical-align: middle;'></progress>\n",
       "      5.44% [95/1746 00:34<09:55 1.2895]\n",
       "    </div>\n",
       "    "
      ],
      "text/plain": [
       "<IPython.core.display.HTML object>"
      ]
     },
     "metadata": {
      "tags": []
     },
     "output_type": "display_data"
    },
    {
     "name": "stdout",
     "output_type": "stream",
     "text": [
      "LR Finder is complete, type {learner_name}.recorder.plot() to see the graph.\n",
      "Min numerical gradient: 4.37E-01\n",
      "Min loss divided by 10: 7.59E-02\n"
     ]
    },
    {
     "data": {
      "image/png": "[encoded data removed]",
      "text/plain": [
       "<Figure size 432x288 with 1 Axes>"
      ]
     },
     "metadata": {
      "needs_background": "light",
      "tags": []
     },
     "output_type": "display_data"
    }
   ],
   "source": [
    "learn.lr_find()\n",
    "learn.recorder.plot(suggestion = True, skip_end = 8)"
   ]
  },
  {
   "cell_type": "code",
   "execution_count": 0,
   "metadata": {
    "colab": {},
    "colab_type": "code",
    "id": "mxb6HV5WjT5a"
   },
   "outputs": [],
   "source": [
    "min_grad_lr = learn.recorder.min_grad_lr"
   ]
  },
  {
   "cell_type": "code",
   "execution_count": 35,
   "metadata": {
    "colab": {
     "base_uri": "https://localhost:8080/",
     "height": 303
    },
    "colab_type": "code",
    "executionInfo": {
     "elapsed": 979304,
     "status": "ok",
     "timestamp": 1591446704087,
     "user": {
      "displayName": "Sergiu C",
      "photoUrl": "https://lh3.googleusercontent.com/a-/AOh14GhfqiW02ba2m04oUe7wNwz56AyLNmv59N1G4krbHIc=s64",
      "userId": "11087898073562528768"
     },
     "user_tz": -180
    },
    "id": "jlHErBEejkCA",
    "outputId": "7167e0f3-558d-4bb0-88ad-982fab52b5f7"
   },
   "outputs": [
    {
     "data": {
      "text/html": [
       "<table border=\"1\" class=\"dataframe\">\n",
       "  <thead>\n",
       "    <tr style=\"text-align: left;\">\n",
       "      <th>epoch</th>\n",
       "      <th>train_loss</th>\n",
       "      <th>valid_loss</th>\n",
       "      <th>accuracy</th>\n",
       "      <th>auroc</th>\n",
       "      <th>cpu used</th>\n",
       "      <th>peak</th>\n",
       "      <th>gpu used</th>\n",
       "      <th>peak</th>\n",
       "      <th>time</th>\n",
       "    </tr>\n",
       "  </thead>\n",
       "  <tbody>\n",
       "    <tr>\n",
       "      <td>0</td>\n",
       "      <td>0.477650</td>\n",
       "      <td>25.616108</td>\n",
       "      <td>0.708543</td>\n",
       "      <td>0.691637</td>\n",
       "      <td>10</td>\n",
       "      <td>27</td>\n",
       "      <td>-370</td>\n",
       "      <td>5016</td>\n",
       "      <td>02:25</td>\n",
       "    </tr>\n",
       "    <tr>\n",
       "      <td>1</td>\n",
       "      <td>0.270492</td>\n",
       "      <td>0.870028</td>\n",
       "      <td>0.846774</td>\n",
       "      <td>0.684303</td>\n",
       "      <td>30</td>\n",
       "      <td>32</td>\n",
       "      <td>302</td>\n",
       "      <td>6352</td>\n",
       "      <td>02:45</td>\n",
       "    </tr>\n",
       "    <tr>\n",
       "      <td>2</td>\n",
       "      <td>0.319158</td>\n",
       "      <td>0.592027</td>\n",
       "      <td>0.851058</td>\n",
       "      <td>0.695911</td>\n",
       "      <td>10</td>\n",
       "      <td>28</td>\n",
       "      <td>-100</td>\n",
       "      <td>5324</td>\n",
       "      <td>02:35</td>\n",
       "    </tr>\n",
       "    <tr>\n",
       "      <td>3</td>\n",
       "      <td>0.200785</td>\n",
       "      <td>0.899601</td>\n",
       "      <td>0.810736</td>\n",
       "      <td>0.585106</td>\n",
       "      <td>10</td>\n",
       "      <td>27</td>\n",
       "      <td>0</td>\n",
       "      <td>5250</td>\n",
       "      <td>02:50</td>\n",
       "    </tr>\n",
       "    <tr>\n",
       "      <td>4</td>\n",
       "      <td>0.192061</td>\n",
       "      <td>1.345480</td>\n",
       "      <td>0.831653</td>\n",
       "      <td>0.670370</td>\n",
       "      <td>30</td>\n",
       "      <td>32</td>\n",
       "      <td>-200</td>\n",
       "      <td>5516</td>\n",
       "      <td>02:41</td>\n",
       "    </tr>\n",
       "    <tr>\n",
       "      <td>5</td>\n",
       "      <td>0.179956</td>\n",
       "      <td>0.580281</td>\n",
       "      <td>0.847404</td>\n",
       "      <td>0.724377</td>\n",
       "      <td>10</td>\n",
       "      <td>28</td>\n",
       "      <td>0</td>\n",
       "      <td>6984</td>\n",
       "      <td>02:58</td>\n",
       "    </tr>\n",
       "  </tbody>\n",
       "</table>"
      ],
      "text/plain": [
       "<IPython.core.display.HTML object>"
      ]
     },
     "metadata": {
      "tags": []
     },
     "output_type": "display_data"
    },
    {
     "name": "stdout",
     "output_type": "stream",
     "text": [
      "Better model found at epoch 0 with valid_loss value: 25.616107940673828.\n",
      "Better model found at epoch 1 with valid_loss value: 0.8700284361839294.\n",
      "Better model found at epoch 2 with valid_loss value: 0.5920266509056091.\n",
      "Better model found at epoch 5 with valid_loss value: 0.5802806615829468.\n"
     ]
    }
   ],
   "source": [
    "learn.fit_one_cycle(6, min_grad_lr, moms=(0.8, 0.7), \n",
    "       callbacks=[SaveModelCallback(learn, every='improvement', monitor='valid_loss', name = 'best_fit_head_clas')])"
   ]
  },
  {
   "cell_type": "code",
   "execution_count": 28,
   "metadata": {
    "colab": {
     "base_uri": "https://localhost:8080/",
     "height": 1000
    },
    "colab_type": "code",
    "executionInfo": {
     "elapsed": 886,
     "status": "ok",
     "timestamp": 1591453904359,
     "user": {
      "displayName": "Sergiu C",
      "photoUrl": "https://lh3.googleusercontent.com/a-/AOh14GhfqiW02ba2m04oUe7wNwz56AyLNmv59N1G4krbHIc=s64",
      "userId": "11087898073562528768"
     },
     "user_tz": -180
    },
    "id": "dKPDe3KSjp4I",
    "outputId": "24421c43-b0ef-4f71-e258-a93b7ae345d4"
   },
   "outputs": [
    {
     "data": {
      "text/plain": [
       "RNNLearner(data=TextClasDataBunch;\n",
       "\n",
       "Train: LabelList (223549 items)\n",
       "x: TextList\n",
       "xxbos xxmaj explanation \n",
       "  xxmaj why the edits made under my username xxmaj hardcore xxmaj metallica xxmaj fan were reverted ? xxmaj they were n't vandalisms , just closure on some gas after i voted at xxmaj new xxmaj york xxmaj dolls xxup fac . xxmaj and please do n't remove the template from the talk page since i 'm retired xxunk,xxbos xxmaj xxunk ! xxmaj he matches this background colour i 'm seemingly stuck with . xxmaj thanks . ( talk ) 21:51 , xxmaj january 11 , 2016 ( xxup utc ),xxbos xxmaj hey man , i 'm really not trying to edit war . xxmaj it 's just that this guy is constantly removing relevant information and talking to me through edits instead of my talk page . xxmaj he seems to care more about the formatting than the actual info .,xxbos \" \n",
       "  xxmaj more \n",
       "  i ca n't make any real suggestions on improvement - i wondered if the section statistics should be later on , or a subsection of \" \" types of accidents \" \" xxup -i think the references may need tidying so that they are all in the exact same format ie date format etc . i can do that later on , if no - one else does first - if you have any preferences for formatting style on references or want to do it yourself please let me know . \n",
       " \n",
       "  xxmaj there appears to be a backlog on articles for review so i guess there may be a delay until a reviewer turns up . xxmaj it 's listed in the relevant form eg xxmaj wikipedia : xxmaj xxunk # xxmaj transport \",xxbos xxmaj you , sir , are my hero . xxmaj any chance you remember what page that 's on ?\n",
       "y: CategoryList\n",
       "0,0,0,0,0\n",
       "Path: .;\n",
       "\n",
       "Valid: LabelList (8000 items)\n",
       "x: TextList\n",
       "xxbos xxmaj este usuario ni siquiera llega al rango de xxunk . xxmaj por lo tanto debería ser xxunk en la xxunk para xxunk su alma y nuestro xxunk xxunk mediante su xxunk . xxmaj xxunk linkin 22px xxmaj honor , valor , xxunk . 17:48 13 mar 2008 ( xxup utc ),xxbos xxmaj il testo di questa voce pare esser xxunk direttamente da qui . xxmaj immagino possano esserci problemi di copyright , nel fare cio .,xxbos xxmaj vale . xxmaj sólo xxunk mi pasado . xxmaj todo tiempo pasado fue mejor , ni mucho menos , yo no quisiera xxunk 31 años a nivel particular . xxmaj las xxunk a pasar putas . xxmaj fernando,xxbos xxmaj bu maddenin alt başlığı olarak uluslararası xxunk ile konuyu xxunk ile ilgili xxunk var . xxmaj önerim siyaset bilimi ana xxunk sonra siyasal yaşam ve toplum , siyasal güç , siyasal xxunk , siyasal gruplar , çağdaş xxunk , din , siyasal xxunk , xxunk , propaganda ve siyasal xxunk temelinde xxunk siyasal xxunk . xxmaj bu alt başlıkların daha anlamlı olacağı kanaatindeyim .,xxbos xxmaj belçika nın xxunk yanında ilçe ve xxunk yaparken sanırım xxmaj xxunk örnek xxunk . xxmaj ben de uzak xxunk - 3 yıl ) bu tip şeyler düşünüyorum . xxmaj tabii futbol maddelerinin xxunk xxunk sonra .. daha önce mesajlarınızı görmüştüm , hatta anon bölümünü bizzat xxunk sözünü anlamadım ? ? xxunk xxunk gibi bir şey eklemeyi düşündüm ama xxunk . orayı da silmeyi unuttum . xxunk xxmaj xxunk +\n",
       "y: CategoryList\n",
       "0,0,1,0,0\n",
       "Path: .;\n",
       "\n",
       "Test: None, model=SequentialRNN(\n",
       "  (0): MultiBatchEncoder(\n",
       "    (module): AWD_LSTM(\n",
       "      (encoder): Embedding(60000, 400, padding_idx=1)\n",
       "      (encoder_dp): EmbeddingDropout(\n",
       "        (emb): Embedding(60000, 400, padding_idx=1)\n",
       "      )\n",
       "      (rnns): ModuleList(\n",
       "        (0): WeightDropout(\n",
       "          (module): LSTM(400, 1152, batch_first=True)\n",
       "        )\n",
       "        (1): WeightDropout(\n",
       "          (module): LSTM(1152, 1152, batch_first=True)\n",
       "        )\n",
       "        (2): WeightDropout(\n",
       "          (module): LSTM(1152, 400, batch_first=True)\n",
       "        )\n",
       "      )\n",
       "      (input_dp): RNNDropout()\n",
       "      (hidden_dps): ModuleList(\n",
       "        (0): RNNDropout()\n",
       "        (1): RNNDropout()\n",
       "        (2): RNNDropout()\n",
       "      )\n",
       "    )\n",
       "  )\n",
       "  (1): PoolingLinearClassifier(\n",
       "    (layers): Sequential(\n",
       "      (0): BatchNorm1d(1200, eps=1e-05, momentum=0.1, affine=True, track_running_stats=True)\n",
       "      (1): Dropout(p=0.2, inplace=False)\n",
       "      (2): Linear(in_features=1200, out_features=50, bias=True)\n",
       "      (3): ReLU(inplace=True)\n",
       "      (4): BatchNorm1d(50, eps=1e-05, momentum=0.1, affine=True, track_running_stats=True)\n",
       "      (5): Dropout(p=0.1, inplace=False)\n",
       "      (6): Linear(in_features=50, out_features=2, bias=True)\n",
       "    )\n",
       "  )\n",
       "), opt_func=functools.partial(<class 'torch.optim.adam.Adam'>, betas=(0.9, 0.99)), loss_func=FlattenedLoss of CrossEntropyLoss(), metrics=[<function accuracy at 0x7f16d8018a60>, AUROC()], true_wd=True, bn_wd=True, wd=0.01, train_bn=True, path=PosixPath('.'), model_dir=PosixPath('/content/gdrive/My Drive/JigsawToxicComments-Kaggle2020/model'), callback_fns=[functools.partial(<class 'fastai.basic_train.Recorder'>, add_time=True, silent=False), <class 'fastai.callbacks.mem.PeakMemMetric'>], callbacks=[RNNTrainer\n",
       "learn: RNNLearner(data=TextClasDataBunch;\n",
       "\n",
       "Train: LabelList (223549 items)\n",
       "x: TextList\n",
       "xxbos xxmaj explanation \n",
       "  xxmaj why the edits made under my username xxmaj hardcore xxmaj metallica xxmaj fan were reverted ? xxmaj they were n't vandalisms , just closure on some gas after i voted at xxmaj new xxmaj york xxmaj dolls xxup fac . xxmaj and please do n't remove the template from the talk page since i 'm retired xxunk,xxbos xxmaj xxunk ! xxmaj he matches this background colour i 'm seemingly stuck with . xxmaj thanks . ( talk ) 21:51 , xxmaj january 11 , 2016 ( xxup utc ),xxbos xxmaj hey man , i 'm really not trying to edit war . xxmaj it 's just that this guy is constantly removing relevant information and talking to me through edits instead of my talk page . xxmaj he seems to care more about the formatting than the actual info .,xxbos \" \n",
       "  xxmaj more \n",
       "  i ca n't make any real suggestions on improvement - i wondered if the section statistics should be later on , or a subsection of \" \" types of accidents \" \" xxup -i think the references may need tidying so that they are all in the exact same format ie date format etc . i can do that later on , if no - one else does first - if you have any preferences for formatting style on references or want to do it yourself please let me know . \n",
       " \n",
       "  xxmaj there appears to be a backlog on articles for review so i guess there may be a delay until a reviewer turns up . xxmaj it 's listed in the relevant form eg xxmaj wikipedia : xxmaj xxunk # xxmaj transport \",xxbos xxmaj you , sir , are my hero . xxmaj any chance you remember what page that 's on ?\n",
       "y: CategoryList\n",
       "0,0,0,0,0\n",
       "Path: .;\n",
       "\n",
       "Valid: LabelList (8000 items)\n",
       "x: TextList\n",
       "xxbos xxmaj este usuario ni siquiera llega al rango de xxunk . xxmaj por lo tanto debería ser xxunk en la xxunk para xxunk su alma y nuestro xxunk xxunk mediante su xxunk . xxmaj xxunk linkin 22px xxmaj honor , valor , xxunk . 17:48 13 mar 2008 ( xxup utc ),xxbos xxmaj il testo di questa voce pare esser xxunk direttamente da qui . xxmaj immagino possano esserci problemi di copyright , nel fare cio .,xxbos xxmaj vale . xxmaj sólo xxunk mi pasado . xxmaj todo tiempo pasado fue mejor , ni mucho menos , yo no quisiera xxunk 31 años a nivel particular . xxmaj las xxunk a pasar putas . xxmaj fernando,xxbos xxmaj bu maddenin alt başlığı olarak uluslararası xxunk ile konuyu xxunk ile ilgili xxunk var . xxmaj önerim siyaset bilimi ana xxunk sonra siyasal yaşam ve toplum , siyasal güç , siyasal xxunk , siyasal gruplar , çağdaş xxunk , din , siyasal xxunk , xxunk , propaganda ve siyasal xxunk temelinde xxunk siyasal xxunk . xxmaj bu alt başlıkların daha anlamlı olacağı kanaatindeyim .,xxbos xxmaj belçika nın xxunk yanında ilçe ve xxunk yaparken sanırım xxmaj xxunk örnek xxunk . xxmaj ben de uzak xxunk - 3 yıl ) bu tip şeyler düşünüyorum . xxmaj tabii futbol maddelerinin xxunk xxunk sonra .. daha önce mesajlarınızı görmüştüm , hatta anon bölümünü bizzat xxunk sözünü anlamadım ? ? xxunk xxunk gibi bir şey eklemeyi düşündüm ama xxunk . orayı da silmeyi unuttum . xxunk xxmaj xxunk +\n",
       "y: CategoryList\n",
       "0,0,1,0,0\n",
       "Path: .;\n",
       "\n",
       "Test: None, model=SequentialRNN(\n",
       "  (0): MultiBatchEncoder(\n",
       "    (module): AWD_LSTM(\n",
       "      (encoder): Embedding(60000, 400, padding_idx=1)\n",
       "      (encoder_dp): EmbeddingDropout(\n",
       "        (emb): Embedding(60000, 400, padding_idx=1)\n",
       "      )\n",
       "      (rnns): ModuleList(\n",
       "        (0): WeightDropout(\n",
       "          (module): LSTM(400, 1152, batch_first=True)\n",
       "        )\n",
       "        (1): WeightDropout(\n",
       "          (module): LSTM(1152, 1152, batch_first=True)\n",
       "        )\n",
       "        (2): WeightDropout(\n",
       "          (module): LSTM(1152, 400, batch_first=True)\n",
       "        )\n",
       "      )\n",
       "      (input_dp): RNNDropout()\n",
       "      (hidden_dps): ModuleList(\n",
       "        (0): RNNDropout()\n",
       "        (1): RNNDropout()\n",
       "        (2): RNNDropout()\n",
       "      )\n",
       "    )\n",
       "  )\n",
       "  (1): PoolingLinearClassifier(\n",
       "    (layers): Sequential(\n",
       "      (0): BatchNorm1d(1200, eps=1e-05, momentum=0.1, affine=True, track_running_stats=True)\n",
       "      (1): Dropout(p=0.2, inplace=False)\n",
       "      (2): Linear(in_features=1200, out_features=50, bias=True)\n",
       "      (3): ReLU(inplace=True)\n",
       "      (4): BatchNorm1d(50, eps=1e-05, momentum=0.1, affine=True, track_running_stats=True)\n",
       "      (5): Dropout(p=0.1, inplace=False)\n",
       "      (6): Linear(in_features=50, out_features=2, bias=True)\n",
       "    )\n",
       "  )\n",
       "), opt_func=functools.partial(<class 'torch.optim.adam.Adam'>, betas=(0.9, 0.99)), loss_func=FlattenedLoss of CrossEntropyLoss(), metrics=[<function accuracy at 0x7f16d8018a60>, AUROC()], true_wd=True, bn_wd=True, wd=0.01, train_bn=True, path=PosixPath('.'), model_dir=PosixPath('/content/gdrive/My Drive/JigsawToxicComments-Kaggle2020/model'), callback_fns=[functools.partial(<class 'fastai.basic_train.Recorder'>, add_time=True, silent=False), <class 'fastai.callbacks.mem.PeakMemMetric'>], callbacks=[...], layer_groups=[Sequential(\n",
       "  (0): Embedding(60000, 400, padding_idx=1)\n",
       "  (1): EmbeddingDropout(\n",
       "    (emb): Embedding(60000, 400, padding_idx=1)\n",
       "  )\n",
       "), Sequential(\n",
       "  (0): WeightDropout(\n",
       "    (module): LSTM(400, 1152, batch_first=True)\n",
       "  )\n",
       "  (1): RNNDropout()\n",
       "), Sequential(\n",
       "  (0): WeightDropout(\n",
       "    (module): LSTM(1152, 1152, batch_first=True)\n",
       "  )\n",
       "  (1): RNNDropout()\n",
       "), Sequential(\n",
       "  (0): WeightDropout(\n",
       "    (module): LSTM(1152, 400, batch_first=True)\n",
       "  )\n",
       "  (1): RNNDropout()\n",
       "), Sequential(\n",
       "  (0): PoolingLinearClassifier(\n",
       "    (layers): Sequential(\n",
       "      (0): BatchNorm1d(1200, eps=1e-05, momentum=0.1, affine=True, track_running_stats=True)\n",
       "      (1): Dropout(p=0.2, inplace=False)\n",
       "      (2): Linear(in_features=1200, out_features=50, bias=True)\n",
       "      (3): ReLU(inplace=True)\n",
       "      (4): BatchNorm1d(50, eps=1e-05, momentum=0.1, affine=True, track_running_stats=True)\n",
       "      (5): Dropout(p=0.1, inplace=False)\n",
       "      (6): Linear(in_features=50, out_features=2, bias=True)\n",
       "    )\n",
       "  )\n",
       ")], add_time=True, silent=False)\n",
       "alpha: 2.0\n",
       "beta: 1.0, MixedPrecision\n",
       "learn: RNNLearner(data=TextClasDataBunch;\n",
       "\n",
       "Train: LabelList (223549 items)\n",
       "x: TextList\n",
       "xxbos xxmaj explanation \n",
       "  xxmaj why the edits made under my username xxmaj hardcore xxmaj metallica xxmaj fan were reverted ? xxmaj they were n't vandalisms , just closure on some gas after i voted at xxmaj new xxmaj york xxmaj dolls xxup fac . xxmaj and please do n't remove the template from the talk page since i 'm retired xxunk,xxbos xxmaj xxunk ! xxmaj he matches this background colour i 'm seemingly stuck with . xxmaj thanks . ( talk ) 21:51 , xxmaj january 11 , 2016 ( xxup utc ),xxbos xxmaj hey man , i 'm really not trying to edit war . xxmaj it 's just that this guy is constantly removing relevant information and talking to me through edits instead of my talk page . xxmaj he seems to care more about the formatting than the actual info .,xxbos \" \n",
       "  xxmaj more \n",
       "  i ca n't make any real suggestions on improvement - i wondered if the section statistics should be later on , or a subsection of \" \" types of accidents \" \" xxup -i think the references may need tidying so that they are all in the exact same format ie date format etc . i can do that later on , if no - one else does first - if you have any preferences for formatting style on references or want to do it yourself please let me know . \n",
       " \n",
       "  xxmaj there appears to be a backlog on articles for review so i guess there may be a delay until a reviewer turns up . xxmaj it 's listed in the relevant form eg xxmaj wikipedia : xxmaj xxunk # xxmaj transport \",xxbos xxmaj you , sir , are my hero . xxmaj any chance you remember what page that 's on ?\n",
       "y: CategoryList\n",
       "0,0,0,0,0\n",
       "Path: .;\n",
       "\n",
       "Valid: LabelList (8000 items)\n",
       "x: TextList\n",
       "xxbos xxmaj este usuario ni siquiera llega al rango de xxunk . xxmaj por lo tanto debería ser xxunk en la xxunk para xxunk su alma y nuestro xxunk xxunk mediante su xxunk . xxmaj xxunk linkin 22px xxmaj honor , valor , xxunk . 17:48 13 mar 2008 ( xxup utc ),xxbos xxmaj il testo di questa voce pare esser xxunk direttamente da qui . xxmaj immagino possano esserci problemi di copyright , nel fare cio .,xxbos xxmaj vale . xxmaj sólo xxunk mi pasado . xxmaj todo tiempo pasado fue mejor , ni mucho menos , yo no quisiera xxunk 31 años a nivel particular . xxmaj las xxunk a pasar putas . xxmaj fernando,xxbos xxmaj bu maddenin alt başlığı olarak uluslararası xxunk ile konuyu xxunk ile ilgili xxunk var . xxmaj önerim siyaset bilimi ana xxunk sonra siyasal yaşam ve toplum , siyasal güç , siyasal xxunk , siyasal gruplar , çağdaş xxunk , din , siyasal xxunk , xxunk , propaganda ve siyasal xxunk temelinde xxunk siyasal xxunk . xxmaj bu alt başlıkların daha anlamlı olacağı kanaatindeyim .,xxbos xxmaj belçika nın xxunk yanında ilçe ve xxunk yaparken sanırım xxmaj xxunk örnek xxunk . xxmaj ben de uzak xxunk - 3 yıl ) bu tip şeyler düşünüyorum . xxmaj tabii futbol maddelerinin xxunk xxunk sonra .. daha önce mesajlarınızı görmüştüm , hatta anon bölümünü bizzat xxunk sözünü anlamadım ? ? xxunk xxunk gibi bir şey eklemeyi düşündüm ama xxunk . orayı da silmeyi unuttum . xxunk xxmaj xxunk +\n",
       "y: CategoryList\n",
       "0,0,1,0,0\n",
       "Path: .;\n",
       "\n",
       "Test: None, model=SequentialRNN(\n",
       "  (0): MultiBatchEncoder(\n",
       "    (module): AWD_LSTM(\n",
       "      (encoder): Embedding(60000, 400, padding_idx=1)\n",
       "      (encoder_dp): EmbeddingDropout(\n",
       "        (emb): Embedding(60000, 400, padding_idx=1)\n",
       "      )\n",
       "      (rnns): ModuleList(\n",
       "        (0): WeightDropout(\n",
       "          (module): LSTM(400, 1152, batch_first=True)\n",
       "        )\n",
       "        (1): WeightDropout(\n",
       "          (module): LSTM(1152, 1152, batch_first=True)\n",
       "        )\n",
       "        (2): WeightDropout(\n",
       "          (module): LSTM(1152, 400, batch_first=True)\n",
       "        )\n",
       "      )\n",
       "      (input_dp): RNNDropout()\n",
       "      (hidden_dps): ModuleList(\n",
       "        (0): RNNDropout()\n",
       "        (1): RNNDropout()\n",
       "        (2): RNNDropout()\n",
       "      )\n",
       "    )\n",
       "  )\n",
       "  (1): PoolingLinearClassifier(\n",
       "    (layers): Sequential(\n",
       "      (0): BatchNorm1d(1200, eps=1e-05, momentum=0.1, affine=True, track_running_stats=True)\n",
       "      (1): Dropout(p=0.2, inplace=False)\n",
       "      (2): Linear(in_features=1200, out_features=50, bias=True)\n",
       "      (3): ReLU(inplace=True)\n",
       "      (4): BatchNorm1d(50, eps=1e-05, momentum=0.1, affine=True, track_running_stats=True)\n",
       "      (5): Dropout(p=0.1, inplace=False)\n",
       "      (6): Linear(in_features=50, out_features=2, bias=True)\n",
       "    )\n",
       "  )\n",
       "), opt_func=functools.partial(<class 'torch.optim.adam.Adam'>, betas=(0.9, 0.99)), loss_func=FlattenedLoss of CrossEntropyLoss(), metrics=[<function accuracy at 0x7f16d8018a60>, AUROC()], true_wd=True, bn_wd=True, wd=0.01, train_bn=True, path=PosixPath('.'), model_dir=PosixPath('/content/gdrive/My Drive/JigsawToxicComments-Kaggle2020/model'), callback_fns=[functools.partial(<class 'fastai.basic_train.Recorder'>, add_time=True, silent=False), <class 'fastai.callbacks.mem.PeakMemMetric'>], callbacks=[...], layer_groups=[Sequential(\n",
       "  (0): Embedding(60000, 400, padding_idx=1)\n",
       "  (1): EmbeddingDropout(\n",
       "    (emb): Embedding(60000, 400, padding_idx=1)\n",
       "  )\n",
       "), Sequential(\n",
       "  (0): WeightDropout(\n",
       "    (module): LSTM(400, 1152, batch_first=True)\n",
       "  )\n",
       "  (1): RNNDropout()\n",
       "), Sequential(\n",
       "  (0): WeightDropout(\n",
       "    (module): LSTM(1152, 1152, batch_first=True)\n",
       "  )\n",
       "  (1): RNNDropout()\n",
       "), Sequential(\n",
       "  (0): WeightDropout(\n",
       "    (module): LSTM(1152, 400, batch_first=True)\n",
       "  )\n",
       "  (1): RNNDropout()\n",
       "), Sequential(\n",
       "  (0): PoolingLinearClassifier(\n",
       "    (layers): Sequential(\n",
       "      (0): BatchNorm1d(1200, eps=1e-05, momentum=0.1, affine=True, track_running_stats=True)\n",
       "      (1): Dropout(p=0.2, inplace=False)\n",
       "      (2): Linear(in_features=1200, out_features=50, bias=True)\n",
       "      (3): ReLU(inplace=True)\n",
       "      (4): BatchNorm1d(50, eps=1e-05, momentum=0.1, affine=True, track_running_stats=True)\n",
       "      (5): Dropout(p=0.1, inplace=False)\n",
       "      (6): Linear(in_features=50, out_features=2, bias=True)\n",
       "    )\n",
       "  )\n",
       ")], add_time=True, silent=False)\n",
       "loss_scale: 65536\n",
       "max_noskip: 1000\n",
       "dynamic: True\n",
       "clip: None\n",
       "flat_master: False\n",
       "max_scale: 16777216\n",
       "loss_fp32: True], layer_groups=[Sequential(\n",
       "  (0): Embedding(60000, 400, padding_idx=1)\n",
       "  (1): EmbeddingDropout(\n",
       "    (emb): Embedding(60000, 400, padding_idx=1)\n",
       "  )\n",
       "), Sequential(\n",
       "  (0): WeightDropout(\n",
       "    (module): LSTM(400, 1152, batch_first=True)\n",
       "  )\n",
       "  (1): RNNDropout()\n",
       "), Sequential(\n",
       "  (0): WeightDropout(\n",
       "    (module): LSTM(1152, 1152, batch_first=True)\n",
       "  )\n",
       "  (1): RNNDropout()\n",
       "), Sequential(\n",
       "  (0): WeightDropout(\n",
       "    (module): LSTM(1152, 400, batch_first=True)\n",
       "  )\n",
       "  (1): RNNDropout()\n",
       "), Sequential(\n",
       "  (0): PoolingLinearClassifier(\n",
       "    (layers): Sequential(\n",
       "      (0): BatchNorm1d(1200, eps=1e-05, momentum=0.1, affine=True, track_running_stats=True)\n",
       "      (1): Dropout(p=0.2, inplace=False)\n",
       "      (2): Linear(in_features=1200, out_features=50, bias=True)\n",
       "      (3): ReLU(inplace=True)\n",
       "      (4): BatchNorm1d(50, eps=1e-05, momentum=0.1, affine=True, track_running_stats=True)\n",
       "      (5): Dropout(p=0.1, inplace=False)\n",
       "      (6): Linear(in_features=50, out_features=2, bias=True)\n",
       "    )\n",
       "  )\n",
       ")], add_time=True, silent=False)"
      ]
     },
     "execution_count": 28,
     "metadata": {
      "tags": []
     },
     "output_type": "execute_result"
    }
   ],
   "source": [
    "learn.load(path_mod/'best_fit_head_clas')"
   ]
  },
  {
   "cell_type": "code",
   "execution_count": 38,
   "metadata": {
    "colab": {
     "base_uri": "https://localhost:8080/",
     "height": 408
    },
    "colab_type": "code",
    "executionInfo": {
     "elapsed": 36047,
     "status": "ok",
     "timestamp": 1591446789293,
     "user": {
      "displayName": "Sergiu C",
      "photoUrl": "https://lh3.googleusercontent.com/a-/AOh14GhfqiW02ba2m04oUe7wNwz56AyLNmv59N1G4krbHIc=s64",
      "userId": "11087898073562528768"
     },
     "user_tz": -180
    },
    "id": "vM-nQWwhnfCl",
    "outputId": "57374447-187c-4f12-9c99-ea89b6d83d16"
   },
   "outputs": [
    {
     "data": {
      "text/html": [
       "\n",
       "    <div>\n",
       "        <style>\n",
       "            /* Turns off some styling */\n",
       "            progress {\n",
       "                /* gets rid of default border in Firefox and Opera. */\n",
       "                border: none;\n",
       "                /* Needs to be in here for Safari polyfill so background images work as expected. */\n",
       "                background-size: auto;\n",
       "            }\n",
       "            .progress-bar-interrupted, .progress-bar-interrupted::-webkit-progress-bar {\n",
       "                background: #F44336;\n",
       "            }\n",
       "        </style>\n",
       "      <progress value='0' class='' max='1' style='width:300px; height:20px; vertical-align: middle;'></progress>\n",
       "      0.00% [0/1 00:00<00:00]\n",
       "    </div>\n",
       "    \n",
       "<table border=\"1\" class=\"dataframe\">\n",
       "  <thead>\n",
       "    <tr style=\"text-align: left;\">\n",
       "      <th>epoch</th>\n",
       "      <th>train_loss</th>\n",
       "      <th>valid_loss</th>\n",
       "      <th>accuracy</th>\n",
       "      <th>auroc</th>\n",
       "      <th>cpu used</th>\n",
       "      <th>peak</th>\n",
       "      <th>gpu used</th>\n",
       "      <th>peak</th>\n",
       "      <th>time</th>\n",
       "    </tr>\n",
       "  </thead>\n",
       "  <tbody>\n",
       "  </tbody>\n",
       "</table><p>\n",
       "\n",
       "    <div>\n",
       "        <style>\n",
       "            /* Turns off some styling */\n",
       "            progress {\n",
       "                /* gets rid of default border in Firefox and Opera. */\n",
       "                border: none;\n",
       "                /* Needs to be in here for Safari polyfill so background images work as expected. */\n",
       "                background-size: auto;\n",
       "            }\n",
       "            .progress-bar-interrupted, .progress-bar-interrupted::-webkit-progress-bar {\n",
       "                background: #F44336;\n",
       "            }\n",
       "        </style>\n",
       "      <progress value='86' class='' max='1746' style='width:300px; height:20px; vertical-align: middle;'></progress>\n",
       "      4.93% [86/1746 00:33<10:45 0.4180]\n",
       "    </div>\n",
       "    "
      ],
      "text/plain": [
       "<IPython.core.display.HTML object>"
      ]
     },
     "metadata": {
      "tags": []
     },
     "output_type": "display_data"
    },
    {
     "name": "stdout",
     "output_type": "stream",
     "text": [
      "LR Finder is complete, type {learner_name}.recorder.plot() to see the graph.\n",
      "Min numerical gradient: 1.10E-06\n",
      "Min loss divided by 10: 3.63E-04\n"
     ]
    },
    {
     "data": {
      "image/png": "[encoded data removed]",
      "text/plain": [
       "<Figure size 432x288 with 1 Axes>"
      ]
     },
     "metadata": {
      "needs_background": "light",
      "tags": []
     },
     "output_type": "display_data"
    }
   ],
   "source": [
    "learn.freeze_to(-2)\n",
    "learn.lr_find()\n",
    "learn.recorder.plot(suggestion = True)"
   ]
  },
  {
   "cell_type": "code",
   "execution_count": 39,
   "metadata": {
    "colab": {
     "base_uri": "https://localhost:8080/",
     "height": 97
    },
    "colab_type": "code",
    "executionInfo": {
     "elapsed": 195546,
     "status": "ok",
     "timestamp": 1591447052626,
     "user": {
      "displayName": "Sergiu C",
      "photoUrl": "https://lh3.googleusercontent.com/a-/AOh14GhfqiW02ba2m04oUe7wNwz56AyLNmv59N1G4krbHIc=s64",
      "userId": "11087898073562528768"
     },
     "user_tz": -180
    },
    "id": "7qHApk8WnhiI",
    "outputId": "fd402b0b-8af2-4055-d485-2e08b9e9e4ed"
   },
   "outputs": [
    {
     "data": {
      "text/html": [
       "<table border=\"1\" class=\"dataframe\">\n",
       "  <thead>\n",
       "    <tr style=\"text-align: left;\">\n",
       "      <th>epoch</th>\n",
       "      <th>train_loss</th>\n",
       "      <th>valid_loss</th>\n",
       "      <th>accuracy</th>\n",
       "      <th>auroc</th>\n",
       "      <th>cpu used</th>\n",
       "      <th>peak</th>\n",
       "      <th>gpu used</th>\n",
       "      <th>peak</th>\n",
       "      <th>time</th>\n",
       "    </tr>\n",
       "  </thead>\n",
       "  <tbody>\n",
       "    <tr>\n",
       "      <td>0</td>\n",
       "      <td>0.166323</td>\n",
       "      <td>0.553502</td>\n",
       "      <td>0.847404</td>\n",
       "      <td>0.703836</td>\n",
       "      <td>10</td>\n",
       "      <td>28</td>\n",
       "      <td>104</td>\n",
       "      <td>6820</td>\n",
       "      <td>03:14</td>\n",
       "    </tr>\n",
       "  </tbody>\n",
       "</table>"
      ],
      "text/plain": [
       "<IPython.core.display.HTML object>"
      ]
     },
     "metadata": {
      "tags": []
     },
     "output_type": "display_data"
    },
    {
     "name": "stdout",
     "output_type": "stream",
     "text": [
      "Better model found at epoch 0 with auroc value: 0.70383620262146.\n"
     ]
    }
   ],
   "source": [
    "learn.fit_one_cycle(1, slice(1E-06, 2E-06), moms=(0.8,0.7), \n",
    "                    callbacks=[SaveModelCallback(learn, every='improvement', monitor='auroc', name = 'best_fit_minus2_clas')])"
   ]
  },
  {
   "cell_type": "code",
   "execution_count": 40,
   "metadata": {
    "colab": {
     "base_uri": "https://localhost:8080/",
     "height": 408
    },
    "colab_type": "code",
    "executionInfo": {
     "elapsed": 34572,
     "status": "ok",
     "timestamp": 1591447130311,
     "user": {
      "displayName": "Sergiu C",
      "photoUrl": "https://lh3.googleusercontent.com/a-/AOh14GhfqiW02ba2m04oUe7wNwz56AyLNmv59N1G4krbHIc=s64",
      "userId": "11087898073562528768"
     },
     "user_tz": -180
    },
    "id": "1RYoNFgXn-UH",
    "outputId": "c16ffdd7-fb8b-48b6-9ea5-09fcccd84008"
   },
   "outputs": [
    {
     "data": {
      "text/html": [
       "\n",
       "    <div>\n",
       "        <style>\n",
       "            /* Turns off some styling */\n",
       "            progress {\n",
       "                /* gets rid of default border in Firefox and Opera. */\n",
       "                border: none;\n",
       "                /* Needs to be in here for Safari polyfill so background images work as expected. */\n",
       "                background-size: auto;\n",
       "            }\n",
       "            .progress-bar-interrupted, .progress-bar-interrupted::-webkit-progress-bar {\n",
       "                background: #F44336;\n",
       "            }\n",
       "        </style>\n",
       "      <progress value='0' class='' max='1' style='width:300px; height:20px; vertical-align: middle;'></progress>\n",
       "      0.00% [0/1 00:00<00:00]\n",
       "    </div>\n",
       "    \n",
       "<table border=\"1\" class=\"dataframe\">\n",
       "  <thead>\n",
       "    <tr style=\"text-align: left;\">\n",
       "      <th>epoch</th>\n",
       "      <th>train_loss</th>\n",
       "      <th>valid_loss</th>\n",
       "      <th>accuracy</th>\n",
       "      <th>auroc</th>\n",
       "      <th>cpu used</th>\n",
       "      <th>peak</th>\n",
       "      <th>gpu used</th>\n",
       "      <th>peak</th>\n",
       "      <th>time</th>\n",
       "    </tr>\n",
       "  </thead>\n",
       "  <tbody>\n",
       "  </tbody>\n",
       "</table><p>\n",
       "\n",
       "    <div>\n",
       "        <style>\n",
       "            /* Turns off some styling */\n",
       "            progress {\n",
       "                /* gets rid of default border in Firefox and Opera. */\n",
       "                border: none;\n",
       "                /* Needs to be in here for Safari polyfill so background images work as expected. */\n",
       "                background-size: auto;\n",
       "            }\n",
       "            .progress-bar-interrupted, .progress-bar-interrupted::-webkit-progress-bar {\n",
       "                background: #F44336;\n",
       "            }\n",
       "        </style>\n",
       "      <progress value='86' class='' max='1746' style='width:300px; height:20px; vertical-align: middle;'></progress>\n",
       "      4.93% [86/1746 00:31<10:17 0.2943]\n",
       "    </div>\n",
       "    "
      ],
      "text/plain": [
       "<IPython.core.display.HTML object>"
      ]
     },
     "metadata": {
      "tags": []
     },
     "output_type": "display_data"
    },
    {
     "name": "stdout",
     "output_type": "stream",
     "text": [
      "LR Finder is complete, type {learner_name}.recorder.plot() to see the graph.\n",
      "Min numerical gradient: 1.10E-06\n",
      "Min loss divided by 10: 2.29E-07\n"
     ]
    },
    {
     "data": {
      "image/png": "[encoded data removed]",
      "text/plain": [
       "<Figure size 432x288 with 1 Axes>"
      ]
     },
     "metadata": {
      "needs_background": "light",
      "tags": []
     },
     "output_type": "display_data"
    }
   ],
   "source": [
    "learn.lr_find()\n",
    "learn.recorder.plot(suggestion = True)"
   ]
  },
  {
   "cell_type": "code",
   "execution_count": 41,
   "metadata": {
    "colab": {
     "base_uri": "https://localhost:8080/",
     "height": 97
    },
    "colab_type": "code",
    "executionInfo": {
     "elapsed": 184159,
     "status": "ok",
     "timestamp": 1591447362516,
     "user": {
      "displayName": "Sergiu C",
      "photoUrl": "https://lh3.googleusercontent.com/a-/AOh14GhfqiW02ba2m04oUe7wNwz56AyLNmv59N1G4krbHIc=s64",
      "userId": "11087898073562528768"
     },
     "user_tz": -180
    },
    "id": "f9ldVjDSo4aF",
    "outputId": "5291cb04-19fb-4eb0-97f4-a0d1370f9924"
   },
   "outputs": [
    {
     "data": {
      "text/html": [
       "<table border=\"1\" class=\"dataframe\">\n",
       "  <thead>\n",
       "    <tr style=\"text-align: left;\">\n",
       "      <th>epoch</th>\n",
       "      <th>train_loss</th>\n",
       "      <th>valid_loss</th>\n",
       "      <th>accuracy</th>\n",
       "      <th>auroc</th>\n",
       "      <th>cpu used</th>\n",
       "      <th>peak</th>\n",
       "      <th>gpu used</th>\n",
       "      <th>peak</th>\n",
       "      <th>time</th>\n",
       "    </tr>\n",
       "  </thead>\n",
       "  <tbody>\n",
       "    <tr>\n",
       "      <td>0</td>\n",
       "      <td>0.181862</td>\n",
       "      <td>0.589372</td>\n",
       "      <td>0.847026</td>\n",
       "      <td>0.719920</td>\n",
       "      <td>30</td>\n",
       "      <td>32</td>\n",
       "      <td>-198</td>\n",
       "      <td>6756</td>\n",
       "      <td>03:02</td>\n",
       "    </tr>\n",
       "  </tbody>\n",
       "</table>"
      ],
      "text/plain": [
       "<IPython.core.display.HTML object>"
      ]
     },
     "metadata": {
      "tags": []
     },
     "output_type": "display_data"
    },
    {
     "name": "stdout",
     "output_type": "stream",
     "text": [
      "Better model found at epoch 0 with auroc value: 0.719919741153717.\n"
     ]
    }
   ],
   "source": [
    "learn.fit_one_cycle(1, slice(1E-06, 2E-06), moms=(0.8,0.7), \n",
    "                    callbacks=[SaveModelCallback(learn, every='improvement', monitor='auroc', name = 'best_fit_minus2_clas')])"
   ]
  },
  {
   "cell_type": "code",
   "execution_count": 0,
   "metadata": {
    "colab": {},
    "colab_type": "code",
    "id": "-WBSFGeRpMwE"
   },
   "outputs": [],
   "source": [
    "learn.save('best_fit_minus2_clas')"
   ]
  },
  {
   "cell_type": "code",
   "execution_count": 29,
   "metadata": {
    "colab": {
     "base_uri": "https://localhost:8080/",
     "height": 1000
    },
    "colab_type": "code",
    "executionInfo": {
     "elapsed": 816,
     "status": "ok",
     "timestamp": 1591453912412,
     "user": {
      "displayName": "Sergiu C",
      "photoUrl": "https://lh3.googleusercontent.com/a-/AOh14GhfqiW02ba2m04oUe7wNwz56AyLNmv59N1G4krbHIc=s64",
      "userId": "11087898073562528768"
     },
     "user_tz": -180
    },
    "id": "XXB5AB-HqT18",
    "outputId": "c3fb54b0-6ae6-4540-cc05-837b684e1396"
   },
   "outputs": [
    {
     "data": {
      "text/plain": [
       "RNNLearner(data=TextClasDataBunch;\n",
       "\n",
       "Train: LabelList (223549 items)\n",
       "x: TextList\n",
       "xxbos xxmaj explanation \n",
       "  xxmaj why the edits made under my username xxmaj hardcore xxmaj metallica xxmaj fan were reverted ? xxmaj they were n't vandalisms , just closure on some gas after i voted at xxmaj new xxmaj york xxmaj dolls xxup fac . xxmaj and please do n't remove the template from the talk page since i 'm retired xxunk,xxbos xxmaj xxunk ! xxmaj he matches this background colour i 'm seemingly stuck with . xxmaj thanks . ( talk ) 21:51 , xxmaj january 11 , 2016 ( xxup utc ),xxbos xxmaj hey man , i 'm really not trying to edit war . xxmaj it 's just that this guy is constantly removing relevant information and talking to me through edits instead of my talk page . xxmaj he seems to care more about the formatting than the actual info .,xxbos \" \n",
       "  xxmaj more \n",
       "  i ca n't make any real suggestions on improvement - i wondered if the section statistics should be later on , or a subsection of \" \" types of accidents \" \" xxup -i think the references may need tidying so that they are all in the exact same format ie date format etc . i can do that later on , if no - one else does first - if you have any preferences for formatting style on references or want to do it yourself please let me know . \n",
       " \n",
       "  xxmaj there appears to be a backlog on articles for review so i guess there may be a delay until a reviewer turns up . xxmaj it 's listed in the relevant form eg xxmaj wikipedia : xxmaj xxunk # xxmaj transport \",xxbos xxmaj you , sir , are my hero . xxmaj any chance you remember what page that 's on ?\n",
       "y: CategoryList\n",
       "0,0,0,0,0\n",
       "Path: .;\n",
       "\n",
       "Valid: LabelList (8000 items)\n",
       "x: TextList\n",
       "xxbos xxmaj este usuario ni siquiera llega al rango de xxunk . xxmaj por lo tanto debería ser xxunk en la xxunk para xxunk su alma y nuestro xxunk xxunk mediante su xxunk . xxmaj xxunk linkin 22px xxmaj honor , valor , xxunk . 17:48 13 mar 2008 ( xxup utc ),xxbos xxmaj il testo di questa voce pare esser xxunk direttamente da qui . xxmaj immagino possano esserci problemi di copyright , nel fare cio .,xxbos xxmaj vale . xxmaj sólo xxunk mi pasado . xxmaj todo tiempo pasado fue mejor , ni mucho menos , yo no quisiera xxunk 31 años a nivel particular . xxmaj las xxunk a pasar putas . xxmaj fernando,xxbos xxmaj bu maddenin alt başlığı olarak uluslararası xxunk ile konuyu xxunk ile ilgili xxunk var . xxmaj önerim siyaset bilimi ana xxunk sonra siyasal yaşam ve toplum , siyasal güç , siyasal xxunk , siyasal gruplar , çağdaş xxunk , din , siyasal xxunk , xxunk , propaganda ve siyasal xxunk temelinde xxunk siyasal xxunk . xxmaj bu alt başlıkların daha anlamlı olacağı kanaatindeyim .,xxbos xxmaj belçika nın xxunk yanında ilçe ve xxunk yaparken sanırım xxmaj xxunk örnek xxunk . xxmaj ben de uzak xxunk - 3 yıl ) bu tip şeyler düşünüyorum . xxmaj tabii futbol maddelerinin xxunk xxunk sonra .. daha önce mesajlarınızı görmüştüm , hatta anon bölümünü bizzat xxunk sözünü anlamadım ? ? xxunk xxunk gibi bir şey eklemeyi düşündüm ama xxunk . orayı da silmeyi unuttum . xxunk xxmaj xxunk +\n",
       "y: CategoryList\n",
       "0,0,1,0,0\n",
       "Path: .;\n",
       "\n",
       "Test: None, model=SequentialRNN(\n",
       "  (0): MultiBatchEncoder(\n",
       "    (module): AWD_LSTM(\n",
       "      (encoder): Embedding(60000, 400, padding_idx=1)\n",
       "      (encoder_dp): EmbeddingDropout(\n",
       "        (emb): Embedding(60000, 400, padding_idx=1)\n",
       "      )\n",
       "      (rnns): ModuleList(\n",
       "        (0): WeightDropout(\n",
       "          (module): LSTM(400, 1152, batch_first=True)\n",
       "        )\n",
       "        (1): WeightDropout(\n",
       "          (module): LSTM(1152, 1152, batch_first=True)\n",
       "        )\n",
       "        (2): WeightDropout(\n",
       "          (module): LSTM(1152, 400, batch_first=True)\n",
       "        )\n",
       "      )\n",
       "      (input_dp): RNNDropout()\n",
       "      (hidden_dps): ModuleList(\n",
       "        (0): RNNDropout()\n",
       "        (1): RNNDropout()\n",
       "        (2): RNNDropout()\n",
       "      )\n",
       "    )\n",
       "  )\n",
       "  (1): PoolingLinearClassifier(\n",
       "    (layers): Sequential(\n",
       "      (0): BatchNorm1d(1200, eps=1e-05, momentum=0.1, affine=True, track_running_stats=True)\n",
       "      (1): Dropout(p=0.2, inplace=False)\n",
       "      (2): Linear(in_features=1200, out_features=50, bias=True)\n",
       "      (3): ReLU(inplace=True)\n",
       "      (4): BatchNorm1d(50, eps=1e-05, momentum=0.1, affine=True, track_running_stats=True)\n",
       "      (5): Dropout(p=0.1, inplace=False)\n",
       "      (6): Linear(in_features=50, out_features=2, bias=True)\n",
       "    )\n",
       "  )\n",
       "), opt_func=functools.partial(<class 'torch.optim.adam.Adam'>, betas=(0.9, 0.99)), loss_func=FlattenedLoss of CrossEntropyLoss(), metrics=[<function accuracy at 0x7f16d8018a60>, AUROC()], true_wd=True, bn_wd=True, wd=0.01, train_bn=True, path=PosixPath('.'), model_dir=PosixPath('/content/gdrive/My Drive/JigsawToxicComments-Kaggle2020/model'), callback_fns=[functools.partial(<class 'fastai.basic_train.Recorder'>, add_time=True, silent=False), <class 'fastai.callbacks.mem.PeakMemMetric'>], callbacks=[RNNTrainer\n",
       "learn: RNNLearner(data=TextClasDataBunch;\n",
       "\n",
       "Train: LabelList (223549 items)\n",
       "x: TextList\n",
       "xxbos xxmaj explanation \n",
       "  xxmaj why the edits made under my username xxmaj hardcore xxmaj metallica xxmaj fan were reverted ? xxmaj they were n't vandalisms , just closure on some gas after i voted at xxmaj new xxmaj york xxmaj dolls xxup fac . xxmaj and please do n't remove the template from the talk page since i 'm retired xxunk,xxbos xxmaj xxunk ! xxmaj he matches this background colour i 'm seemingly stuck with . xxmaj thanks . ( talk ) 21:51 , xxmaj january 11 , 2016 ( xxup utc ),xxbos xxmaj hey man , i 'm really not trying to edit war . xxmaj it 's just that this guy is constantly removing relevant information and talking to me through edits instead of my talk page . xxmaj he seems to care more about the formatting than the actual info .,xxbos \" \n",
       "  xxmaj more \n",
       "  i ca n't make any real suggestions on improvement - i wondered if the section statistics should be later on , or a subsection of \" \" types of accidents \" \" xxup -i think the references may need tidying so that they are all in the exact same format ie date format etc . i can do that later on , if no - one else does first - if you have any preferences for formatting style on references or want to do it yourself please let me know . \n",
       " \n",
       "  xxmaj there appears to be a backlog on articles for review so i guess there may be a delay until a reviewer turns up . xxmaj it 's listed in the relevant form eg xxmaj wikipedia : xxmaj xxunk # xxmaj transport \",xxbos xxmaj you , sir , are my hero . xxmaj any chance you remember what page that 's on ?\n",
       "y: CategoryList\n",
       "0,0,0,0,0\n",
       "Path: .;\n",
       "\n",
       "Valid: LabelList (8000 items)\n",
       "x: TextList\n",
       "xxbos xxmaj este usuario ni siquiera llega al rango de xxunk . xxmaj por lo tanto debería ser xxunk en la xxunk para xxunk su alma y nuestro xxunk xxunk mediante su xxunk . xxmaj xxunk linkin 22px xxmaj honor , valor , xxunk . 17:48 13 mar 2008 ( xxup utc ),xxbos xxmaj il testo di questa voce pare esser xxunk direttamente da qui . xxmaj immagino possano esserci problemi di copyright , nel fare cio .,xxbos xxmaj vale . xxmaj sólo xxunk mi pasado . xxmaj todo tiempo pasado fue mejor , ni mucho menos , yo no quisiera xxunk 31 años a nivel particular . xxmaj las xxunk a pasar putas . xxmaj fernando,xxbos xxmaj bu maddenin alt başlığı olarak uluslararası xxunk ile konuyu xxunk ile ilgili xxunk var . xxmaj önerim siyaset bilimi ana xxunk sonra siyasal yaşam ve toplum , siyasal güç , siyasal xxunk , siyasal gruplar , çağdaş xxunk , din , siyasal xxunk , xxunk , propaganda ve siyasal xxunk temelinde xxunk siyasal xxunk . xxmaj bu alt başlıkların daha anlamlı olacağı kanaatindeyim .,xxbos xxmaj belçika nın xxunk yanında ilçe ve xxunk yaparken sanırım xxmaj xxunk örnek xxunk . xxmaj ben de uzak xxunk - 3 yıl ) bu tip şeyler düşünüyorum . xxmaj tabii futbol maddelerinin xxunk xxunk sonra .. daha önce mesajlarınızı görmüştüm , hatta anon bölümünü bizzat xxunk sözünü anlamadım ? ? xxunk xxunk gibi bir şey eklemeyi düşündüm ama xxunk . orayı da silmeyi unuttum . xxunk xxmaj xxunk +\n",
       "y: CategoryList\n",
       "0,0,1,0,0\n",
       "Path: .;\n",
       "\n",
       "Test: None, model=SequentialRNN(\n",
       "  (0): MultiBatchEncoder(\n",
       "    (module): AWD_LSTM(\n",
       "      (encoder): Embedding(60000, 400, padding_idx=1)\n",
       "      (encoder_dp): EmbeddingDropout(\n",
       "        (emb): Embedding(60000, 400, padding_idx=1)\n",
       "      )\n",
       "      (rnns): ModuleList(\n",
       "        (0): WeightDropout(\n",
       "          (module): LSTM(400, 1152, batch_first=True)\n",
       "        )\n",
       "        (1): WeightDropout(\n",
       "          (module): LSTM(1152, 1152, batch_first=True)\n",
       "        )\n",
       "        (2): WeightDropout(\n",
       "          (module): LSTM(1152, 400, batch_first=True)\n",
       "        )\n",
       "      )\n",
       "      (input_dp): RNNDropout()\n",
       "      (hidden_dps): ModuleList(\n",
       "        (0): RNNDropout()\n",
       "        (1): RNNDropout()\n",
       "        (2): RNNDropout()\n",
       "      )\n",
       "    )\n",
       "  )\n",
       "  (1): PoolingLinearClassifier(\n",
       "    (layers): Sequential(\n",
       "      (0): BatchNorm1d(1200, eps=1e-05, momentum=0.1, affine=True, track_running_stats=True)\n",
       "      (1): Dropout(p=0.2, inplace=False)\n",
       "      (2): Linear(in_features=1200, out_features=50, bias=True)\n",
       "      (3): ReLU(inplace=True)\n",
       "      (4): BatchNorm1d(50, eps=1e-05, momentum=0.1, affine=True, track_running_stats=True)\n",
       "      (5): Dropout(p=0.1, inplace=False)\n",
       "      (6): Linear(in_features=50, out_features=2, bias=True)\n",
       "    )\n",
       "  )\n",
       "), opt_func=functools.partial(<class 'torch.optim.adam.Adam'>, betas=(0.9, 0.99)), loss_func=FlattenedLoss of CrossEntropyLoss(), metrics=[<function accuracy at 0x7f16d8018a60>, AUROC()], true_wd=True, bn_wd=True, wd=0.01, train_bn=True, path=PosixPath('.'), model_dir=PosixPath('/content/gdrive/My Drive/JigsawToxicComments-Kaggle2020/model'), callback_fns=[functools.partial(<class 'fastai.basic_train.Recorder'>, add_time=True, silent=False), <class 'fastai.callbacks.mem.PeakMemMetric'>], callbacks=[...], layer_groups=[Sequential(\n",
       "  (0): Embedding(60000, 400, padding_idx=1)\n",
       "  (1): EmbeddingDropout(\n",
       "    (emb): Embedding(60000, 400, padding_idx=1)\n",
       "  )\n",
       "), Sequential(\n",
       "  (0): WeightDropout(\n",
       "    (module): LSTM(400, 1152, batch_first=True)\n",
       "  )\n",
       "  (1): RNNDropout()\n",
       "), Sequential(\n",
       "  (0): WeightDropout(\n",
       "    (module): LSTM(1152, 1152, batch_first=True)\n",
       "  )\n",
       "  (1): RNNDropout()\n",
       "), Sequential(\n",
       "  (0): WeightDropout(\n",
       "    (module): LSTM(1152, 400, batch_first=True)\n",
       "  )\n",
       "  (1): RNNDropout()\n",
       "), Sequential(\n",
       "  (0): PoolingLinearClassifier(\n",
       "    (layers): Sequential(\n",
       "      (0): BatchNorm1d(1200, eps=1e-05, momentum=0.1, affine=True, track_running_stats=True)\n",
       "      (1): Dropout(p=0.2, inplace=False)\n",
       "      (2): Linear(in_features=1200, out_features=50, bias=True)\n",
       "      (3): ReLU(inplace=True)\n",
       "      (4): BatchNorm1d(50, eps=1e-05, momentum=0.1, affine=True, track_running_stats=True)\n",
       "      (5): Dropout(p=0.1, inplace=False)\n",
       "      (6): Linear(in_features=50, out_features=2, bias=True)\n",
       "    )\n",
       "  )\n",
       ")], add_time=True, silent=False)\n",
       "alpha: 2.0\n",
       "beta: 1.0, MixedPrecision\n",
       "learn: RNNLearner(data=TextClasDataBunch;\n",
       "\n",
       "Train: LabelList (223549 items)\n",
       "x: TextList\n",
       "xxbos xxmaj explanation \n",
       "  xxmaj why the edits made under my username xxmaj hardcore xxmaj metallica xxmaj fan were reverted ? xxmaj they were n't vandalisms , just closure on some gas after i voted at xxmaj new xxmaj york xxmaj dolls xxup fac . xxmaj and please do n't remove the template from the talk page since i 'm retired xxunk,xxbos xxmaj xxunk ! xxmaj he matches this background colour i 'm seemingly stuck with . xxmaj thanks . ( talk ) 21:51 , xxmaj january 11 , 2016 ( xxup utc ),xxbos xxmaj hey man , i 'm really not trying to edit war . xxmaj it 's just that this guy is constantly removing relevant information and talking to me through edits instead of my talk page . xxmaj he seems to care more about the formatting than the actual info .,xxbos \" \n",
       "  xxmaj more \n",
       "  i ca n't make any real suggestions on improvement - i wondered if the section statistics should be later on , or a subsection of \" \" types of accidents \" \" xxup -i think the references may need tidying so that they are all in the exact same format ie date format etc . i can do that later on , if no - one else does first - if you have any preferences for formatting style on references or want to do it yourself please let me know . \n",
       " \n",
       "  xxmaj there appears to be a backlog on articles for review so i guess there may be a delay until a reviewer turns up . xxmaj it 's listed in the relevant form eg xxmaj wikipedia : xxmaj xxunk # xxmaj transport \",xxbos xxmaj you , sir , are my hero . xxmaj any chance you remember what page that 's on ?\n",
       "y: CategoryList\n",
       "0,0,0,0,0\n",
       "Path: .;\n",
       "\n",
       "Valid: LabelList (8000 items)\n",
       "x: TextList\n",
       "xxbos xxmaj este usuario ni siquiera llega al rango de xxunk . xxmaj por lo tanto debería ser xxunk en la xxunk para xxunk su alma y nuestro xxunk xxunk mediante su xxunk . xxmaj xxunk linkin 22px xxmaj honor , valor , xxunk . 17:48 13 mar 2008 ( xxup utc ),xxbos xxmaj il testo di questa voce pare esser xxunk direttamente da qui . xxmaj immagino possano esserci problemi di copyright , nel fare cio .,xxbos xxmaj vale . xxmaj sólo xxunk mi pasado . xxmaj todo tiempo pasado fue mejor , ni mucho menos , yo no quisiera xxunk 31 años a nivel particular . xxmaj las xxunk a pasar putas . xxmaj fernando,xxbos xxmaj bu maddenin alt başlığı olarak uluslararası xxunk ile konuyu xxunk ile ilgili xxunk var . xxmaj önerim siyaset bilimi ana xxunk sonra siyasal yaşam ve toplum , siyasal güç , siyasal xxunk , siyasal gruplar , çağdaş xxunk , din , siyasal xxunk , xxunk , propaganda ve siyasal xxunk temelinde xxunk siyasal xxunk . xxmaj bu alt başlıkların daha anlamlı olacağı kanaatindeyim .,xxbos xxmaj belçika nın xxunk yanında ilçe ve xxunk yaparken sanırım xxmaj xxunk örnek xxunk . xxmaj ben de uzak xxunk - 3 yıl ) bu tip şeyler düşünüyorum . xxmaj tabii futbol maddelerinin xxunk xxunk sonra .. daha önce mesajlarınızı görmüştüm , hatta anon bölümünü bizzat xxunk sözünü anlamadım ? ? xxunk xxunk gibi bir şey eklemeyi düşündüm ama xxunk . orayı da silmeyi unuttum . xxunk xxmaj xxunk +\n",
       "y: CategoryList\n",
       "0,0,1,0,0\n",
       "Path: .;\n",
       "\n",
       "Test: None, model=SequentialRNN(\n",
       "  (0): MultiBatchEncoder(\n",
       "    (module): AWD_LSTM(\n",
       "      (encoder): Embedding(60000, 400, padding_idx=1)\n",
       "      (encoder_dp): EmbeddingDropout(\n",
       "        (emb): Embedding(60000, 400, padding_idx=1)\n",
       "      )\n",
       "      (rnns): ModuleList(\n",
       "        (0): WeightDropout(\n",
       "          (module): LSTM(400, 1152, batch_first=True)\n",
       "        )\n",
       "        (1): WeightDropout(\n",
       "          (module): LSTM(1152, 1152, batch_first=True)\n",
       "        )\n",
       "        (2): WeightDropout(\n",
       "          (module): LSTM(1152, 400, batch_first=True)\n",
       "        )\n",
       "      )\n",
       "      (input_dp): RNNDropout()\n",
       "      (hidden_dps): ModuleList(\n",
       "        (0): RNNDropout()\n",
       "        (1): RNNDropout()\n",
       "        (2): RNNDropout()\n",
       "      )\n",
       "    )\n",
       "  )\n",
       "  (1): PoolingLinearClassifier(\n",
       "    (layers): Sequential(\n",
       "      (0): BatchNorm1d(1200, eps=1e-05, momentum=0.1, affine=True, track_running_stats=True)\n",
       "      (1): Dropout(p=0.2, inplace=False)\n",
       "      (2): Linear(in_features=1200, out_features=50, bias=True)\n",
       "      (3): ReLU(inplace=True)\n",
       "      (4): BatchNorm1d(50, eps=1e-05, momentum=0.1, affine=True, track_running_stats=True)\n",
       "      (5): Dropout(p=0.1, inplace=False)\n",
       "      (6): Linear(in_features=50, out_features=2, bias=True)\n",
       "    )\n",
       "  )\n",
       "), opt_func=functools.partial(<class 'torch.optim.adam.Adam'>, betas=(0.9, 0.99)), loss_func=FlattenedLoss of CrossEntropyLoss(), metrics=[<function accuracy at 0x7f16d8018a60>, AUROC()], true_wd=True, bn_wd=True, wd=0.01, train_bn=True, path=PosixPath('.'), model_dir=PosixPath('/content/gdrive/My Drive/JigsawToxicComments-Kaggle2020/model'), callback_fns=[functools.partial(<class 'fastai.basic_train.Recorder'>, add_time=True, silent=False), <class 'fastai.callbacks.mem.PeakMemMetric'>], callbacks=[...], layer_groups=[Sequential(\n",
       "  (0): Embedding(60000, 400, padding_idx=1)\n",
       "  (1): EmbeddingDropout(\n",
       "    (emb): Embedding(60000, 400, padding_idx=1)\n",
       "  )\n",
       "), Sequential(\n",
       "  (0): WeightDropout(\n",
       "    (module): LSTM(400, 1152, batch_first=True)\n",
       "  )\n",
       "  (1): RNNDropout()\n",
       "), Sequential(\n",
       "  (0): WeightDropout(\n",
       "    (module): LSTM(1152, 1152, batch_first=True)\n",
       "  )\n",
       "  (1): RNNDropout()\n",
       "), Sequential(\n",
       "  (0): WeightDropout(\n",
       "    (module): LSTM(1152, 400, batch_first=True)\n",
       "  )\n",
       "  (1): RNNDropout()\n",
       "), Sequential(\n",
       "  (0): PoolingLinearClassifier(\n",
       "    (layers): Sequential(\n",
       "      (0): BatchNorm1d(1200, eps=1e-05, momentum=0.1, affine=True, track_running_stats=True)\n",
       "      (1): Dropout(p=0.2, inplace=False)\n",
       "      (2): Linear(in_features=1200, out_features=50, bias=True)\n",
       "      (3): ReLU(inplace=True)\n",
       "      (4): BatchNorm1d(50, eps=1e-05, momentum=0.1, affine=True, track_running_stats=True)\n",
       "      (5): Dropout(p=0.1, inplace=False)\n",
       "      (6): Linear(in_features=50, out_features=2, bias=True)\n",
       "    )\n",
       "  )\n",
       ")], add_time=True, silent=False)\n",
       "loss_scale: 65536\n",
       "max_noskip: 1000\n",
       "dynamic: True\n",
       "clip: None\n",
       "flat_master: False\n",
       "max_scale: 16777216\n",
       "loss_fp32: True], layer_groups=[Sequential(\n",
       "  (0): Embedding(60000, 400, padding_idx=1)\n",
       "  (1): EmbeddingDropout(\n",
       "    (emb): Embedding(60000, 400, padding_idx=1)\n",
       "  )\n",
       "), Sequential(\n",
       "  (0): WeightDropout(\n",
       "    (module): LSTM(400, 1152, batch_first=True)\n",
       "  )\n",
       "  (1): RNNDropout()\n",
       "), Sequential(\n",
       "  (0): WeightDropout(\n",
       "    (module): LSTM(1152, 1152, batch_first=True)\n",
       "  )\n",
       "  (1): RNNDropout()\n",
       "), Sequential(\n",
       "  (0): WeightDropout(\n",
       "    (module): LSTM(1152, 400, batch_first=True)\n",
       "  )\n",
       "  (1): RNNDropout()\n",
       "), Sequential(\n",
       "  (0): PoolingLinearClassifier(\n",
       "    (layers): Sequential(\n",
       "      (0): BatchNorm1d(1200, eps=1e-05, momentum=0.1, affine=True, track_running_stats=True)\n",
       "      (1): Dropout(p=0.2, inplace=False)\n",
       "      (2): Linear(in_features=1200, out_features=50, bias=True)\n",
       "      (3): ReLU(inplace=True)\n",
       "      (4): BatchNorm1d(50, eps=1e-05, momentum=0.1, affine=True, track_running_stats=True)\n",
       "      (5): Dropout(p=0.1, inplace=False)\n",
       "      (6): Linear(in_features=50, out_features=2, bias=True)\n",
       "    )\n",
       "  )\n",
       ")], add_time=True, silent=False)"
      ]
     },
     "execution_count": 29,
     "metadata": {
      "tags": []
     },
     "output_type": "execute_result"
    }
   ],
   "source": [
    "learn.load(path_mod/\"best_fit_minus2_clas\")"
   ]
  },
  {
   "cell_type": "code",
   "execution_count": 30,
   "metadata": {
    "colab": {
     "base_uri": "https://localhost:8080/",
     "height": 408
    },
    "colab_type": "code",
    "executionInfo": {
     "elapsed": 114171,
     "status": "ok",
     "timestamp": 1591454034712,
     "user": {
      "displayName": "Sergiu C",
      "photoUrl": "https://lh3.googleusercontent.com/a-/AOh14GhfqiW02ba2m04oUe7wNwz56AyLNmv59N1G4krbHIc=s64",
      "userId": "11087898073562528768"
     },
     "user_tz": -180
    },
    "id": "TVYRitPhqiIh",
    "outputId": "aee70867-bfb7-4bcd-b931-1bb82eefd6b6"
   },
   "outputs": [
    {
     "data": {
      "text/html": [
       "\n",
       "    <div>\n",
       "        <style>\n",
       "            /* Turns off some styling */\n",
       "            progress {\n",
       "                /* gets rid of default border in Firefox and Opera. */\n",
       "                border: none;\n",
       "                /* Needs to be in here for Safari polyfill so background images work as expected. */\n",
       "                background-size: auto;\n",
       "            }\n",
       "            .progress-bar-interrupted, .progress-bar-interrupted::-webkit-progress-bar {\n",
       "                background: #F44336;\n",
       "            }\n",
       "        </style>\n",
       "      <progress value='0' class='' max='1' style='width:300px; height:20px; vertical-align: middle;'></progress>\n",
       "      0.00% [0/1 00:00<00:00]\n",
       "    </div>\n",
       "    \n",
       "<table border=\"1\" class=\"dataframe\">\n",
       "  <thead>\n",
       "    <tr style=\"text-align: left;\">\n",
       "      <th>epoch</th>\n",
       "      <th>train_loss</th>\n",
       "      <th>valid_loss</th>\n",
       "      <th>accuracy</th>\n",
       "      <th>auroc</th>\n",
       "      <th>cpu used</th>\n",
       "      <th>peak</th>\n",
       "      <th>gpu used</th>\n",
       "      <th>peak</th>\n",
       "      <th>time</th>\n",
       "    </tr>\n",
       "  </thead>\n",
       "  <tbody>\n",
       "  </tbody>\n",
       "</table><p>\n",
       "\n",
       "    <div>\n",
       "        <style>\n",
       "            /* Turns off some styling */\n",
       "            progress {\n",
       "                /* gets rid of default border in Firefox and Opera. */\n",
       "                border: none;\n",
       "                /* Needs to be in here for Safari polyfill so background images work as expected. */\n",
       "                background-size: auto;\n",
       "            }\n",
       "            .progress-bar-interrupted, .progress-bar-interrupted::-webkit-progress-bar {\n",
       "                background: #F44336;\n",
       "            }\n",
       "        </style>\n",
       "      <progress value='90' class='' max='1746' style='width:300px; height:20px; vertical-align: middle;'></progress>\n",
       "      5.15% [90/1746 01:49<33:37 0.5295]\n",
       "    </div>\n",
       "    "
      ],
      "text/plain": [
       "<IPython.core.display.HTML object>"
      ]
     },
     "metadata": {
      "tags": []
     },
     "output_type": "display_data"
    },
    {
     "name": "stdout",
     "output_type": "stream",
     "text": [
      "LR Finder is complete, type {learner_name}.recorder.plot() to see the graph.\n",
      "Min numerical gradient: 2.75E-06\n",
      "Min loss divided by 10: 5.75E-07\n"
     ]
    },
    {
     "data": {
      "image/png": "[encoded data removed]",
      "text/plain": [
       "<Figure size 432x288 with 1 Axes>"
      ]
     },
     "metadata": {
      "needs_background": "light",
      "tags": []
     },
     "output_type": "display_data"
    }
   ],
   "source": [
    "learn.lr_find()\n",
    "learn.recorder.plot(suggestion = True)"
   ]
  },
  {
   "cell_type": "code",
   "execution_count": 31,
   "metadata": {
    "colab": {
     "base_uri": "https://localhost:8080/",
     "height": 97
    },
    "colab_type": "code",
    "executionInfo": {
     "elapsed": 1155220,
     "status": "ok",
     "timestamp": 1591455269222,
     "user": {
      "displayName": "Sergiu C",
      "photoUrl": "https://lh3.googleusercontent.com/a-/AOh14GhfqiW02ba2m04oUe7wNwz56AyLNmv59N1G4krbHIc=s64",
      "userId": "11087898073562528768"
     },
     "user_tz": -180
    },
    "id": "fxz9e2UdAJh9",
    "outputId": "270a26b2-2c97-48f0-f055-776dfc738a8d"
   },
   "outputs": [
    {
     "data": {
      "text/html": [
       "<table border=\"1\" class=\"dataframe\">\n",
       "  <thead>\n",
       "    <tr style=\"text-align: left;\">\n",
       "      <th>epoch</th>\n",
       "      <th>train_loss</th>\n",
       "      <th>valid_loss</th>\n",
       "      <th>accuracy</th>\n",
       "      <th>auroc</th>\n",
       "      <th>cpu used</th>\n",
       "      <th>peak</th>\n",
       "      <th>gpu used</th>\n",
       "      <th>peak</th>\n",
       "      <th>time</th>\n",
       "    </tr>\n",
       "  </thead>\n",
       "  <tbody>\n",
       "    <tr>\n",
       "      <td>0</td>\n",
       "      <td>0.176189</td>\n",
       "      <td>0.587235</td>\n",
       "      <td>0.846144</td>\n",
       "      <td>0.708852</td>\n",
       "      <td>10</td>\n",
       "      <td>27</td>\n",
       "      <td>-70</td>\n",
       "      <td>5860</td>\n",
       "      <td>19:15</td>\n",
       "    </tr>\n",
       "  </tbody>\n",
       "</table>"
      ],
      "text/plain": [
       "<IPython.core.display.HTML object>"
      ]
     },
     "metadata": {
      "tags": []
     },
     "output_type": "display_data"
    },
    {
     "name": "stdout",
     "output_type": "stream",
     "text": [
      "Better model found at epoch 0 with auroc value: 0.7088521122932434.\n"
     ]
    }
   ],
   "source": [
    "learn.fit_one_cycle(1, slice(1.5E-06, 2.5E-06), moms=(0.8,0.7), \n",
    "                    callbacks=[SaveModelCallback(learn, every='improvement', monitor='auroc', name = 'best_fit_minus2_clas')])"
   ]
  },
  {
   "cell_type": "code",
   "execution_count": 32,
   "metadata": {
    "colab": {
     "base_uri": "https://localhost:8080/",
     "height": 408
    },
    "colab_type": "code",
    "executionInfo": {
     "elapsed": 173915,
     "status": "ok",
     "timestamp": 1591455587439,
     "user": {
      "displayName": "Sergiu C",
      "photoUrl": "https://lh3.googleusercontent.com/a-/AOh14GhfqiW02ba2m04oUe7wNwz56AyLNmv59N1G4krbHIc=s64",
      "userId": "11087898073562528768"
     },
     "user_tz": -180
    },
    "id": "1tT2im9TDqBc",
    "outputId": "dee40a28-339f-4dfd-bf5a-86c3f9aaefd5"
   },
   "outputs": [
    {
     "data": {
      "text/html": [
       "\n",
       "    <div>\n",
       "        <style>\n",
       "            /* Turns off some styling */\n",
       "            progress {\n",
       "                /* gets rid of default border in Firefox and Opera. */\n",
       "                border: none;\n",
       "                /* Needs to be in here for Safari polyfill so background images work as expected. */\n",
       "                background-size: auto;\n",
       "            }\n",
       "            .progress-bar-interrupted, .progress-bar-interrupted::-webkit-progress-bar {\n",
       "                background: #F44336;\n",
       "            }\n",
       "        </style>\n",
       "      <progress value='0' class='' max='1' style='width:300px; height:20px; vertical-align: middle;'></progress>\n",
       "      0.00% [0/1 00:00<00:00]\n",
       "    </div>\n",
       "    \n",
       "<table border=\"1\" class=\"dataframe\">\n",
       "  <thead>\n",
       "    <tr style=\"text-align: left;\">\n",
       "      <th>epoch</th>\n",
       "      <th>train_loss</th>\n",
       "      <th>valid_loss</th>\n",
       "      <th>accuracy</th>\n",
       "      <th>auroc</th>\n",
       "      <th>cpu used</th>\n",
       "      <th>peak</th>\n",
       "      <th>gpu used</th>\n",
       "      <th>peak</th>\n",
       "      <th>time</th>\n",
       "    </tr>\n",
       "  </thead>\n",
       "  <tbody>\n",
       "  </tbody>\n",
       "</table><p>\n",
       "\n",
       "    <div>\n",
       "        <style>\n",
       "            /* Turns off some styling */\n",
       "            progress {\n",
       "                /* gets rid of default border in Firefox and Opera. */\n",
       "                border: none;\n",
       "                /* Needs to be in here for Safari polyfill so background images work as expected. */\n",
       "                background-size: auto;\n",
       "            }\n",
       "            .progress-bar-interrupted, .progress-bar-interrupted::-webkit-progress-bar {\n",
       "                background: #F44336;\n",
       "            }\n",
       "        </style>\n",
       "      <progress value='86' class='' max='1746' style='width:300px; height:20px; vertical-align: middle;'></progress>\n",
       "      4.93% [86/1746 02:50<54:49 0.3436]\n",
       "    </div>\n",
       "    "
      ],
      "text/plain": [
       "<IPython.core.display.HTML object>"
      ]
     },
     "metadata": {
      "tags": []
     },
     "output_type": "display_data"
    },
    {
     "name": "stdout",
     "output_type": "stream",
     "text": [
      "LR Finder is complete, type {learner_name}.recorder.plot() to see the graph.\n",
      "Min numerical gradient: 6.31E-07\n",
      "Min loss divided by 10: 6.92E-05\n"
     ]
    },
    {
     "data": {
      "image/png": "[encoded data removed]",
      "text/plain": [
       "<Figure size 432x288 with 1 Axes>"
      ]
     },
     "metadata": {
      "needs_background": "light",
      "tags": []
     },
     "output_type": "display_data"
    }
   ],
   "source": [
    "learn.load(\"best_fit_minus2_clas\")\n",
    "learn.freeze_to(-3)\n",
    "learn.lr_find()\n",
    "learn.recorder.plot(suggestion = True)\n",
    "\n"
   ]
  },
  {
   "cell_type": "markdown",
   "metadata": {},
   "source": [
    "# Results"
   ]
  },
  {
   "cell_type": "markdown",
   "metadata": {},
   "source": [
    "Although the output shows an error, it's because Google Colab session restarted. Even so, I managed to obtain an AUROC score of approx. 72%, which is OK (not great, not terrible). Although this result is decent, it definitely isn't Kaggle Competition worthy, even with what appears to be approx. 85% accuracy. I do think I might have overfitted the model, but it is quite hard to trace back, due to the computationally expensive nature of training NLP models."
   ]
  },
  {
   "cell_type": "code",
   "execution_count": 33,
   "metadata": {
    "colab": {
     "base_uri": "https://localhost:8080/",
     "height": 449
    },
    "colab_type": "code",
    "executionInfo": {
     "elapsed": 3000027,
     "status": "error",
     "timestamp": 1591458699594,
     "user": {
      "displayName": "Sergiu C",
      "photoUrl": "https://lh3.googleusercontent.com/a-/AOh14GhfqiW02ba2m04oUe7wNwz56AyLNmv59N1G4krbHIc=s64",
      "userId": "11087898073562528768"
     },
     "user_tz": -180
    },
    "id": "DGMFNmfgJcGw",
    "outputId": "1f54e8ee-878c-47a5-cdb9-626c5cc3dd32",
    "scrolled": true
   },
   "outputs": [
    {
     "data": {
      "text/html": [
       "\n",
       "    <div>\n",
       "        <style>\n",
       "            /* Turns off some styling */\n",
       "            progress {\n",
       "                /* gets rid of default border in Firefox and Opera. */\n",
       "                border: none;\n",
       "                /* Needs to be in here for Safari polyfill so background images work as expected. */\n",
       "                background-size: auto;\n",
       "            }\n",
       "            .progress-bar-interrupted, .progress-bar-interrupted::-webkit-progress-bar {\n",
       "                background: #F44336;\n",
       "            }\n",
       "        </style>\n",
       "      <progress value='1' class='' max='2' style='width:300px; height:20px; vertical-align: middle;'></progress>\n",
       "      50.00% [1/2 38:26<38:26]\n",
       "    </div>\n",
       "    \n",
       "<table border=\"1\" class=\"dataframe\">\n",
       "  <thead>\n",
       "    <tr style=\"text-align: left;\">\n",
       "      <th>epoch</th>\n",
       "      <th>train_loss</th>\n",
       "      <th>valid_loss</th>\n",
       "      <th>accuracy</th>\n",
       "      <th>auroc</th>\n",
       "      <th>cpu used</th>\n",
       "      <th>peak</th>\n",
       "      <th>gpu used</th>\n",
       "      <th>peak</th>\n",
       "      <th>time</th>\n",
       "    </tr>\n",
       "  </thead>\n",
       "  <tbody>\n",
       "    <tr>\n",
       "      <td>0</td>\n",
       "      <td>0.134381</td>\n",
       "      <td>0.677873</td>\n",
       "      <td>0.847782</td>\n",
       "      <td>0.723059</td>\n",
       "      <td>30</td>\n",
       "      <td>40</td>\n",
       "      <td>210</td>\n",
       "      <td>10158</td>\n",
       "      <td>38:25</td>\n",
       "    </tr>\n",
       "  </tbody>\n",
       "</table><p>\n",
       "\n",
       "    <div>\n",
       "        <style>\n",
       "            /* Turns off some styling */\n",
       "            progress {\n",
       "                /* gets rid of default border in Firefox and Opera. */\n",
       "                border: none;\n",
       "                /* Needs to be in here for Safari polyfill so background images work as expected. */\n",
       "                background-size: auto;\n",
       "            }\n",
       "            .progress-bar-interrupted, .progress-bar-interrupted::-webkit-progress-bar {\n",
       "                background: #F44336;\n",
       "            }\n",
       "        </style>\n",
       "      <progress value='435' class='' max='1746' style='width:300px; height:20px; vertical-align: middle;'></progress>\n",
       "      24.91% [435/1746 11:15<33:54 0.1292]\n",
       "    </div>\n",
       "    "
      ],
      "text/plain": [
       "<IPython.core.display.HTML object>"
      ]
     },
     "metadata": {
      "tags": []
     },
     "output_type": "display_data"
    },
    {
     "name": "stdout",
     "output_type": "stream",
     "text": [
      "Better model found at epoch 0 with auroc value: 0.7230592966079712.\n"
     ]
    },
    {
     "ename": "KeyboardInterrupt",
     "evalue": "ignored",
     "output_type": "error",
     "traceback": [
      "\u001b[0;31m---------------------------------------------------------------------------\u001b[0m",
      "\u001b[0;31mKeyboardInterrupt\u001b[0m                         Traceback (most recent call last)",
      "\u001b[0;32m<ipython-input-33-a5e6e41d8fb3>\u001b[0m in \u001b[0;36m<module>\u001b[0;34m()\u001b[0m\n\u001b[1;32m      1\u001b[0m learn.fit_one_cycle(2, slice(0.5E-04, 4E-04), moms=(0.8,0.7), \n\u001b[0;32m----> 2\u001b[0;31m                     callbacks=[SaveModelCallback(learn, every='improvement', monitor='auroc', name = 'temp')])\n\u001b[0m",
      "\u001b[0;32m/usr/local/lib/python3.6/dist-packages/fastai/train.py\u001b[0m in \u001b[0;36mfit_one_cycle\u001b[0;34m(learn, cyc_len, max_lr, moms, div_factor, pct_start, final_div, wd, callbacks, tot_epochs, start_epoch)\u001b[0m\n\u001b[1;32m     21\u001b[0m     callbacks.append(OneCycleScheduler(learn, max_lr, moms=moms, div_factor=div_factor, pct_start=pct_start,\n\u001b[1;32m     22\u001b[0m                                        final_div=final_div, tot_epochs=tot_epochs, start_epoch=start_epoch))\n\u001b[0;32m---> 23\u001b[0;31m     \u001b[0mlearn\u001b[0m\u001b[0;34m.\u001b[0m\u001b[0mfit\u001b[0m\u001b[0;34m(\u001b[0m\u001b[0mcyc_len\u001b[0m\u001b[0;34m,\u001b[0m \u001b[0mmax_lr\u001b[0m\u001b[0;34m,\u001b[0m \u001b[0mwd\u001b[0m\u001b[0;34m=\u001b[0m\u001b[0mwd\u001b[0m\u001b[0;34m,\u001b[0m \u001b[0mcallbacks\u001b[0m\u001b[0;34m=\u001b[0m\u001b[0mcallbacks\u001b[0m\u001b[0;34m)\u001b[0m\u001b[0;34m\u001b[0m\u001b[0;34m\u001b[0m\u001b[0m\n\u001b[0m\u001b[1;32m     24\u001b[0m \u001b[0;34m\u001b[0m\u001b[0m\n\u001b[1;32m     25\u001b[0m def fit_fc(learn:Learner, tot_epochs:int=1, lr:float=defaults.lr,  moms:Tuple[float,float]=(0.95,0.85), start_pct:float=0.72,\n",
      "\u001b[0;32m/usr/local/lib/python3.6/dist-packages/fastai/basic_train.py\u001b[0m in \u001b[0;36mfit\u001b[0;34m(self, epochs, lr, wd, callbacks)\u001b[0m\n\u001b[1;32m    198\u001b[0m         \u001b[0;32melse\u001b[0m\u001b[0;34m:\u001b[0m \u001b[0mself\u001b[0m\u001b[0;34m.\u001b[0m\u001b[0mopt\u001b[0m\u001b[0;34m.\u001b[0m\u001b[0mlr\u001b[0m\u001b[0;34m,\u001b[0m\u001b[0mself\u001b[0m\u001b[0;34m.\u001b[0m\u001b[0mopt\u001b[0m\u001b[0;34m.\u001b[0m\u001b[0mwd\u001b[0m \u001b[0;34m=\u001b[0m \u001b[0mlr\u001b[0m\u001b[0;34m,\u001b[0m\u001b[0mwd\u001b[0m\u001b[0;34m\u001b[0m\u001b[0;34m\u001b[0m\u001b[0m\n\u001b[1;32m    199\u001b[0m         \u001b[0mcallbacks\u001b[0m \u001b[0;34m=\u001b[0m \u001b[0;34m[\u001b[0m\u001b[0mcb\u001b[0m\u001b[0;34m(\u001b[0m\u001b[0mself\u001b[0m\u001b[0;34m)\u001b[0m \u001b[0;32mfor\u001b[0m \u001b[0mcb\u001b[0m \u001b[0;32min\u001b[0m \u001b[0mself\u001b[0m\u001b[0;34m.\u001b[0m\u001b[0mcallback_fns\u001b[0m \u001b[0;34m+\u001b[0m \u001b[0mlistify\u001b[0m\u001b[0;34m(\u001b[0m\u001b[0mdefaults\u001b[0m\u001b[0;34m.\u001b[0m\u001b[0mextra_callback_fns\u001b[0m\u001b[0;34m)\u001b[0m\u001b[0;34m]\u001b[0m \u001b[0;34m+\u001b[0m \u001b[0mlistify\u001b[0m\u001b[0;34m(\u001b[0m\u001b[0mcallbacks\u001b[0m\u001b[0;34m)\u001b[0m\u001b[0;34m\u001b[0m\u001b[0;34m\u001b[0m\u001b[0m\n\u001b[0;32m--> 200\u001b[0;31m         \u001b[0mfit\u001b[0m\u001b[0;34m(\u001b[0m\u001b[0mepochs\u001b[0m\u001b[0;34m,\u001b[0m \u001b[0mself\u001b[0m\u001b[0;34m,\u001b[0m \u001b[0mmetrics\u001b[0m\u001b[0;34m=\u001b[0m\u001b[0mself\u001b[0m\u001b[0;34m.\u001b[0m\u001b[0mmetrics\u001b[0m\u001b[0;34m,\u001b[0m \u001b[0mcallbacks\u001b[0m\u001b[0;34m=\u001b[0m\u001b[0mself\u001b[0m\u001b[0;34m.\u001b[0m\u001b[0mcallbacks\u001b[0m\u001b[0;34m+\u001b[0m\u001b[0mcallbacks\u001b[0m\u001b[0;34m)\u001b[0m\u001b[0;34m\u001b[0m\u001b[0;34m\u001b[0m\u001b[0m\n\u001b[0m\u001b[1;32m    201\u001b[0m \u001b[0;34m\u001b[0m\u001b[0m\n\u001b[1;32m    202\u001b[0m     \u001b[0;32mdef\u001b[0m \u001b[0mcreate_opt\u001b[0m\u001b[0;34m(\u001b[0m\u001b[0mself\u001b[0m\u001b[0;34m,\u001b[0m \u001b[0mlr\u001b[0m\u001b[0;34m:\u001b[0m\u001b[0mFloats\u001b[0m\u001b[0;34m,\u001b[0m \u001b[0mwd\u001b[0m\u001b[0;34m:\u001b[0m\u001b[0mFloats\u001b[0m\u001b[0;34m=\u001b[0m\u001b[0;36m0.\u001b[0m\u001b[0;34m)\u001b[0m\u001b[0;34m->\u001b[0m\u001b[0;32mNone\u001b[0m\u001b[0;34m:\u001b[0m\u001b[0;34m\u001b[0m\u001b[0;34m\u001b[0m\u001b[0m\n",
      "\u001b[0;32m/usr/local/lib/python3.6/dist-packages/fastai/basic_train.py\u001b[0m in \u001b[0;36mfit\u001b[0;34m(epochs, learn, callbacks, metrics)\u001b[0m\n\u001b[1;32m     99\u001b[0m             \u001b[0;32mfor\u001b[0m \u001b[0mxb\u001b[0m\u001b[0;34m,\u001b[0m\u001b[0myb\u001b[0m \u001b[0;32min\u001b[0m \u001b[0mprogress_bar\u001b[0m\u001b[0;34m(\u001b[0m\u001b[0mlearn\u001b[0m\u001b[0;34m.\u001b[0m\u001b[0mdata\u001b[0m\u001b[0;34m.\u001b[0m\u001b[0mtrain_dl\u001b[0m\u001b[0;34m,\u001b[0m \u001b[0mparent\u001b[0m\u001b[0;34m=\u001b[0m\u001b[0mpbar\u001b[0m\u001b[0;34m)\u001b[0m\u001b[0;34m:\u001b[0m\u001b[0;34m\u001b[0m\u001b[0;34m\u001b[0m\u001b[0m\n\u001b[1;32m    100\u001b[0m                 \u001b[0mxb\u001b[0m\u001b[0;34m,\u001b[0m \u001b[0myb\u001b[0m \u001b[0;34m=\u001b[0m \u001b[0mcb_handler\u001b[0m\u001b[0;34m.\u001b[0m\u001b[0mon_batch_begin\u001b[0m\u001b[0;34m(\u001b[0m\u001b[0mxb\u001b[0m\u001b[0;34m,\u001b[0m \u001b[0myb\u001b[0m\u001b[0;34m)\u001b[0m\u001b[0;34m\u001b[0m\u001b[0;34m\u001b[0m\u001b[0m\n\u001b[0;32m--> 101\u001b[0;31m                 \u001b[0mloss\u001b[0m \u001b[0;34m=\u001b[0m \u001b[0mloss_batch\u001b[0m\u001b[0;34m(\u001b[0m\u001b[0mlearn\u001b[0m\u001b[0;34m.\u001b[0m\u001b[0mmodel\u001b[0m\u001b[0;34m,\u001b[0m \u001b[0mxb\u001b[0m\u001b[0;34m,\u001b[0m \u001b[0myb\u001b[0m\u001b[0;34m,\u001b[0m \u001b[0mlearn\u001b[0m\u001b[0;34m.\u001b[0m\u001b[0mloss_func\u001b[0m\u001b[0;34m,\u001b[0m \u001b[0mlearn\u001b[0m\u001b[0;34m.\u001b[0m\u001b[0mopt\u001b[0m\u001b[0;34m,\u001b[0m \u001b[0mcb_handler\u001b[0m\u001b[0;34m)\u001b[0m\u001b[0;34m\u001b[0m\u001b[0;34m\u001b[0m\u001b[0m\n\u001b[0m\u001b[1;32m    102\u001b[0m                 \u001b[0;32mif\u001b[0m \u001b[0mcb_handler\u001b[0m\u001b[0;34m.\u001b[0m\u001b[0mon_batch_end\u001b[0m\u001b[0;34m(\u001b[0m\u001b[0mloss\u001b[0m\u001b[0;34m)\u001b[0m\u001b[0;34m:\u001b[0m \u001b[0;32mbreak\u001b[0m\u001b[0;34m\u001b[0m\u001b[0;34m\u001b[0m\u001b[0m\n\u001b[1;32m    103\u001b[0m \u001b[0;34m\u001b[0m\u001b[0m\n",
      "\u001b[0;32m/usr/local/lib/python3.6/dist-packages/fastai/basic_train.py\u001b[0m in \u001b[0;36mloss_batch\u001b[0;34m(model, xb, yb, loss_func, opt, cb_handler)\u001b[0m\n\u001b[1;32m     33\u001b[0m         \u001b[0mloss\u001b[0m\u001b[0;34m,\u001b[0m\u001b[0mskip_bwd\u001b[0m \u001b[0;34m=\u001b[0m \u001b[0mcb_handler\u001b[0m\u001b[0;34m.\u001b[0m\u001b[0mon_backward_begin\u001b[0m\u001b[0;34m(\u001b[0m\u001b[0mloss\u001b[0m\u001b[0;34m)\u001b[0m\u001b[0;34m\u001b[0m\u001b[0;34m\u001b[0m\u001b[0m\n\u001b[1;32m     34\u001b[0m         \u001b[0;32mif\u001b[0m \u001b[0;32mnot\u001b[0m \u001b[0mskip_bwd\u001b[0m\u001b[0;34m:\u001b[0m                     \u001b[0mloss\u001b[0m\u001b[0;34m.\u001b[0m\u001b[0mbackward\u001b[0m\u001b[0;34m(\u001b[0m\u001b[0;34m)\u001b[0m\u001b[0;34m\u001b[0m\u001b[0;34m\u001b[0m\u001b[0m\n\u001b[0;32m---> 35\u001b[0;31m         \u001b[0;32mif\u001b[0m \u001b[0;32mnot\u001b[0m \u001b[0mcb_handler\u001b[0m\u001b[0;34m.\u001b[0m\u001b[0mon_backward_end\u001b[0m\u001b[0;34m(\u001b[0m\u001b[0;34m)\u001b[0m\u001b[0;34m:\u001b[0m \u001b[0mopt\u001b[0m\u001b[0;34m.\u001b[0m\u001b[0mstep\u001b[0m\u001b[0;34m(\u001b[0m\u001b[0;34m)\u001b[0m\u001b[0;34m\u001b[0m\u001b[0;34m\u001b[0m\u001b[0m\n\u001b[0m\u001b[1;32m     36\u001b[0m         \u001b[0;32mif\u001b[0m \u001b[0;32mnot\u001b[0m \u001b[0mcb_handler\u001b[0m\u001b[0;34m.\u001b[0m\u001b[0mon_step_end\u001b[0m\u001b[0;34m(\u001b[0m\u001b[0;34m)\u001b[0m\u001b[0;34m:\u001b[0m     \u001b[0mopt\u001b[0m\u001b[0;34m.\u001b[0m\u001b[0mzero_grad\u001b[0m\u001b[0;34m(\u001b[0m\u001b[0;34m)\u001b[0m\u001b[0;34m\u001b[0m\u001b[0;34m\u001b[0m\u001b[0m\n\u001b[1;32m     37\u001b[0m \u001b[0;34m\u001b[0m\u001b[0m\n",
      "\u001b[0;32m/usr/local/lib/python3.6/dist-packages/fastai/callback.py\u001b[0m in \u001b[0;36mon_backward_end\u001b[0;34m(self)\u001b[0m\n\u001b[1;32m    295\u001b[0m     \u001b[0;32mdef\u001b[0m \u001b[0mon_backward_end\u001b[0m\u001b[0;34m(\u001b[0m\u001b[0mself\u001b[0m\u001b[0;34m)\u001b[0m\u001b[0;34m->\u001b[0m\u001b[0mAny\u001b[0m\u001b[0;34m:\u001b[0m\u001b[0;34m\u001b[0m\u001b[0;34m\u001b[0m\u001b[0m\n\u001b[1;32m    296\u001b[0m         \u001b[0;34m\"Handle end of gradient calculation.\"\u001b[0m\u001b[0;34m\u001b[0m\u001b[0;34m\u001b[0m\u001b[0m\n\u001b[0;32m--> 297\u001b[0;31m         \u001b[0mself\u001b[0m\u001b[0;34m(\u001b[0m\u001b[0;34m'backward_end'\u001b[0m\u001b[0;34m,\u001b[0m \u001b[0mcall_mets\u001b[0m\u001b[0;34m=\u001b[0m\u001b[0;32mFalse\u001b[0m\u001b[0;34m)\u001b[0m\u001b[0;34m\u001b[0m\u001b[0;34m\u001b[0m\u001b[0m\n\u001b[0m\u001b[1;32m    298\u001b[0m         \u001b[0;32mreturn\u001b[0m \u001b[0mself\u001b[0m\u001b[0;34m.\u001b[0m\u001b[0mstate_dict\u001b[0m\u001b[0;34m[\u001b[0m\u001b[0;34m'skip_step'\u001b[0m\u001b[0;34m]\u001b[0m\u001b[0;34m\u001b[0m\u001b[0;34m\u001b[0m\u001b[0m\n\u001b[1;32m    299\u001b[0m \u001b[0;34m\u001b[0m\u001b[0m\n",
      "\u001b[0;32m/usr/local/lib/python3.6/dist-packages/fastai/callback.py\u001b[0m in \u001b[0;36m__call__\u001b[0;34m(self, cb_name, call_mets, **kwargs)\u001b[0m\n\u001b[1;32m    249\u001b[0m         \u001b[0;32mif\u001b[0m \u001b[0mcall_mets\u001b[0m\u001b[0;34m:\u001b[0m\u001b[0;34m\u001b[0m\u001b[0;34m\u001b[0m\u001b[0m\n\u001b[1;32m    250\u001b[0m             \u001b[0;32mfor\u001b[0m \u001b[0mmet\u001b[0m \u001b[0;32min\u001b[0m \u001b[0mself\u001b[0m\u001b[0;34m.\u001b[0m\u001b[0mmetrics\u001b[0m\u001b[0;34m:\u001b[0m \u001b[0mself\u001b[0m\u001b[0;34m.\u001b[0m\u001b[0m_call_and_update\u001b[0m\u001b[0;34m(\u001b[0m\u001b[0mmet\u001b[0m\u001b[0;34m,\u001b[0m \u001b[0mcb_name\u001b[0m\u001b[0;34m,\u001b[0m \u001b[0;34m**\u001b[0m\u001b[0mkwargs\u001b[0m\u001b[0;34m)\u001b[0m\u001b[0;34m\u001b[0m\u001b[0;34m\u001b[0m\u001b[0m\n\u001b[0;32m--> 251\u001b[0;31m         \u001b[0;32mfor\u001b[0m \u001b[0mcb\u001b[0m \u001b[0;32min\u001b[0m \u001b[0mself\u001b[0m\u001b[0;34m.\u001b[0m\u001b[0mcallbacks\u001b[0m\u001b[0;34m:\u001b[0m \u001b[0mself\u001b[0m\u001b[0;34m.\u001b[0m\u001b[0m_call_and_update\u001b[0m\u001b[0;34m(\u001b[0m\u001b[0mcb\u001b[0m\u001b[0;34m,\u001b[0m \u001b[0mcb_name\u001b[0m\u001b[0;34m,\u001b[0m \u001b[0;34m**\u001b[0m\u001b[0mkwargs\u001b[0m\u001b[0;34m)\u001b[0m\u001b[0;34m\u001b[0m\u001b[0;34m\u001b[0m\u001b[0m\n\u001b[0m\u001b[1;32m    252\u001b[0m \u001b[0;34m\u001b[0m\u001b[0m\n\u001b[1;32m    253\u001b[0m     \u001b[0;32mdef\u001b[0m \u001b[0mset_dl\u001b[0m\u001b[0;34m(\u001b[0m\u001b[0mself\u001b[0m\u001b[0;34m,\u001b[0m \u001b[0mdl\u001b[0m\u001b[0;34m:\u001b[0m\u001b[0mDataLoader\u001b[0m\u001b[0;34m)\u001b[0m\u001b[0;34m:\u001b[0m\u001b[0;34m\u001b[0m\u001b[0;34m\u001b[0m\u001b[0m\n",
      "\u001b[0;32m/usr/local/lib/python3.6/dist-packages/fastai/callback.py\u001b[0m in \u001b[0;36m_call_and_update\u001b[0;34m(self, cb, cb_name, **kwargs)\u001b[0m\n\u001b[1;32m    239\u001b[0m     \u001b[0;32mdef\u001b[0m \u001b[0m_call_and_update\u001b[0m\u001b[0;34m(\u001b[0m\u001b[0mself\u001b[0m\u001b[0;34m,\u001b[0m \u001b[0mcb\u001b[0m\u001b[0;34m,\u001b[0m \u001b[0mcb_name\u001b[0m\u001b[0;34m,\u001b[0m \u001b[0;34m**\u001b[0m\u001b[0mkwargs\u001b[0m\u001b[0;34m)\u001b[0m\u001b[0;34m->\u001b[0m\u001b[0;32mNone\u001b[0m\u001b[0;34m:\u001b[0m\u001b[0;34m\u001b[0m\u001b[0;34m\u001b[0m\u001b[0m\n\u001b[1;32m    240\u001b[0m         \u001b[0;34m\"Call `cb_name` on `cb` and update the inner state.\"\u001b[0m\u001b[0;34m\u001b[0m\u001b[0;34m\u001b[0m\u001b[0m\n\u001b[0;32m--> 241\u001b[0;31m         \u001b[0mnew\u001b[0m \u001b[0;34m=\u001b[0m \u001b[0mifnone\u001b[0m\u001b[0;34m(\u001b[0m\u001b[0mgetattr\u001b[0m\u001b[0;34m(\u001b[0m\u001b[0mcb\u001b[0m\u001b[0;34m,\u001b[0m \u001b[0;34mf'on_{cb_name}'\u001b[0m\u001b[0;34m)\u001b[0m\u001b[0;34m(\u001b[0m\u001b[0;34m**\u001b[0m\u001b[0mself\u001b[0m\u001b[0;34m.\u001b[0m\u001b[0mstate_dict\u001b[0m\u001b[0;34m,\u001b[0m \u001b[0;34m**\u001b[0m\u001b[0mkwargs\u001b[0m\u001b[0;34m)\u001b[0m\u001b[0;34m,\u001b[0m \u001b[0mdict\u001b[0m\u001b[0;34m(\u001b[0m\u001b[0;34m)\u001b[0m\u001b[0;34m)\u001b[0m\u001b[0;34m\u001b[0m\u001b[0;34m\u001b[0m\u001b[0m\n\u001b[0m\u001b[1;32m    242\u001b[0m         \u001b[0;32mfor\u001b[0m \u001b[0mk\u001b[0m\u001b[0;34m,\u001b[0m\u001b[0mv\u001b[0m \u001b[0;32min\u001b[0m \u001b[0mnew\u001b[0m\u001b[0;34m.\u001b[0m\u001b[0mitems\u001b[0m\u001b[0;34m(\u001b[0m\u001b[0;34m)\u001b[0m\u001b[0;34m:\u001b[0m\u001b[0;34m\u001b[0m\u001b[0;34m\u001b[0m\u001b[0m\n\u001b[1;32m    243\u001b[0m             \u001b[0;32mif\u001b[0m \u001b[0mk\u001b[0m \u001b[0;32mnot\u001b[0m \u001b[0;32min\u001b[0m \u001b[0mself\u001b[0m\u001b[0;34m.\u001b[0m\u001b[0mstate_dict\u001b[0m\u001b[0;34m:\u001b[0m\u001b[0;34m\u001b[0m\u001b[0;34m\u001b[0m\u001b[0m\n",
      "\u001b[0;32m/usr/local/lib/python3.6/dist-packages/fastai/callbacks/fp16.py\u001b[0m in \u001b[0;36mon_backward_end\u001b[0;34m(self, **kwargs)\u001b[0m\n\u001b[1;32m     99\u001b[0m     \u001b[0;32mdef\u001b[0m \u001b[0mon_backward_end\u001b[0m\u001b[0;34m(\u001b[0m\u001b[0mself\u001b[0m\u001b[0;34m,\u001b[0m \u001b[0;34m**\u001b[0m\u001b[0mkwargs\u001b[0m\u001b[0;34m:\u001b[0m\u001b[0mAny\u001b[0m\u001b[0;34m)\u001b[0m\u001b[0;34m->\u001b[0m\u001b[0;32mNone\u001b[0m\u001b[0;34m:\u001b[0m\u001b[0;34m\u001b[0m\u001b[0;34m\u001b[0m\u001b[0m\n\u001b[1;32m    100\u001b[0m         \u001b[0;34m\"Convert the gradients back to FP32 and divide them by the scale.\"\u001b[0m\u001b[0;34m\u001b[0m\u001b[0;34m\u001b[0m\u001b[0m\n\u001b[0;32m--> 101\u001b[0;31m         \u001b[0;32mif\u001b[0m \u001b[0mself\u001b[0m\u001b[0;34m.\u001b[0m\u001b[0mdynamic\u001b[0m \u001b[0;32mand\u001b[0m \u001b[0mgrad_overflow\u001b[0m\u001b[0;34m(\u001b[0m\u001b[0mself\u001b[0m\u001b[0;34m.\u001b[0m\u001b[0mmodel_params\u001b[0m\u001b[0;34m)\u001b[0m \u001b[0;32mand\u001b[0m \u001b[0mself\u001b[0m\u001b[0;34m.\u001b[0m\u001b[0mloss_scale\u001b[0m \u001b[0;34m>\u001b[0m \u001b[0;36m1\u001b[0m\u001b[0;34m:\u001b[0m\u001b[0;34m\u001b[0m\u001b[0;34m\u001b[0m\u001b[0m\n\u001b[0m\u001b[1;32m    102\u001b[0m             \u001b[0mself\u001b[0m\u001b[0;34m.\u001b[0m\u001b[0mloss_scale\u001b[0m \u001b[0;34m/=\u001b[0m \u001b[0;36m2\u001b[0m\u001b[0;34m\u001b[0m\u001b[0;34m\u001b[0m\u001b[0m\n\u001b[1;32m    103\u001b[0m             \u001b[0mself\u001b[0m\u001b[0;34m.\u001b[0m\u001b[0mnoskip\u001b[0m \u001b[0;34m=\u001b[0m \u001b[0;36m0\u001b[0m\u001b[0;34m\u001b[0m\u001b[0;34m\u001b[0m\u001b[0m\n",
      "\u001b[0;32m/usr/local/lib/python3.6/dist-packages/fastai/callbacks/fp16.py\u001b[0m in \u001b[0;36mgrad_overflow\u001b[0;34m(param_group)\u001b[0m\n\u001b[1;32m     58\u001b[0m         \u001b[0;32mfor\u001b[0m \u001b[0mp\u001b[0m \u001b[0;32min\u001b[0m \u001b[0mgroup\u001b[0m\u001b[0;34m:\u001b[0m\u001b[0;34m\u001b[0m\u001b[0;34m\u001b[0m\u001b[0m\n\u001b[1;32m     59\u001b[0m             \u001b[0;32mif\u001b[0m \u001b[0mp\u001b[0m\u001b[0;34m.\u001b[0m\u001b[0mgrad\u001b[0m \u001b[0;32mis\u001b[0m \u001b[0;32mnot\u001b[0m \u001b[0;32mNone\u001b[0m\u001b[0;34m:\u001b[0m\u001b[0;34m\u001b[0m\u001b[0;34m\u001b[0m\u001b[0m\n\u001b[0;32m---> 60\u001b[0;31m                 \u001b[0ms\u001b[0m \u001b[0;34m=\u001b[0m \u001b[0mfloat\u001b[0m\u001b[0;34m(\u001b[0m\u001b[0mp\u001b[0m\u001b[0;34m.\u001b[0m\u001b[0mgrad\u001b[0m\u001b[0;34m.\u001b[0m\u001b[0mdata\u001b[0m\u001b[0;34m.\u001b[0m\u001b[0mfloat\u001b[0m\u001b[0;34m(\u001b[0m\u001b[0;34m)\u001b[0m\u001b[0;34m.\u001b[0m\u001b[0msum\u001b[0m\u001b[0;34m(\u001b[0m\u001b[0;34m)\u001b[0m\u001b[0;34m)\u001b[0m\u001b[0;34m\u001b[0m\u001b[0;34m\u001b[0m\u001b[0m\n\u001b[0m\u001b[1;32m     61\u001b[0m                 \u001b[0;32mif\u001b[0m \u001b[0ms\u001b[0m \u001b[0;34m==\u001b[0m \u001b[0mfloat\u001b[0m\u001b[0;34m(\u001b[0m\u001b[0;34m'inf'\u001b[0m\u001b[0;34m)\u001b[0m \u001b[0;32mor\u001b[0m \u001b[0ms\u001b[0m \u001b[0;34m==\u001b[0m \u001b[0mfloat\u001b[0m\u001b[0;34m(\u001b[0m\u001b[0;34m'-inf'\u001b[0m\u001b[0;34m)\u001b[0m \u001b[0;32mor\u001b[0m \u001b[0ms\u001b[0m \u001b[0;34m!=\u001b[0m \u001b[0ms\u001b[0m\u001b[0;34m:\u001b[0m \u001b[0;32mreturn\u001b[0m \u001b[0;32mTrue\u001b[0m\u001b[0;34m\u001b[0m\u001b[0;34m\u001b[0m\u001b[0m\n\u001b[1;32m     62\u001b[0m     \u001b[0;32mreturn\u001b[0m \u001b[0;32mFalse\u001b[0m\u001b[0;34m\u001b[0m\u001b[0;34m\u001b[0m\u001b[0m\n",
      "\u001b[0;31mKeyboardInterrupt\u001b[0m: "
     ]
    }
   ],
   "source": [
    "learn.fit_one_cycle(2, slice(0.5E-04, 4E-04), moms=(0.8,0.7), \n",
    "                    callbacks=[SaveModelCallback(learn, every='improvement', monitor='auroc', name = 'temp')])"
   ]
  },
  {
   "cell_type": "code",
   "execution_count": 0,
   "metadata": {
    "colab": {},
    "colab_type": "code",
    "id": "BHd_4aQIJtIB"
   },
   "outputs": [],
   "source": [
    "learn.save(\"temp\")"
   ]
  }
 ],
 "metadata": {
  "accelerator": "GPU",
  "colab": {
   "authorship_tag": "ABX9TyO5wZmq8UI+HjucxOdyakSF",
   "mount_file_id": "1APZgH6MN4MaLk_LLFCnpZUR8_NoWirxe",
   "name": "JigsawToxicComment - Kaggle2020.ipynb",
   "provenance": []
  },
  "kernelspec": {
   "display_name": "Python 3",
   "language": "python",
   "name": "python3"
  },
  "language_info": {
   "codemirror_mode": {
    "name": "ipython",
    "version": 3
   },
   "file_extension": ".py",
   "mimetype": "text/x-python",
   "name": "python",
   "nbconvert_exporter": "python",
   "pygments_lexer": "ipython3",
   "version": "3.7.7"
  }
 },
 "nbformat": 4,
 "nbformat_minor": 1
}
